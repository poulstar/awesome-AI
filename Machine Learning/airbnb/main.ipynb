{
 "cells": [
  {
   "cell_type": "markdown",
   "id": "ea69eb4f",
   "metadata": {
    "papermill": {
     "duration": 0.017298,
     "end_time": "2022-08-10T05:50:54.850780",
     "exception": false,
     "start_time": "2022-08-10T05:50:54.833482",
     "status": "completed"
    },
    "tags": []
   },
   "source": [
    "## Importing the libraries"
   ]
  },
  {
   "cell_type": "code",
   "execution_count": null,
   "id": "dfce3c30",
   "metadata": {
    "execution": {
     "iopub.execute_input": "2022-08-10T05:50:54.955060Z",
     "iopub.status.busy": "2022-08-10T05:50:54.954350Z",
     "iopub.status.idle": "2022-08-10T05:50:56.614572Z",
     "shell.execute_reply": "2022-08-10T05:50:56.613468Z"
    },
    "papermill": {
     "duration": 1.687424,
     "end_time": "2022-08-10T05:50:56.617565",
     "exception": false,
     "start_time": "2022-08-10T05:50:54.930141",
     "status": "completed"
    },
    "tags": []
   },
   "outputs": [],
   "source": [
    "%matplotlib inline\n",
    "import numpy as np\n",
    "import pandas as pd\n",
    "import matplotlib.pyplot as plt\n",
    "import seaborn as sns\n",
    "import re\n",
    "import time\n",
    "\n",
    "from sklearn.model_selection import train_test_split\n",
    "from sklearn.model_selection import cross_val_score, KFold\n",
    "from sklearn.metrics import mean_squared_error\n",
    "from sklearn.metrics import mean_absolute_error\n",
    "from sklearn.metrics import r2_score\n",
    "\n",
    "from sklearn.ensemble import RandomForestRegressor\n",
    "from sklearn.linear_model import  ElasticNet, Lasso, LinearRegression, Ridge\n",
    "from sklearn.neighbors import KNeighborsRegressor\n",
    "from sklearn.metrics import mean_squared_error\n",
    "from sklearn.model_selection import GridSearchCV\n",
    "from sklearn.tree import DecisionTreeRegressor\n",
    "from xgboost import XGBRegressor\n",
    "\n",
    "import joblib\n",
    "\n",
    "import warnings\n",
    "warnings.filterwarnings('ignore')"
   ]
  },
  {
   "cell_type": "markdown",
   "id": "bce3c50f",
   "metadata": {
    "papermill": {
     "duration": 0.016717,
     "end_time": "2022-08-10T05:50:56.651393",
     "exception": false,
     "start_time": "2022-08-10T05:50:56.634676",
     "status": "completed"
    },
    "tags": []
   },
   "source": [
    "## Load and Prepare Data"
   ]
  },
  {
   "cell_type": "code",
   "execution_count": null,
   "id": "66fba2f4",
   "metadata": {
    "execution": {
     "iopub.execute_input": "2022-08-10T05:50:56.688602Z",
     "iopub.status.busy": "2022-08-10T05:50:56.687770Z",
     "iopub.status.idle": "2022-08-10T05:50:56.751417Z",
     "shell.execute_reply": "2022-08-10T05:50:56.749987Z"
    },
    "papermill": {
     "duration": 0.086474,
     "end_time": "2022-08-10T05:50:56.754958",
     "exception": false,
     "start_time": "2022-08-10T05:50:56.668484",
     "status": "completed"
    },
    "scrolled": true,
    "tags": []
   },
   "outputs": [],
   "source": [
    "#Read the dataset and print the top 5 elements of the dataset\n",
    "df = pd.read_csv('housePrice.csv')\n",
    "df.head()"
   ]
  },
  {
   "cell_type": "code",
   "execution_count": null,
   "id": "d63d38f9",
   "metadata": {
    "execution": {
     "iopub.execute_input": "2022-08-10T05:50:56.793590Z",
     "iopub.status.busy": "2022-08-10T05:50:56.792702Z",
     "iopub.status.idle": "2022-08-10T05:50:56.815749Z",
     "shell.execute_reply": "2022-08-10T05:50:56.814139Z"
    },
    "papermill": {
     "duration": 0.045649,
     "end_time": "2022-08-10T05:50:56.818571",
     "exception": false,
     "start_time": "2022-08-10T05:50:56.772922",
     "status": "completed"
    },
    "tags": []
   },
   "outputs": [],
   "source": [
    "df.sample(5)"
   ]
  },
  {
   "cell_type": "code",
   "execution_count": null,
   "id": "323bb81e",
   "metadata": {
    "execution": {
     "iopub.execute_input": "2022-08-10T05:50:56.860336Z",
     "iopub.status.busy": "2022-08-10T05:50:56.858672Z",
     "iopub.status.idle": "2022-08-10T05:50:56.869837Z",
     "shell.execute_reply": "2022-08-10T05:50:56.868028Z"
    },
    "papermill": {
     "duration": 0.036289,
     "end_time": "2022-08-10T05:50:56.873266",
     "exception": false,
     "start_time": "2022-08-10T05:50:56.836977",
     "status": "completed"
    },
    "tags": []
   },
   "outputs": [],
   "source": [
    "type(df)"
   ]
  },
  {
   "cell_type": "markdown",
   "id": "35b7084a",
   "metadata": {
    "papermill": {
     "duration": 0.024952,
     "end_time": "2022-08-10T05:50:56.920302",
     "exception": false,
     "start_time": "2022-08-10T05:50:56.895350",
     "status": "completed"
    },
    "tags": []
   },
   "source": [
    "# Explore the data (EDA)"
   ]
  },
  {
   "cell_type": "code",
   "execution_count": null,
   "id": "a27c0ceb",
   "metadata": {
    "execution": {
     "iopub.execute_input": "2022-08-10T05:50:56.979962Z",
     "iopub.status.busy": "2022-08-10T05:50:56.978885Z",
     "iopub.status.idle": "2022-08-10T05:50:56.989548Z",
     "shell.execute_reply": "2022-08-10T05:50:56.987243Z"
    },
    "papermill": {
     "duration": 0.042136,
     "end_time": "2022-08-10T05:50:56.993764",
     "exception": false,
     "start_time": "2022-08-10T05:50:56.951628",
     "status": "completed"
    },
    "tags": []
   },
   "outputs": [],
   "source": [
    "df.columns"
   ]
  },
  {
   "cell_type": "code",
   "execution_count": null,
   "id": "1e6c33dc",
   "metadata": {
    "execution": {
     "iopub.execute_input": "2022-08-10T05:50:57.033624Z",
     "iopub.status.busy": "2022-08-10T05:50:57.033133Z",
     "iopub.status.idle": "2022-08-10T05:50:57.059550Z",
     "shell.execute_reply": "2022-08-10T05:50:57.058228Z"
    },
    "papermill": {
     "duration": 0.048619,
     "end_time": "2022-08-10T05:50:57.062069",
     "exception": false,
     "start_time": "2022-08-10T05:50:57.013450",
     "status": "completed"
    },
    "tags": []
   },
   "outputs": [],
   "source": [
    "df.info()"
   ]
  },
  {
   "cell_type": "code",
   "execution_count": null,
   "id": "54e53093",
   "metadata": {
    "execution": {
     "iopub.execute_input": "2022-08-10T05:50:57.101049Z",
     "iopub.status.busy": "2022-08-10T05:50:57.100043Z",
     "iopub.status.idle": "2022-08-10T05:50:57.126236Z",
     "shell.execute_reply": "2022-08-10T05:50:57.124773Z"
    },
    "papermill": {
     "duration": 0.048505,
     "end_time": "2022-08-10T05:50:57.129098",
     "exception": false,
     "start_time": "2022-08-10T05:50:57.080593",
     "status": "completed"
    },
    "tags": []
   },
   "outputs": [],
   "source": [
    "df.describe()"
   ]
  },
  {
   "cell_type": "code",
   "execution_count": null,
   "id": "b03fc0c0",
   "metadata": {
    "execution": {
     "iopub.execute_input": "2022-08-10T05:50:57.167138Z",
     "iopub.status.busy": "2022-08-10T05:50:57.166694Z",
     "iopub.status.idle": "2022-08-10T05:50:57.181068Z",
     "shell.execute_reply": "2022-08-10T05:50:57.179794Z"
    },
    "papermill": {
     "duration": 0.036283,
     "end_time": "2022-08-10T05:50:57.183463",
     "exception": false,
     "start_time": "2022-08-10T05:50:57.147180",
     "status": "completed"
    },
    "tags": []
   },
   "outputs": [],
   "source": [
    "df['Area'] = df['Area'].apply(lambda x: re.sub(',', '', x))\n",
    "df[\"Area\"] = pd.to_numeric(df[\"Area\"] , errors='coerce')"
   ]
  },
  {
   "cell_type": "code",
   "execution_count": null,
   "id": "764bd179",
   "metadata": {
    "execution": {
     "iopub.execute_input": "2022-08-10T05:50:57.221714Z",
     "iopub.status.busy": "2022-08-10T05:50:57.221063Z",
     "iopub.status.idle": "2022-08-10T05:50:57.236370Z",
     "shell.execute_reply": "2022-08-10T05:50:57.234583Z"
    },
    "papermill": {
     "duration": 0.037496,
     "end_time": "2022-08-10T05:50:57.239208",
     "exception": false,
     "start_time": "2022-08-10T05:50:57.201712",
     "status": "completed"
    },
    "tags": []
   },
   "outputs": [],
   "source": [
    "df.info()"
   ]
  },
  {
   "cell_type": "code",
   "execution_count": null,
   "id": "78e82372",
   "metadata": {
    "execution": {
     "iopub.execute_input": "2022-08-10T05:50:57.278078Z",
     "iopub.status.busy": "2022-08-10T05:50:57.277348Z",
     "iopub.status.idle": "2022-08-10T05:50:57.296712Z",
     "shell.execute_reply": "2022-08-10T05:50:57.295584Z"
    },
    "papermill": {
     "duration": 0.041308,
     "end_time": "2022-08-10T05:50:57.298982",
     "exception": false,
     "start_time": "2022-08-10T05:50:57.257674",
     "status": "completed"
    },
    "tags": []
   },
   "outputs": [],
   "source": [
    "df"
   ]
  },
  {
   "cell_type": "code",
   "execution_count": null,
   "id": "b264b651",
   "metadata": {
    "execution": {
     "iopub.execute_input": "2022-08-10T05:50:57.337912Z",
     "iopub.status.busy": "2022-08-10T05:50:57.337130Z",
     "iopub.status.idle": "2022-08-10T05:50:57.343761Z",
     "shell.execute_reply": "2022-08-10T05:50:57.342743Z"
    },
    "papermill": {
     "duration": 0.028536,
     "end_time": "2022-08-10T05:50:57.345992",
     "exception": false,
     "start_time": "2022-08-10T05:50:57.317456",
     "status": "completed"
    },
    "tags": []
   },
   "outputs": [],
   "source": [
    "df.shape"
   ]
  },
  {
   "cell_type": "code",
   "execution_count": null,
   "id": "c5c54f74",
   "metadata": {
    "execution": {
     "iopub.execute_input": "2022-08-10T05:50:57.385618Z",
     "iopub.status.busy": "2022-08-10T05:50:57.385142Z",
     "iopub.status.idle": "2022-08-10T05:50:57.391571Z",
     "shell.execute_reply": "2022-08-10T05:50:57.390310Z"
    },
    "papermill": {
     "duration": 0.031099,
     "end_time": "2022-08-10T05:50:57.395749",
     "exception": false,
     "start_time": "2022-08-10T05:50:57.364650",
     "status": "completed"
    },
    "tags": []
   },
   "outputs": [],
   "source": [
    "# check for data type\n",
    "print(df.dtypes)"
   ]
  },
  {
   "cell_type": "code",
   "execution_count": null,
   "id": "e6f869c9",
   "metadata": {
    "execution": {
     "iopub.execute_input": "2022-08-10T05:50:57.436369Z",
     "iopub.status.busy": "2022-08-10T05:50:57.435535Z",
     "iopub.status.idle": "2022-08-10T05:50:57.446614Z",
     "shell.execute_reply": "2022-08-10T05:50:57.445341Z"
    },
    "papermill": {
     "duration": 0.034449,
     "end_time": "2022-08-10T05:50:57.449124",
     "exception": false,
     "start_time": "2022-08-10T05:50:57.414675",
     "status": "completed"
    },
    "tags": []
   },
   "outputs": [],
   "source": [
    "df.isnull().sum()"
   ]
  },
  {
   "cell_type": "code",
   "execution_count": null,
   "id": "daee6385",
   "metadata": {
    "execution": {
     "iopub.execute_input": "2022-08-10T05:50:57.490016Z",
     "iopub.status.busy": "2022-08-10T05:50:57.489289Z",
     "iopub.status.idle": "2022-08-10T05:50:57.497880Z",
     "shell.execute_reply": "2022-08-10T05:50:57.496825Z"
    },
    "papermill": {
     "duration": 0.032331,
     "end_time": "2022-08-10T05:50:57.500709",
     "exception": false,
     "start_time": "2022-08-10T05:50:57.468378",
     "status": "completed"
    },
    "tags": []
   },
   "outputs": [],
   "source": [
    "# I will drop missing values although it is not necessary because used models can manage missing values.\n",
    "df.dropna(inplace=True)"
   ]
  },
  {
   "cell_type": "code",
   "execution_count": null,
   "id": "dbcfed44",
   "metadata": {
    "execution": {
     "iopub.execute_input": "2022-08-10T05:50:57.541272Z",
     "iopub.status.busy": "2022-08-10T05:50:57.540621Z",
     "iopub.status.idle": "2022-08-10T05:50:57.547194Z",
     "shell.execute_reply": "2022-08-10T05:50:57.545986Z"
    },
    "papermill": {
     "duration": 0.029328,
     "end_time": "2022-08-10T05:50:57.549479",
     "exception": false,
     "start_time": "2022-08-10T05:50:57.520151",
     "status": "completed"
    },
    "tags": []
   },
   "outputs": [],
   "source": [
    "df.shape"
   ]
  },
  {
   "cell_type": "code",
   "execution_count": null,
   "id": "bba02fb6",
   "metadata": {
    "execution": {
     "iopub.execute_input": "2022-08-10T05:50:57.589767Z",
     "iopub.status.busy": "2022-08-10T05:50:57.589057Z",
     "iopub.status.idle": "2022-08-10T05:50:57.597964Z",
     "shell.execute_reply": "2022-08-10T05:50:57.596888Z"
    },
    "papermill": {
     "duration": 0.031618,
     "end_time": "2022-08-10T05:50:57.600214",
     "exception": false,
     "start_time": "2022-08-10T05:50:57.568596",
     "status": "completed"
    },
    "tags": []
   },
   "outputs": [],
   "source": [
    "df['Parking'].value_counts(normalize=True)*100"
   ]
  },
  {
   "cell_type": "code",
   "execution_count": null,
   "id": "acefd2c9",
   "metadata": {
    "execution": {
     "iopub.execute_input": "2022-08-10T05:50:57.640066Z",
     "iopub.status.busy": "2022-08-10T05:50:57.639457Z",
     "iopub.status.idle": "2022-08-10T05:50:57.667955Z",
     "shell.execute_reply": "2022-08-10T05:50:57.666982Z"
    },
    "papermill": {
     "duration": 0.051214,
     "end_time": "2022-08-10T05:50:57.670183",
     "exception": false,
     "start_time": "2022-08-10T05:50:57.618969",
     "status": "completed"
    },
    "tags": []
   },
   "outputs": [],
   "source": [
    "pd.crosstab( df.Parking, df.Room )"
   ]
  },
  {
   "cell_type": "code",
   "execution_count": null,
   "id": "add7360d",
   "metadata": {
    "execution": {
     "iopub.execute_input": "2022-08-10T05:50:57.710882Z",
     "iopub.status.busy": "2022-08-10T05:50:57.710207Z",
     "iopub.status.idle": "2022-08-10T05:50:57.717776Z",
     "shell.execute_reply": "2022-08-10T05:50:57.716642Z"
    },
    "papermill": {
     "duration": 0.030515,
     "end_time": "2022-08-10T05:50:57.720019",
     "exception": false,
     "start_time": "2022-08-10T05:50:57.689504",
     "status": "completed"
    },
    "tags": []
   },
   "outputs": [],
   "source": [
    "below_85 = df[ df.Area <= 85 ]\n",
    "len(below_85)"
   ]
  },
  {
   "cell_type": "code",
   "execution_count": null,
   "id": "580e6062",
   "metadata": {
    "execution": {
     "iopub.execute_input": "2022-08-10T05:50:57.761274Z",
     "iopub.status.busy": "2022-08-10T05:50:57.760499Z",
     "iopub.status.idle": "2022-08-10T05:50:57.769657Z",
     "shell.execute_reply": "2022-08-10T05:50:57.768543Z"
    },
    "papermill": {
     "duration": 0.032817,
     "end_time": "2022-08-10T05:50:57.771916",
     "exception": false,
     "start_time": "2022-08-10T05:50:57.739099",
     "status": "completed"
    },
    "tags": []
   },
   "outputs": [],
   "source": [
    "df[ df.Area <= 85 ][\"Parking\"].value_counts( )"
   ]
  },
  {
   "cell_type": "code",
   "execution_count": null,
   "id": "714d19e9",
   "metadata": {
    "execution": {
     "iopub.execute_input": "2022-08-10T05:50:57.814045Z",
     "iopub.status.busy": "2022-08-10T05:50:57.813356Z",
     "iopub.status.idle": "2022-08-10T05:50:57.821024Z",
     "shell.execute_reply": "2022-08-10T05:50:57.820181Z"
    },
    "papermill": {
     "duration": 0.031557,
     "end_time": "2022-08-10T05:50:57.823454",
     "exception": false,
     "start_time": "2022-08-10T05:50:57.791897",
     "status": "completed"
    },
    "scrolled": true,
    "tags": []
   },
   "outputs": [],
   "source": [
    "df.Address.unique()"
   ]
  },
  {
   "cell_type": "code",
   "execution_count": null,
   "id": "be2b60a5",
   "metadata": {
    "execution": {
     "iopub.execute_input": "2022-08-10T05:50:57.866571Z",
     "iopub.status.busy": "2022-08-10T05:50:57.866108Z",
     "iopub.status.idle": "2022-08-10T05:50:57.874467Z",
     "shell.execute_reply": "2022-08-10T05:50:57.873207Z"
    },
    "papermill": {
     "duration": 0.033113,
     "end_time": "2022-08-10T05:50:57.876930",
     "exception": false,
     "start_time": "2022-08-10T05:50:57.843817",
     "status": "completed"
    },
    "tags": []
   },
   "outputs": [],
   "source": [
    "len(df.Address.unique())"
   ]
  },
  {
   "cell_type": "code",
   "execution_count": null,
   "id": "db2c9397",
   "metadata": {
    "execution": {
     "iopub.execute_input": "2022-08-10T05:50:57.918862Z",
     "iopub.status.busy": "2022-08-10T05:50:57.918443Z",
     "iopub.status.idle": "2022-08-10T05:50:57.926129Z",
     "shell.execute_reply": "2022-08-10T05:50:57.925252Z"
    },
    "papermill": {
     "duration": 0.031583,
     "end_time": "2022-08-10T05:50:57.928736",
     "exception": false,
     "start_time": "2022-08-10T05:50:57.897153",
     "status": "completed"
    },
    "tags": []
   },
   "outputs": [],
   "source": [
    "round(df.Price.mean())"
   ]
  },
  {
   "cell_type": "code",
   "execution_count": null,
   "id": "7c0ac57a",
   "metadata": {
    "execution": {
     "iopub.execute_input": "2022-08-10T05:50:57.971254Z",
     "iopub.status.busy": "2022-08-10T05:50:57.970086Z",
     "iopub.status.idle": "2022-08-10T05:50:57.982527Z",
     "shell.execute_reply": "2022-08-10T05:50:57.981214Z"
    },
    "papermill": {
     "duration": 0.03658,
     "end_time": "2022-08-10T05:50:57.985009",
     "exception": false,
     "start_time": "2022-08-10T05:50:57.948429",
     "status": "completed"
    },
    "tags": []
   },
   "outputs": [],
   "source": [
    "df.groupby( 'Room' )['Price'].mean()"
   ]
  },
  {
   "cell_type": "code",
   "execution_count": null,
   "id": "51360655",
   "metadata": {
    "execution": {
     "iopub.execute_input": "2022-08-10T05:50:58.027246Z",
     "iopub.status.busy": "2022-08-10T05:50:58.026790Z",
     "iopub.status.idle": "2022-08-10T05:50:58.032614Z",
     "shell.execute_reply": "2022-08-10T05:50:58.031447Z"
    },
    "papermill": {
     "duration": 0.029473,
     "end_time": "2022-08-10T05:50:58.034885",
     "exception": false,
     "start_time": "2022-08-10T05:50:58.005412",
     "status": "completed"
    },
    "tags": []
   },
   "outputs": [],
   "source": [
    "pd.set_option('display.float_format', lambda x: '%.f' % x)"
   ]
  },
  {
   "cell_type": "code",
   "execution_count": null,
   "id": "eb043016",
   "metadata": {
    "execution": {
     "iopub.execute_input": "2022-08-10T05:50:58.076985Z",
     "iopub.status.busy": "2022-08-10T05:50:58.076229Z",
     "iopub.status.idle": "2022-08-10T05:50:58.090954Z",
     "shell.execute_reply": "2022-08-10T05:50:58.089795Z"
    },
    "papermill": {
     "duration": 0.038511,
     "end_time": "2022-08-10T05:50:58.093558",
     "exception": false,
     "start_time": "2022-08-10T05:50:58.055047",
     "status": "completed"
    },
    "tags": []
   },
   "outputs": [],
   "source": [
    "room_parking_room_mean_df = df.groupby( ['Room','Parking'] )['Price'].mean().reset_index()\n",
    "room_parking_room_mean_df"
   ]
  },
  {
   "cell_type": "code",
   "execution_count": null,
   "id": "b4f7b60c",
   "metadata": {
    "execution": {
     "iopub.execute_input": "2022-08-10T05:50:58.136431Z",
     "iopub.status.busy": "2022-08-10T05:50:58.135692Z",
     "iopub.status.idle": "2022-08-10T05:50:58.140547Z",
     "shell.execute_reply": "2022-08-10T05:50:58.139571Z"
    },
    "papermill": {
     "duration": 0.028881,
     "end_time": "2022-08-10T05:50:58.142781",
     "exception": false,
     "start_time": "2022-08-10T05:50:58.113900",
     "status": "completed"
    },
    "tags": []
   },
   "outputs": [],
   "source": [
    "df2 = df.copy()"
   ]
  },
  {
   "cell_type": "code",
   "execution_count": null,
   "id": "cd4063a2",
   "metadata": {
    "execution": {
     "iopub.execute_input": "2022-08-10T05:50:58.226250Z",
     "iopub.status.busy": "2022-08-10T05:50:58.225514Z",
     "iopub.status.idle": "2022-08-10T05:50:58.235101Z",
     "shell.execute_reply": "2022-08-10T05:50:58.233716Z"
    },
    "papermill": {
     "duration": 0.033887,
     "end_time": "2022-08-10T05:50:58.237797",
     "exception": false,
     "start_time": "2022-08-10T05:50:58.203910",
     "status": "completed"
    },
    "tags": []
   },
   "outputs": [],
   "source": [
    "df2.loc[:, \"Price\"] =df[\"Price\"].map('{:,.0f}'.format)"
   ]
  },
  {
   "cell_type": "code",
   "execution_count": null,
   "id": "737d39fa",
   "metadata": {
    "execution": {
     "iopub.execute_input": "2022-08-10T05:50:58.280958Z",
     "iopub.status.busy": "2022-08-10T05:50:58.280231Z",
     "iopub.status.idle": "2022-08-10T05:50:58.297219Z",
     "shell.execute_reply": "2022-08-10T05:50:58.296173Z"
    },
    "papermill": {
     "duration": 0.04118,
     "end_time": "2022-08-10T05:50:58.299530",
     "exception": false,
     "start_time": "2022-08-10T05:50:58.258350",
     "status": "completed"
    },
    "tags": []
   },
   "outputs": [],
   "source": [
    "df2"
   ]
  },
  {
   "cell_type": "code",
   "execution_count": null,
   "id": "e05c4509",
   "metadata": {
    "execution": {
     "iopub.execute_input": "2022-08-10T05:50:58.344056Z",
     "iopub.status.busy": "2022-08-10T05:50:58.343345Z",
     "iopub.status.idle": "2022-08-10T05:50:58.350859Z",
     "shell.execute_reply": "2022-08-10T05:50:58.349938Z"
    },
    "papermill": {
     "duration": 0.03241,
     "end_time": "2022-08-10T05:50:58.353090",
     "exception": false,
     "start_time": "2022-08-10T05:50:58.320680",
     "status": "completed"
    },
    "tags": []
   },
   "outputs": [],
   "source": [
    "df.dtypes"
   ]
  },
  {
   "cell_type": "markdown",
   "id": "d58f7ed4",
   "metadata": {
    "papermill": {
     "duration": 0.022427,
     "end_time": "2022-08-10T05:50:58.396773",
     "exception": false,
     "start_time": "2022-08-10T05:50:58.374346",
     "status": "completed"
    },
    "tags": []
   },
   "source": [
    "# Visualizaion"
   ]
  },
  {
   "cell_type": "code",
   "execution_count": null,
   "id": "8a2ae2d0",
   "metadata": {
    "execution": {
     "iopub.execute_input": "2022-08-10T05:50:58.441349Z",
     "iopub.status.busy": "2022-08-10T05:50:58.440590Z",
     "iopub.status.idle": "2022-08-10T05:50:58.817598Z",
     "shell.execute_reply": "2022-08-10T05:50:58.816215Z"
    },
    "papermill": {
     "duration": 0.40187,
     "end_time": "2022-08-10T05:50:58.820064",
     "exception": false,
     "start_time": "2022-08-10T05:50:58.418194",
     "status": "completed"
    },
    "tags": []
   },
   "outputs": [],
   "source": [
    "plt.figure(figsize=(8,5))\n",
    "sns.displot(df['Price'] , bins=30 , kde=True )"
   ]
  },
  {
   "cell_type": "code",
   "execution_count": null,
   "id": "87141b11",
   "metadata": {
    "execution": {
     "iopub.execute_input": "2022-08-10T05:50:59.413288Z",
     "iopub.status.busy": "2022-08-10T05:50:59.412834Z",
     "iopub.status.idle": "2022-08-10T05:51:00.340078Z",
     "shell.execute_reply": "2022-08-10T05:51:00.338385Z"
    },
    "papermill": {
     "duration": 0.95333,
     "end_time": "2022-08-10T05:51:00.342665",
     "exception": false,
     "start_time": "2022-08-10T05:50:59.389335",
     "status": "completed"
    },
    "tags": []
   },
   "outputs": [],
   "source": [
    "fig, ax = plt.subplots(ncols=3, figsize=(18,6))\n",
    "\n",
    "colors = [['#ADEFD1FF', '#00203FFF'], ['#97BC62FF', '#2C5F2D'], ['#F5C7B8FF', '#FFA177FF']]\n",
    "explode = [0, 0.2]\n",
    "columns = ['Parking', 'Warehouse', 'Elevator']\n",
    "for i in range(3):\n",
    "        data = df[columns[i]].value_counts()\n",
    "        ax[i].pie(data, labels=data.values, explode=explode, colors=colors[i], shadow=True)\n",
    "        ax[i].legend(labels=data.index, fontsize='large')\n",
    "        ax[i].set_title('{} distribution'.format(columns[i]))"
   ]
  },
  {
   "cell_type": "code",
   "execution_count": null,
   "id": "67c7e6b7",
   "metadata": {
    "execution": {
     "iopub.execute_input": "2022-08-10T05:51:00.391653Z",
     "iopub.status.busy": "2022-08-10T05:51:00.390962Z",
     "iopub.status.idle": "2022-08-10T05:51:00.399128Z",
     "shell.execute_reply": "2022-08-10T05:51:00.397945Z"
    },
    "papermill": {
     "duration": 0.036308,
     "end_time": "2022-08-10T05:51:00.401974",
     "exception": false,
     "start_time": "2022-08-10T05:51:00.365666",
     "status": "completed"
    },
    "tags": []
   },
   "outputs": [],
   "source": [
    "df3 = df['Address'].value_counts().copy()\n",
    "df3 = df3[:8]\n"
   ]
  },
  {
   "cell_type": "code",
   "execution_count": null,
   "id": "e6d3072d",
   "metadata": {
    "execution": {
     "iopub.execute_input": "2022-08-10T05:51:00.450390Z",
     "iopub.status.busy": "2022-08-10T05:51:00.449409Z",
     "iopub.status.idle": "2022-08-10T05:51:00.736669Z",
     "shell.execute_reply": "2022-08-10T05:51:00.735642Z"
    },
    "papermill": {
     "duration": 0.314139,
     "end_time": "2022-08-10T05:51:00.739268",
     "exception": false,
     "start_time": "2022-08-10T05:51:00.425129",
     "status": "completed"
    },
    "tags": []
   },
   "outputs": [],
   "source": [
    "fig, ax = plt.subplots(figsize=(6,10))\n",
    "sns.barplot(x=df3.values, y=df3.index,ax=ax)\n",
    "plt.xlabel('numerical amount of flats')\n",
    "plt.title('Number of flats in location')"
   ]
  },
  {
   "cell_type": "code",
   "execution_count": null,
   "id": "bed1fac8",
   "metadata": {
    "execution": {
     "iopub.execute_input": "2022-08-10T05:51:00.789929Z",
     "iopub.status.busy": "2022-08-10T05:51:00.789230Z",
     "iopub.status.idle": "2022-08-10T05:51:00.795600Z",
     "shell.execute_reply": "2022-08-10T05:51:00.794702Z"
    },
    "papermill": {
     "duration": 0.034504,
     "end_time": "2022-08-10T05:51:00.798083",
     "exception": false,
     "start_time": "2022-08-10T05:51:00.763579",
     "status": "completed"
    },
    "scrolled": true,
    "tags": []
   },
   "outputs": [],
   "source": [
    "df.columns"
   ]
  },
  {
   "cell_type": "code",
   "execution_count": null,
   "id": "b738518f",
   "metadata": {
    "execution": {
     "iopub.execute_input": "2022-08-10T05:51:00.847985Z",
     "iopub.status.busy": "2022-08-10T05:51:00.847259Z",
     "iopub.status.idle": "2022-08-10T05:51:00.859665Z",
     "shell.execute_reply": "2022-08-10T05:51:00.858699Z"
    },
    "papermill": {
     "duration": 0.040473,
     "end_time": "2022-08-10T05:51:00.862067",
     "exception": false,
     "start_time": "2022-08-10T05:51:00.821594",
     "status": "completed"
    },
    "tags": []
   },
   "outputs": [],
   "source": [
    "df.sort_values('Price',ascending=False)[['Address']].head(20)"
   ]
  },
  {
   "cell_type": "code",
   "execution_count": null,
   "id": "eecb1f4e",
   "metadata": {
    "execution": {
     "iopub.execute_input": "2022-08-10T05:51:01.006154Z",
     "iopub.status.busy": "2022-08-10T05:51:01.005464Z",
     "iopub.status.idle": "2022-08-10T05:51:01.014617Z",
     "shell.execute_reply": "2022-08-10T05:51:01.013666Z"
    },
    "papermill": {
     "duration": 0.036714,
     "end_time": "2022-08-10T05:51:01.016976",
     "exception": false,
     "start_time": "2022-08-10T05:51:00.980262",
     "status": "completed"
    },
    "tags": []
   },
   "outputs": [],
   "source": [
    "df.isnull().sum()"
   ]
  },
  {
   "cell_type": "code",
   "execution_count": null,
   "id": "6c033c4e",
   "metadata": {
    "execution": {
     "iopub.execute_input": "2022-08-10T05:51:01.067226Z",
     "iopub.status.busy": "2022-08-10T05:51:01.066506Z",
     "iopub.status.idle": "2022-08-10T05:51:01.083503Z",
     "shell.execute_reply": "2022-08-10T05:51:01.082427Z"
    },
    "papermill": {
     "duration": 0.04505,
     "end_time": "2022-08-10T05:51:01.085780",
     "exception": false,
     "start_time": "2022-08-10T05:51:01.040730",
     "status": "completed"
    },
    "tags": []
   },
   "outputs": [],
   "source": [
    "df"
   ]
  },
  {
   "cell_type": "markdown",
   "id": "29cbf364",
   "metadata": {
    "papermill": {
     "duration": 0.024074,
     "end_time": "2022-08-10T05:51:01.134178",
     "exception": false,
     "start_time": "2022-08-10T05:51:01.110104",
     "status": "completed"
    },
    "tags": []
   },
   "source": [
    "# Model Building"
   ]
  },
  {
   "cell_type": "code",
   "execution_count": null,
   "id": "c619f723",
   "metadata": {
    "execution": {
     "iopub.execute_input": "2022-08-10T05:51:01.184956Z",
     "iopub.status.busy": "2022-08-10T05:51:01.184553Z",
     "iopub.status.idle": "2022-08-10T05:51:01.201392Z",
     "shell.execute_reply": "2022-08-10T05:51:01.200453Z"
    },
    "papermill": {
     "duration": 0.04508,
     "end_time": "2022-08-10T05:51:01.203831",
     "exception": false,
     "start_time": "2022-08-10T05:51:01.158751",
     "status": "completed"
    },
    "scrolled": true,
    "tags": []
   },
   "outputs": [],
   "source": [
    "df = df.drop(columns = ['Price(USD)'])\n",
    "boolean_features = ['Parking','Warehouse','Elevator']\n",
    "df[boolean_features] = df[boolean_features].astype('int64')\n",
    "\n",
    "df.head()"
   ]
  },
  {
   "cell_type": "code",
   "execution_count": null,
   "id": "b1a342a3",
   "metadata": {
    "execution": {
     "iopub.execute_input": "2022-08-10T05:51:01.255585Z",
     "iopub.status.busy": "2022-08-10T05:51:01.254572Z",
     "iopub.status.idle": "2022-08-10T05:51:01.264179Z",
     "shell.execute_reply": "2022-08-10T05:51:01.263115Z"
    },
    "papermill": {
     "duration": 0.038648,
     "end_time": "2022-08-10T05:51:01.266994",
     "exception": false,
     "start_time": "2022-08-10T05:51:01.228346",
     "status": "completed"
    },
    "tags": []
   },
   "outputs": [],
   "source": [
    "print(f\"Skewness of features:\\n{df.skew()}\")\n"
   ]
  },
  {
   "cell_type": "code",
   "execution_count": null,
   "id": "f9e24be0",
   "metadata": {
    "execution": {
     "iopub.execute_input": "2022-08-10T05:51:01.318052Z",
     "iopub.status.busy": "2022-08-10T05:51:01.317335Z",
     "iopub.status.idle": "2022-08-10T05:51:01.643093Z",
     "shell.execute_reply": "2022-08-10T05:51:01.642154Z"
    },
    "papermill": {
     "duration": 0.354232,
     "end_time": "2022-08-10T05:51:01.645338",
     "exception": false,
     "start_time": "2022-08-10T05:51:01.291106",
     "status": "completed"
    },
    "tags": []
   },
   "outputs": [],
   "source": [
    "plt.figure(figsize = (16,8))\n",
    "\n",
    "plt.subplot(2,1,1)\n",
    "sns.boxplot(x = df['Area'])\n",
    "\n",
    "plt.subplot(2,1,2)\n",
    "sns.boxplot(x = df['Price'])"
   ]
  },
  {
   "cell_type": "code",
   "execution_count": null,
   "id": "b91349d5",
   "metadata": {
    "execution": {
     "iopub.execute_input": "2022-08-10T05:51:01.709523Z",
     "iopub.status.busy": "2022-08-10T05:51:01.708376Z",
     "iopub.status.idle": "2022-08-10T05:51:01.719392Z",
     "shell.execute_reply": "2022-08-10T05:51:01.717363Z"
    },
    "papermill": {
     "duration": 0.052765,
     "end_time": "2022-08-10T05:51:01.723713",
     "exception": false,
     "start_time": "2022-08-10T05:51:01.670948",
     "status": "completed"
    },
    "tags": []
   },
   "outputs": [],
   "source": [
    "def lower_upper(x):\n",
    "    Q1 = np.percentile(x, 25)\n",
    "    Q3 = np.percentile(x, 75)\n",
    "    IQR = Q3 - Q1\n",
    "    lower = Q1 - 1.5 * IQR\n",
    "    upper = Q3 + 1.5 * IQR\n",
    "    \n",
    "    return lower, upper\n",
    "\n",
    "lower_area, upper_area = lower_upper(df['Area'])\n",
    "lower_price, upper_price = lower_upper(df['Price'])\n",
    "\n",
    "print(f\"Lower limit for area: {lower_area:0.2f}\")\n",
    "print(f\"Upper limit for area: {upper_area:0.2f}\")\n",
    "print(f\"Lower limit for price: {lower_price:,}\")\n",
    "print(f\"Upper limit for price: {upper_price:,}\")"
   ]
  },
  {
   "cell_type": "code",
   "execution_count": null,
   "id": "f231bdaf",
   "metadata": {
    "execution": {
     "iopub.execute_input": "2022-08-10T05:51:01.775529Z",
     "iopub.status.busy": "2022-08-10T05:51:01.775044Z",
     "iopub.status.idle": "2022-08-10T05:51:01.785213Z",
     "shell.execute_reply": "2022-08-10T05:51:01.783813Z"
    },
    "papermill": {
     "duration": 0.039018,
     "end_time": "2022-08-10T05:51:01.787923",
     "exception": false,
     "start_time": "2022-08-10T05:51:01.748905",
     "status": "completed"
    },
    "tags": []
   },
   "outputs": [],
   "source": [
    "area_outliers = np.where(df['Area'] > upper_area)\n",
    "price_outliers = np.where(df['Price'] > upper_price)\n",
    "# Return the unique, sorted array of values that are in either of the two input arrays.\n",
    "total_outliers = np.union1d(area_outliers, price_outliers)\n",
    "\n",
    "print(f\"Number of area outliers: {len(df.iloc[area_outliers])}\")\n",
    "print(f\"Number of price outliers: {len(df.iloc[price_outliers])}\")\n",
    "print(f\"Number of outliers: {len(df.iloc[total_outliers])}\")"
   ]
  },
  {
   "cell_type": "code",
   "execution_count": null,
   "id": "00736429",
   "metadata": {
    "execution": {
     "iopub.execute_input": "2022-08-10T05:51:01.840260Z",
     "iopub.status.busy": "2022-08-10T05:51:01.839524Z",
     "iopub.status.idle": "2022-08-10T05:51:01.848375Z",
     "shell.execute_reply": "2022-08-10T05:51:01.847216Z"
    },
    "papermill": {
     "duration": 0.038184,
     "end_time": "2022-08-10T05:51:01.851081",
     "exception": false,
     "start_time": "2022-08-10T05:51:01.812897",
     "status": "completed"
    },
    "tags": []
   },
   "outputs": [],
   "source": [
    "total_outliers"
   ]
  },
  {
   "cell_type": "code",
   "execution_count": null,
   "id": "b744ba5e",
   "metadata": {
    "execution": {
     "iopub.execute_input": "2022-08-10T05:51:02.147680Z",
     "iopub.status.busy": "2022-08-10T05:51:02.146294Z",
     "iopub.status.idle": "2022-08-10T05:51:02.177957Z",
     "shell.execute_reply": "2022-08-10T05:51:02.176847Z"
    },
    "papermill": {
     "duration": 0.061167,
     "end_time": "2022-08-10T05:51:02.180451",
     "exception": false,
     "start_time": "2022-08-10T05:51:02.119284",
     "status": "completed"
    },
    "tags": []
   },
   "outputs": [],
   "source": [
    "address_dummy = pd.get_dummies(df['Address'])\n",
    "df_final = df.merge(address_dummy, left_index = True, right_index = True)\n",
    "df_final.drop(columns = 'Address', inplace = True)\n",
    "df_final.head(3)"
   ]
  },
  {
   "cell_type": "code",
   "execution_count": null,
   "id": "1e28105e",
   "metadata": {
    "execution": {
     "iopub.execute_input": "2022-08-10T05:51:02.233126Z",
     "iopub.status.busy": "2022-08-10T05:51:02.232695Z",
     "iopub.status.idle": "2022-08-10T05:51:02.259707Z",
     "shell.execute_reply": "2022-08-10T05:51:02.258494Z"
    },
    "papermill": {
     "duration": 0.056245,
     "end_time": "2022-08-10T05:51:02.262058",
     "exception": false,
     "start_time": "2022-08-10T05:51:02.205813",
     "status": "completed"
    },
    "tags": []
   },
   "outputs": [],
   "source": [
    "df_final"
   ]
  },
  {
   "cell_type": "code",
   "execution_count": null,
   "id": "dce226e4",
   "metadata": {
    "execution": {
     "iopub.execute_input": "2022-08-10T05:51:02.316342Z",
     "iopub.status.busy": "2022-08-10T05:51:02.315825Z",
     "iopub.status.idle": "2022-08-10T05:51:02.332969Z",
     "shell.execute_reply": "2022-08-10T05:51:02.331215Z"
    },
    "papermill": {
     "duration": 0.047678,
     "end_time": "2022-08-10T05:51:02.335751",
     "exception": false,
     "start_time": "2022-08-10T05:51:02.288073",
     "status": "completed"
    },
    "tags": []
   },
   "outputs": [],
   "source": [
    "X = df_final.drop(columns = 'Price')\n",
    "y = df_final['Price']\n",
    "X_train, X_test, y_train, y_test = train_test_split(X, y, test_size = 0.2, random_state = 0)\n",
    "print(f\"shape of x train: {X_train.shape}\")\n",
    "print(f\"shape of y train: {y_train.shape}\")\n",
    "print(f\"shape of x test: {X_test.shape}\")\n",
    "print(f\"shape of y train: {y_test.shape}\")"
   ]
  },
  {
   "cell_type": "code",
   "execution_count": null,
   "id": "7c14fd1c",
   "metadata": {
    "execution": {
     "iopub.execute_input": "2022-08-10T05:51:02.391103Z",
     "iopub.status.busy": "2022-08-10T05:51:02.389927Z",
     "iopub.status.idle": "2022-08-10T05:51:02.400492Z",
     "shell.execute_reply": "2022-08-10T05:51:02.399217Z"
    },
    "papermill": {
     "duration": 0.04114,
     "end_time": "2022-08-10T05:51:02.403411",
     "exception": false,
     "start_time": "2022-08-10T05:51:02.362271",
     "status": "completed"
    },
    "tags": []
   },
   "outputs": [],
   "source": [
    "def parameter_finder (model, parameters):\n",
    "    \n",
    "    start = time.time()\n",
    "    \n",
    "    grid = GridSearchCV(model, \n",
    "                        param_grid = parameters, \n",
    "                        refit = True, \n",
    "                        cv = KFold(shuffle = True, random_state = 1), \n",
    "                        n_jobs = -1)\n",
    "    grid_fit = grid.fit(X_train, y_train)\n",
    "    y_train_pred = grid_fit.predict(X_train)\n",
    "    y_pred = grid_fit.predict(X_test)\n",
    "    \n",
    "    train_score =grid_fit.score(X_train, y_train)\n",
    "    test_score = grid_fit.score(X_test, y_test)\n",
    "    RMSE = np.sqrt(mean_squared_error(y_test, y_pred))\n",
    "    \n",
    "    model_name = str(model).split('(')[0]\n",
    "    \n",
    "    end = time.time()\n",
    "    \n",
    "    print(f\"The best parameters for {model_name} model is: {grid_fit.best_params_}\")\n",
    "    print(\"--\" * 10)\n",
    "    print(f\"(R2 score) in the training set is {train_score:0.2%} for {model_name} model.\")\n",
    "    print(f\"(R2 score) in the testing set is {test_score:0.2%} for {model_name} model.\")\n",
    "    print(f\"RMSE is {RMSE:,} for {model_name} model.\")\n",
    "    print(\"--\" * 10)\n",
    "    print(f\"Runtime of the program is: {end - start:0.2f}\")\n",
    "    \n",
    "       \n",
    "    return train_score, test_score, RMSE"
   ]
  },
  {
   "cell_type": "markdown",
   "id": "4b0e29a5",
   "metadata": {},
   "source": [
    "# Prediction"
   ]
  },
  {
   "cell_type": "code",
   "execution_count": null,
   "id": "4f6e2273",
   "metadata": {
    "execution": {
     "iopub.execute_input": "2022-08-10T05:51:02.458378Z",
     "iopub.status.busy": "2022-08-10T05:51:02.457667Z",
     "iopub.status.idle": "2022-08-10T05:51:04.676096Z",
     "shell.execute_reply": "2022-08-10T05:51:04.671881Z"
    },
    "papermill": {
     "duration": 2.252312,
     "end_time": "2022-08-10T05:51:04.682074",
     "exception": false,
     "start_time": "2022-08-10T05:51:02.429762",
     "status": "completed"
    },
    "tags": []
   },
   "outputs": [],
   "source": [
    "lr = LinearRegression().fit(X_train,y_train)"
   ]
  },
  {
   "cell_type": "code",
   "execution_count": null,
   "id": "6300c8d8",
   "metadata": {},
   "outputs": [],
   "source": [
    "X_cols = ['Area', 'Room', 'Parking', 'Warehouse', 'Elevator', 'Abazar',\n",
    "        'Abbasabad', 'Absard', 'Abuzar', 'Afsarieh', 'Ahang', 'Air force',\n",
    "        'Ajudaniye', 'Alborz Complex', 'Aliabad South', 'Amir Bahador',\n",
    "        'Amirabad', 'Amirieh', 'Andisheh', 'Aqdasieh', 'Araj', 'Argentina',\n",
    "        'Atabak', 'Azadshahr', 'Azarbaijan', 'Azari', 'Baghestan', 'Bahar',\n",
    "        'Baqershahr', 'Beryanak', 'Boloorsazi', 'Central Janatabad',\n",
    "        'Chahardangeh', 'Chardangeh', 'Chardivari', 'Chidz', 'Damavand',\n",
    "        'Darabad', 'Darakeh', 'Darband', 'Daryan No', 'Dehkade Olampic',\n",
    "        'Dezashib', 'Dolatabad', 'Dorous', 'East Ferdows Boulevard',\n",
    "        'East Pars', 'Ekbatan', 'Ekhtiarieh', 'Elahieh', 'Elm-o-Sanat',\n",
    "        'Enghelab', 'Eram', 'Eskandari', 'Fallah', 'Farmanieh', 'Fatemi',\n",
    "        'Feiz Garden', 'Firoozkooh', 'Firoozkooh Kuhsar', 'Gandhi',\n",
    "        'Garden of Saba', 'Gheitarieh', 'Ghiyamdasht', 'Ghoba', 'Gholhak',\n",
    "        'Gisha', 'Golestan', 'Haft Tir', 'Hakimiyeh', 'Hashemi', 'Hassan Abad',\n",
    "        'Hekmat', 'Heravi', 'Heshmatieh', 'Hor Square', 'Islamshahr',\n",
    "        'Islamshahr Elahieh', 'Javadiyeh', 'Jeyhoon', 'Jordan', 'Kahrizak',\n",
    "        'Kamranieh', 'Karimkhan', 'Karoon', 'Kazemabad', 'Keshavarz Boulevard',\n",
    "        'Khademabad Garden', 'Khavaran', 'Komeil', 'Koohsar', 'Kook', 'Lavasan',\n",
    "        'Lavizan', 'Mahallati', 'Mahmoudieh', 'Majidieh', 'Malard', 'Marzdaran',\n",
    "        'Mehrabad', 'Mehrabad River River', 'Mehran', 'Mirdamad',\n",
    "        'Mirza Shirazi', 'Moniriyeh', 'Narmak', 'Nasim Shahr', 'Nawab',\n",
    "        'Naziabad', 'Nezamabad', 'Niavaran', 'North Program Organization',\n",
    "        'Northern Chitgar', 'Northern Janatabad', 'Northern Suhrawardi',\n",
    "        'Northren Jamalzadeh', 'Ostad Moein', 'Ozgol', 'Pakdasht',\n",
    "        'Pakdasht KhatunAbad', 'Parand', 'Parastar', 'Pardis', 'Pasdaran',\n",
    "        'Persian Gulf Martyrs Lake', 'Pirouzi', 'Pishva', 'Punak', 'Qalandari',\n",
    "        'Qarchak', 'Qasr-od-Dasht', 'Qazvin Imamzadeh Hassan', 'Railway', 'Ray',\n",
    "        'Ray - Montazeri', 'Ray - Pilgosh', 'Razi', 'Republic', 'Robat Karim',\n",
    "        'Rudhen', 'Saadat Abad', 'SabaShahr', 'Sabalan', 'Sadeghieh',\n",
    "        'Safadasht', 'Salehabad', 'Salsabil', 'Sattarkhan', 'Seyed Khandan',\n",
    "        'Shadabad', 'Shahedshahr', 'Shahr-e-Ziba', 'ShahrAra',\n",
    "        'Shahrake Apadana', 'Shahrake Azadi', 'Shahrake Gharb',\n",
    "        'Shahrake Madaen', 'Shahrake Qods', 'Shahrake Quds',\n",
    "        'Shahrake Shahid Bagheri', 'Shahrakeh Naft', 'Shahran', 'Shahryar',\n",
    "        'Shams Abad', 'Shoosh', 'Si Metri Ji', 'Sohanak', 'Southern Chitgar',\n",
    "        'Southern Janatabad', 'Southern Program Organization',\n",
    "        'Southern Suhrawardi', 'Tajrish', 'Tarasht', 'Taslihat', 'Tehran Now',\n",
    "        'Tehransar', 'Telecommunication', 'Tenant', 'Thirteen November',\n",
    "        'Vahidieh', 'Vahidiyeh', 'Valiasr', 'Vanak', 'Varamin - Beheshti',\n",
    "        'Velenjak', 'Villa', 'Water Organization', 'Waterfall',\n",
    "        'West Ferdows Boulevard', 'West Pars', 'Yaftabad', 'Yakhchiabad',\n",
    "        'Yousef Abad', 'Zafar', 'Zaferanieh', 'Zargandeh', 'Zibadasht']"
   ]
  },
  {
   "cell_type": "code",
   "execution_count": null,
   "id": "403cd7a3",
   "metadata": {},
   "outputs": [],
   "source": [
    "sample_data = [100, 2, 1, 1, 1] + [False] * (len(data) - 5)\n",
    "sample_data[X_cols.index('Tajrish')] = True"
   ]
  },
  {
   "cell_type": "code",
   "execution_count": null,
   "id": "0571823a",
   "metadata": {},
   "outputs": [],
   "source": [
    "sample_data = np.array(sample_data).reshape(1, -1)\n",
    "prediction = lr.predict(sample_data)\n",
    "print(prediction)\n"
   ]
  },
  {
   "cell_type": "code",
   "execution_count": null,
   "id": "478dc698",
   "metadata": {},
   "outputs": [],
   "source": [
    "import numpy as np\n",
    "\n",
    "\n",
    "sample_data = [100, 2, 1, 1, 1] + [False] * (len(data) - 5)\n",
    "predictions = []\n",
    "\n",
    "for i in data[data.index('Abazar'):]:\n",
    "    sample_data[data.index(i)] = True\n",
    "    sample_data_reshaped = np.array(sample_data).reshape(1, -1)\n",
    "    prediction = int(lr.predict(sample_data_reshaped)[0])\n",
    "    predictions.append(prediction)\n",
    "\n",
    "print(predictions)\n"
   ]
  },
  {
   "cell_type": "code",
   "execution_count": 113,
   "id": "ef76cba5",
   "metadata": {},
   "outputs": [
    {
     "name": "stdout",
     "output_type": "stream",
     "text": [
      "-50941169026\n",
      "68491174368\n"
     ]
    }
   ],
   "source": [
    "# print(min(predictions))\n",
    "# print(max(predictions))"
   ]
  },
  {
   "cell_type": "code",
   "execution_count": null,
   "id": "dc8868ee",
   "metadata": {},
   "outputs": [],
   "source": [
    "import matplotlib.pyplot as plt\n",
    "\n",
    "# Assuming you have the 'predictions' list\n",
    "plt.rcParams.update({'font.size': 2})\n",
    "\n",
    "x_values = range(len(predictions))\n",
    "\n",
    "plt.plot(x_values, predictions, marker='o')\n",
    "plt.xlabel('Area Index',labelpad=10)\n",
    "plt.ylabel('House Price')\n",
    "plt.title('Predicted House Prices')\n",
    "plt.xticks(x_values, data[data.index('Abazar'):], rotation=90)\n",
    "plt.tight_layout()\n",
    "plt.show()\n"
   ]
  },
  {
   "cell_type": "code",
   "execution_count": null,
   "id": "0b7259ef",
   "metadata": {},
   "outputs": [],
   "source": [
    "lr_train_score, lr_test_score, lr_RMSE = parameter_finder(lr, {})"
   ]
  }
 ],
 "metadata": {
  "kernelspec": {
   "display_name": "Python 3",
   "language": "python",
   "name": "python3"
  },
  "language_info": {
   "codemirror_mode": {
    "name": "ipython",
    "version": 3
   },
   "file_extension": ".py",
   "mimetype": "text/x-python",
   "name": "python",
   "nbconvert_exporter": "python",
   "pygments_lexer": "ipython3",
   "version": "3.11.4"
  },
  "papermill": {
   "default_parameters": {},
   "duration": 186.634179,
   "end_time": "2022-08-10T05:53:51.711178",
   "environment_variables": {},
   "exception": null,
   "input_path": "__notebook__.ipynb",
   "output_path": "__notebook__.ipynb",
   "parameters": {},
   "start_time": "2022-08-10T05:50:45.076999",
   "version": "2.3.4"
  }
 },
 "nbformat": 4,
 "nbformat_minor": 5
}
