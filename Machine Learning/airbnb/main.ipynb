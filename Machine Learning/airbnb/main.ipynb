{
 "cells": [
  {
   "cell_type": "markdown",
   "id": "ea69eb4f",
   "metadata": {
    "papermill": {
     "duration": 0.017298,
     "end_time": "2022-08-10T05:50:54.850780",
     "exception": false,
     "start_time": "2022-08-10T05:50:54.833482",
     "status": "completed"
    },
    "tags": []
   },
   "source": [
    "## Importing the libraries"
   ]
  },
  {
   "cell_type": "code",
   "execution_count": 276,
   "id": "dfce3c30",
   "metadata": {
    "execution": {
     "iopub.execute_input": "2022-08-10T05:50:54.955060Z",
     "iopub.status.busy": "2022-08-10T05:50:54.954350Z",
     "iopub.status.idle": "2022-08-10T05:50:56.614572Z",
     "shell.execute_reply": "2022-08-10T05:50:56.613468Z"
    },
    "papermill": {
     "duration": 1.687424,
     "end_time": "2022-08-10T05:50:56.617565",
     "exception": false,
     "start_time": "2022-08-10T05:50:54.930141",
     "status": "completed"
    },
    "tags": []
   },
   "outputs": [],
   "source": [
    "%matplotlib inline\n",
    "import numpy as np\n",
    "import pandas as pd\n",
    "import matplotlib.pyplot as plt\n",
    "import seaborn as sns\n",
    "import re\n",
    "import time\n",
    "\n",
    "from sklearn.model_selection import train_test_split\n",
    "from sklearn.model_selection import cross_val_score, KFold\n",
    "from sklearn.metrics import mean_squared_error\n",
    "from sklearn.metrics import mean_absolute_error\n",
    "from sklearn.metrics import r2_score\n",
    "\n",
    "from sklearn.ensemble import RandomForestRegressor\n",
    "from sklearn.linear_model import  ElasticNet, Lasso, LinearRegression, Ridge\n",
    "from sklearn.neighbors import KNeighborsRegressor\n",
    "from sklearn.metrics import mean_squared_error\n",
    "from sklearn.model_selection import GridSearchCV\n",
    "from sklearn.tree import DecisionTreeRegressor\n",
    "from xgboost import XGBRegressor\n",
    "\n",
    "import joblib\n",
    "\n",
    "import warnings\n",
    "warnings.filterwarnings('ignore')"
   ]
  },
  {
   "cell_type": "markdown",
   "id": "bce3c50f",
   "metadata": {
    "papermill": {
     "duration": 0.016717,
     "end_time": "2022-08-10T05:50:56.651393",
     "exception": false,
     "start_time": "2022-08-10T05:50:56.634676",
     "status": "completed"
    },
    "tags": []
   },
   "source": [
    "## Load and Prepare Data"
   ]
  },
  {
   "cell_type": "code",
   "execution_count": 277,
   "id": "66fba2f4",
   "metadata": {
    "execution": {
     "iopub.execute_input": "2022-08-10T05:50:56.688602Z",
     "iopub.status.busy": "2022-08-10T05:50:56.687770Z",
     "iopub.status.idle": "2022-08-10T05:50:56.751417Z",
     "shell.execute_reply": "2022-08-10T05:50:56.749987Z"
    },
    "papermill": {
     "duration": 0.086474,
     "end_time": "2022-08-10T05:50:56.754958",
     "exception": false,
     "start_time": "2022-08-10T05:50:56.668484",
     "status": "completed"
    },
    "scrolled": true,
    "tags": []
   },
   "outputs": [
    {
     "data": {
      "text/html": [
       "<div>\n",
       "<style scoped>\n",
       "    .dataframe tbody tr th:only-of-type {\n",
       "        vertical-align: middle;\n",
       "    }\n",
       "\n",
       "    .dataframe tbody tr th {\n",
       "        vertical-align: top;\n",
       "    }\n",
       "\n",
       "    .dataframe thead th {\n",
       "        text-align: right;\n",
       "    }\n",
       "</style>\n",
       "<table border=\"1\" class=\"dataframe\">\n",
       "  <thead>\n",
       "    <tr style=\"text-align: right;\">\n",
       "      <th></th>\n",
       "      <th>Area</th>\n",
       "      <th>Room</th>\n",
       "      <th>Parking</th>\n",
       "      <th>Warehouse</th>\n",
       "      <th>Elevator</th>\n",
       "      <th>Address</th>\n",
       "      <th>Price</th>\n",
       "      <th>Price(USD)</th>\n",
       "    </tr>\n",
       "  </thead>\n",
       "  <tbody>\n",
       "    <tr>\n",
       "      <th>0</th>\n",
       "      <td>63</td>\n",
       "      <td>1</td>\n",
       "      <td>True</td>\n",
       "      <td>True</td>\n",
       "      <td>True</td>\n",
       "      <td>Shahran</td>\n",
       "      <td>1850000000</td>\n",
       "      <td>61667</td>\n",
       "    </tr>\n",
       "    <tr>\n",
       "      <th>1</th>\n",
       "      <td>60</td>\n",
       "      <td>1</td>\n",
       "      <td>True</td>\n",
       "      <td>True</td>\n",
       "      <td>True</td>\n",
       "      <td>Shahran</td>\n",
       "      <td>1850000000</td>\n",
       "      <td>61667</td>\n",
       "    </tr>\n",
       "    <tr>\n",
       "      <th>2</th>\n",
       "      <td>79</td>\n",
       "      <td>2</td>\n",
       "      <td>True</td>\n",
       "      <td>True</td>\n",
       "      <td>True</td>\n",
       "      <td>Pardis</td>\n",
       "      <td>550000000</td>\n",
       "      <td>18333</td>\n",
       "    </tr>\n",
       "    <tr>\n",
       "      <th>3</th>\n",
       "      <td>95</td>\n",
       "      <td>2</td>\n",
       "      <td>True</td>\n",
       "      <td>True</td>\n",
       "      <td>True</td>\n",
       "      <td>Shahrake Qods</td>\n",
       "      <td>902500000</td>\n",
       "      <td>30083</td>\n",
       "    </tr>\n",
       "    <tr>\n",
       "      <th>4</th>\n",
       "      <td>123</td>\n",
       "      <td>2</td>\n",
       "      <td>True</td>\n",
       "      <td>True</td>\n",
       "      <td>True</td>\n",
       "      <td>Shahrake Gharb</td>\n",
       "      <td>7000000000</td>\n",
       "      <td>233333</td>\n",
       "    </tr>\n",
       "  </tbody>\n",
       "</table>\n",
       "</div>"
      ],
      "text/plain": [
       "  Area  Room  Parking  Warehouse  Elevator         Address      Price  \\\n",
       "0   63     1     True       True      True         Shahran 1850000000   \n",
       "1   60     1     True       True      True         Shahran 1850000000   \n",
       "2   79     2     True       True      True          Pardis  550000000   \n",
       "3   95     2     True       True      True   Shahrake Qods  902500000   \n",
       "4  123     2     True       True      True  Shahrake Gharb 7000000000   \n",
       "\n",
       "   Price(USD)  \n",
       "0       61667  \n",
       "1       61667  \n",
       "2       18333  \n",
       "3       30083  \n",
       "4      233333  "
      ]
     },
     "execution_count": 277,
     "metadata": {},
     "output_type": "execute_result"
    }
   ],
   "source": [
    "#Read the dataset and print the top 5 elements of the dataset\n",
    "df = pd.read_csv('housePrice.csv')\n",
    "df.head()"
   ]
  },
  {
   "cell_type": "code",
   "execution_count": 278,
   "id": "d63d38f9",
   "metadata": {
    "execution": {
     "iopub.execute_input": "2022-08-10T05:50:56.793590Z",
     "iopub.status.busy": "2022-08-10T05:50:56.792702Z",
     "iopub.status.idle": "2022-08-10T05:50:56.815749Z",
     "shell.execute_reply": "2022-08-10T05:50:56.814139Z"
    },
    "papermill": {
     "duration": 0.045649,
     "end_time": "2022-08-10T05:50:56.818571",
     "exception": false,
     "start_time": "2022-08-10T05:50:56.772922",
     "status": "completed"
    },
    "tags": []
   },
   "outputs": [
    {
     "data": {
      "text/html": [
       "<div>\n",
       "<style scoped>\n",
       "    .dataframe tbody tr th:only-of-type {\n",
       "        vertical-align: middle;\n",
       "    }\n",
       "\n",
       "    .dataframe tbody tr th {\n",
       "        vertical-align: top;\n",
       "    }\n",
       "\n",
       "    .dataframe thead th {\n",
       "        text-align: right;\n",
       "    }\n",
       "</style>\n",
       "<table border=\"1\" class=\"dataframe\">\n",
       "  <thead>\n",
       "    <tr style=\"text-align: right;\">\n",
       "      <th></th>\n",
       "      <th>Area</th>\n",
       "      <th>Room</th>\n",
       "      <th>Parking</th>\n",
       "      <th>Warehouse</th>\n",
       "      <th>Elevator</th>\n",
       "      <th>Address</th>\n",
       "      <th>Price</th>\n",
       "      <th>Price(USD)</th>\n",
       "    </tr>\n",
       "  </thead>\n",
       "  <tbody>\n",
       "    <tr>\n",
       "      <th>757</th>\n",
       "      <td>131</td>\n",
       "      <td>2</td>\n",
       "      <td>True</td>\n",
       "      <td>True</td>\n",
       "      <td>True</td>\n",
       "      <td>Saadat Abad</td>\n",
       "      <td>7980000000</td>\n",
       "      <td>266000</td>\n",
       "    </tr>\n",
       "    <tr>\n",
       "      <th>1944</th>\n",
       "      <td>100</td>\n",
       "      <td>2</td>\n",
       "      <td>True</td>\n",
       "      <td>True</td>\n",
       "      <td>True</td>\n",
       "      <td>Gheitarieh</td>\n",
       "      <td>8000000000</td>\n",
       "      <td>266667</td>\n",
       "    </tr>\n",
       "    <tr>\n",
       "      <th>598</th>\n",
       "      <td>62</td>\n",
       "      <td>2</td>\n",
       "      <td>True</td>\n",
       "      <td>True</td>\n",
       "      <td>True</td>\n",
       "      <td>West Ferdows Boulevard</td>\n",
       "      <td>2750000000</td>\n",
       "      <td>91667</td>\n",
       "    </tr>\n",
       "    <tr>\n",
       "      <th>2081</th>\n",
       "      <td>153</td>\n",
       "      <td>3</td>\n",
       "      <td>True</td>\n",
       "      <td>True</td>\n",
       "      <td>True</td>\n",
       "      <td>Punak</td>\n",
       "      <td>7500000000</td>\n",
       "      <td>250000</td>\n",
       "    </tr>\n",
       "    <tr>\n",
       "      <th>3359</th>\n",
       "      <td>175</td>\n",
       "      <td>3</td>\n",
       "      <td>True</td>\n",
       "      <td>True</td>\n",
       "      <td>True</td>\n",
       "      <td>ShahrAra</td>\n",
       "      <td>7800000000</td>\n",
       "      <td>260000</td>\n",
       "    </tr>\n",
       "  </tbody>\n",
       "</table>\n",
       "</div>"
      ],
      "text/plain": [
       "     Area  Room  Parking  Warehouse  Elevator                 Address  \\\n",
       "757   131     2     True       True      True             Saadat Abad   \n",
       "1944  100     2     True       True      True              Gheitarieh   \n",
       "598    62     2     True       True      True  West Ferdows Boulevard   \n",
       "2081  153     3     True       True      True                   Punak   \n",
       "3359  175     3     True       True      True                ShahrAra   \n",
       "\n",
       "          Price  Price(USD)  \n",
       "757  7980000000      266000  \n",
       "1944 8000000000      266667  \n",
       "598  2750000000       91667  \n",
       "2081 7500000000      250000  \n",
       "3359 7800000000      260000  "
      ]
     },
     "execution_count": 278,
     "metadata": {},
     "output_type": "execute_result"
    }
   ],
   "source": [
    "df.sample(5)"
   ]
  },
  {
   "cell_type": "code",
   "execution_count": 279,
   "id": "323bb81e",
   "metadata": {
    "execution": {
     "iopub.execute_input": "2022-08-10T05:50:56.860336Z",
     "iopub.status.busy": "2022-08-10T05:50:56.858672Z",
     "iopub.status.idle": "2022-08-10T05:50:56.869837Z",
     "shell.execute_reply": "2022-08-10T05:50:56.868028Z"
    },
    "papermill": {
     "duration": 0.036289,
     "end_time": "2022-08-10T05:50:56.873266",
     "exception": false,
     "start_time": "2022-08-10T05:50:56.836977",
     "status": "completed"
    },
    "tags": []
   },
   "outputs": [
    {
     "data": {
      "text/plain": [
       "pandas.core.frame.DataFrame"
      ]
     },
     "execution_count": 279,
     "metadata": {},
     "output_type": "execute_result"
    }
   ],
   "source": [
    "type(df)"
   ]
  },
  {
   "cell_type": "markdown",
   "id": "35b7084a",
   "metadata": {
    "papermill": {
     "duration": 0.024952,
     "end_time": "2022-08-10T05:50:56.920302",
     "exception": false,
     "start_time": "2022-08-10T05:50:56.895350",
     "status": "completed"
    },
    "tags": []
   },
   "source": [
    "# Explore the data (EDA)"
   ]
  },
  {
   "cell_type": "code",
   "execution_count": 280,
   "id": "a27c0ceb",
   "metadata": {
    "execution": {
     "iopub.execute_input": "2022-08-10T05:50:56.979962Z",
     "iopub.status.busy": "2022-08-10T05:50:56.978885Z",
     "iopub.status.idle": "2022-08-10T05:50:56.989548Z",
     "shell.execute_reply": "2022-08-10T05:50:56.987243Z"
    },
    "papermill": {
     "duration": 0.042136,
     "end_time": "2022-08-10T05:50:56.993764",
     "exception": false,
     "start_time": "2022-08-10T05:50:56.951628",
     "status": "completed"
    },
    "tags": []
   },
   "outputs": [
    {
     "data": {
      "text/plain": [
       "Index(['Area', 'Room', 'Parking', 'Warehouse', 'Elevator', 'Address', 'Price',\n",
       "       'Price(USD)'],\n",
       "      dtype='object')"
      ]
     },
     "execution_count": 280,
     "metadata": {},
     "output_type": "execute_result"
    }
   ],
   "source": [
    "df.columns"
   ]
  },
  {
   "cell_type": "code",
   "execution_count": 281,
   "id": "1e6c33dc",
   "metadata": {
    "execution": {
     "iopub.execute_input": "2022-08-10T05:50:57.033624Z",
     "iopub.status.busy": "2022-08-10T05:50:57.033133Z",
     "iopub.status.idle": "2022-08-10T05:50:57.059550Z",
     "shell.execute_reply": "2022-08-10T05:50:57.058228Z"
    },
    "papermill": {
     "duration": 0.048619,
     "end_time": "2022-08-10T05:50:57.062069",
     "exception": false,
     "start_time": "2022-08-10T05:50:57.013450",
     "status": "completed"
    },
    "tags": []
   },
   "outputs": [
    {
     "name": "stdout",
     "output_type": "stream",
     "text": [
      "<class 'pandas.core.frame.DataFrame'>\n",
      "RangeIndex: 3479 entries, 0 to 3478\n",
      "Data columns (total 8 columns):\n",
      " #   Column      Non-Null Count  Dtype  \n",
      "---  ------      --------------  -----  \n",
      " 0   Area        3479 non-null   object \n",
      " 1   Room        3479 non-null   int64  \n",
      " 2   Parking     3479 non-null   bool   \n",
      " 3   Warehouse   3479 non-null   bool   \n",
      " 4   Elevator    3479 non-null   bool   \n",
      " 5   Address     3456 non-null   object \n",
      " 6   Price       3479 non-null   float64\n",
      " 7   Price(USD)  3479 non-null   float64\n",
      "dtypes: bool(3), float64(2), int64(1), object(2)\n",
      "memory usage: 146.2+ KB\n"
     ]
    }
   ],
   "source": [
    "df.info()"
   ]
  },
  {
   "cell_type": "code",
   "execution_count": 282,
   "id": "54e53093",
   "metadata": {
    "execution": {
     "iopub.execute_input": "2022-08-10T05:50:57.101049Z",
     "iopub.status.busy": "2022-08-10T05:50:57.100043Z",
     "iopub.status.idle": "2022-08-10T05:50:57.126236Z",
     "shell.execute_reply": "2022-08-10T05:50:57.124773Z"
    },
    "papermill": {
     "duration": 0.048505,
     "end_time": "2022-08-10T05:50:57.129098",
     "exception": false,
     "start_time": "2022-08-10T05:50:57.080593",
     "status": "completed"
    },
    "tags": []
   },
   "outputs": [
    {
     "data": {
      "text/html": [
       "<div>\n",
       "<style scoped>\n",
       "    .dataframe tbody tr th:only-of-type {\n",
       "        vertical-align: middle;\n",
       "    }\n",
       "\n",
       "    .dataframe tbody tr th {\n",
       "        vertical-align: top;\n",
       "    }\n",
       "\n",
       "    .dataframe thead th {\n",
       "        text-align: right;\n",
       "    }\n",
       "</style>\n",
       "<table border=\"1\" class=\"dataframe\">\n",
       "  <thead>\n",
       "    <tr style=\"text-align: right;\">\n",
       "      <th></th>\n",
       "      <th>Room</th>\n",
       "      <th>Price</th>\n",
       "      <th>Price(USD)</th>\n",
       "    </tr>\n",
       "  </thead>\n",
       "  <tbody>\n",
       "    <tr>\n",
       "      <th>count</th>\n",
       "      <td>3479</td>\n",
       "      <td>3479</td>\n",
       "      <td>3479</td>\n",
       "    </tr>\n",
       "    <tr>\n",
       "      <th>mean</th>\n",
       "      <td>2</td>\n",
       "      <td>5359022711</td>\n",
       "      <td>178634</td>\n",
       "    </tr>\n",
       "    <tr>\n",
       "      <th>std</th>\n",
       "      <td>1</td>\n",
       "      <td>8099934524</td>\n",
       "      <td>269998</td>\n",
       "    </tr>\n",
       "    <tr>\n",
       "      <th>min</th>\n",
       "      <td>0</td>\n",
       "      <td>3600000</td>\n",
       "      <td>120</td>\n",
       "    </tr>\n",
       "    <tr>\n",
       "      <th>25%</th>\n",
       "      <td>2</td>\n",
       "      <td>1418250000</td>\n",
       "      <td>47275</td>\n",
       "    </tr>\n",
       "    <tr>\n",
       "      <th>50%</th>\n",
       "      <td>2</td>\n",
       "      <td>2900000000</td>\n",
       "      <td>96667</td>\n",
       "    </tr>\n",
       "    <tr>\n",
       "      <th>75%</th>\n",
       "      <td>2</td>\n",
       "      <td>6000000000</td>\n",
       "      <td>200000</td>\n",
       "    </tr>\n",
       "    <tr>\n",
       "      <th>max</th>\n",
       "      <td>5</td>\n",
       "      <td>92400000000</td>\n",
       "      <td>3080000</td>\n",
       "    </tr>\n",
       "  </tbody>\n",
       "</table>\n",
       "</div>"
      ],
      "text/plain": [
       "       Room       Price  Price(USD)\n",
       "count  3479        3479        3479\n",
       "mean      2  5359022711      178634\n",
       "std       1  8099934524      269998\n",
       "min       0     3600000         120\n",
       "25%       2  1418250000       47275\n",
       "50%       2  2900000000       96667\n",
       "75%       2  6000000000      200000\n",
       "max       5 92400000000     3080000"
      ]
     },
     "execution_count": 282,
     "metadata": {},
     "output_type": "execute_result"
    }
   ],
   "source": [
    "df.describe()"
   ]
  },
  {
   "cell_type": "code",
   "execution_count": 283,
   "id": "b03fc0c0",
   "metadata": {
    "execution": {
     "iopub.execute_input": "2022-08-10T05:50:57.167138Z",
     "iopub.status.busy": "2022-08-10T05:50:57.166694Z",
     "iopub.status.idle": "2022-08-10T05:50:57.181068Z",
     "shell.execute_reply": "2022-08-10T05:50:57.179794Z"
    },
    "papermill": {
     "duration": 0.036283,
     "end_time": "2022-08-10T05:50:57.183463",
     "exception": false,
     "start_time": "2022-08-10T05:50:57.147180",
     "status": "completed"
    },
    "tags": []
   },
   "outputs": [],
   "source": [
    "df['Area'] = df['Area'].apply(lambda x: re.sub(',', '', x))\n",
    "df[\"Area\"] = pd.to_numeric(df[\"Area\"] , errors='coerce')"
   ]
  },
  {
   "cell_type": "code",
   "execution_count": 284,
   "id": "764bd179",
   "metadata": {
    "execution": {
     "iopub.execute_input": "2022-08-10T05:50:57.221714Z",
     "iopub.status.busy": "2022-08-10T05:50:57.221063Z",
     "iopub.status.idle": "2022-08-10T05:50:57.236370Z",
     "shell.execute_reply": "2022-08-10T05:50:57.234583Z"
    },
    "papermill": {
     "duration": 0.037496,
     "end_time": "2022-08-10T05:50:57.239208",
     "exception": false,
     "start_time": "2022-08-10T05:50:57.201712",
     "status": "completed"
    },
    "tags": []
   },
   "outputs": [
    {
     "name": "stdout",
     "output_type": "stream",
     "text": [
      "<class 'pandas.core.frame.DataFrame'>\n",
      "RangeIndex: 3479 entries, 0 to 3478\n",
      "Data columns (total 8 columns):\n",
      " #   Column      Non-Null Count  Dtype  \n",
      "---  ------      --------------  -----  \n",
      " 0   Area        3479 non-null   int64  \n",
      " 1   Room        3479 non-null   int64  \n",
      " 2   Parking     3479 non-null   bool   \n",
      " 3   Warehouse   3479 non-null   bool   \n",
      " 4   Elevator    3479 non-null   bool   \n",
      " 5   Address     3456 non-null   object \n",
      " 6   Price       3479 non-null   float64\n",
      " 7   Price(USD)  3479 non-null   float64\n",
      "dtypes: bool(3), float64(2), int64(2), object(1)\n",
      "memory usage: 146.2+ KB\n"
     ]
    }
   ],
   "source": [
    "df.info()"
   ]
  },
  {
   "cell_type": "code",
   "execution_count": 285,
   "id": "78e82372",
   "metadata": {
    "execution": {
     "iopub.execute_input": "2022-08-10T05:50:57.278078Z",
     "iopub.status.busy": "2022-08-10T05:50:57.277348Z",
     "iopub.status.idle": "2022-08-10T05:50:57.296712Z",
     "shell.execute_reply": "2022-08-10T05:50:57.295584Z"
    },
    "papermill": {
     "duration": 0.041308,
     "end_time": "2022-08-10T05:50:57.298982",
     "exception": false,
     "start_time": "2022-08-10T05:50:57.257674",
     "status": "completed"
    },
    "tags": []
   },
   "outputs": [
    {
     "data": {
      "text/html": [
       "<div>\n",
       "<style scoped>\n",
       "    .dataframe tbody tr th:only-of-type {\n",
       "        vertical-align: middle;\n",
       "    }\n",
       "\n",
       "    .dataframe tbody tr th {\n",
       "        vertical-align: top;\n",
       "    }\n",
       "\n",
       "    .dataframe thead th {\n",
       "        text-align: right;\n",
       "    }\n",
       "</style>\n",
       "<table border=\"1\" class=\"dataframe\">\n",
       "  <thead>\n",
       "    <tr style=\"text-align: right;\">\n",
       "      <th></th>\n",
       "      <th>Area</th>\n",
       "      <th>Room</th>\n",
       "      <th>Parking</th>\n",
       "      <th>Warehouse</th>\n",
       "      <th>Elevator</th>\n",
       "      <th>Address</th>\n",
       "      <th>Price</th>\n",
       "      <th>Price(USD)</th>\n",
       "    </tr>\n",
       "  </thead>\n",
       "  <tbody>\n",
       "    <tr>\n",
       "      <th>0</th>\n",
       "      <td>63</td>\n",
       "      <td>1</td>\n",
       "      <td>True</td>\n",
       "      <td>True</td>\n",
       "      <td>True</td>\n",
       "      <td>Shahran</td>\n",
       "      <td>1850000000</td>\n",
       "      <td>61667</td>\n",
       "    </tr>\n",
       "    <tr>\n",
       "      <th>1</th>\n",
       "      <td>60</td>\n",
       "      <td>1</td>\n",
       "      <td>True</td>\n",
       "      <td>True</td>\n",
       "      <td>True</td>\n",
       "      <td>Shahran</td>\n",
       "      <td>1850000000</td>\n",
       "      <td>61667</td>\n",
       "    </tr>\n",
       "    <tr>\n",
       "      <th>2</th>\n",
       "      <td>79</td>\n",
       "      <td>2</td>\n",
       "      <td>True</td>\n",
       "      <td>True</td>\n",
       "      <td>True</td>\n",
       "      <td>Pardis</td>\n",
       "      <td>550000000</td>\n",
       "      <td>18333</td>\n",
       "    </tr>\n",
       "    <tr>\n",
       "      <th>3</th>\n",
       "      <td>95</td>\n",
       "      <td>2</td>\n",
       "      <td>True</td>\n",
       "      <td>True</td>\n",
       "      <td>True</td>\n",
       "      <td>Shahrake Qods</td>\n",
       "      <td>902500000</td>\n",
       "      <td>30083</td>\n",
       "    </tr>\n",
       "    <tr>\n",
       "      <th>4</th>\n",
       "      <td>123</td>\n",
       "      <td>2</td>\n",
       "      <td>True</td>\n",
       "      <td>True</td>\n",
       "      <td>True</td>\n",
       "      <td>Shahrake Gharb</td>\n",
       "      <td>7000000000</td>\n",
       "      <td>233333</td>\n",
       "    </tr>\n",
       "    <tr>\n",
       "      <th>...</th>\n",
       "      <td>...</td>\n",
       "      <td>...</td>\n",
       "      <td>...</td>\n",
       "      <td>...</td>\n",
       "      <td>...</td>\n",
       "      <td>...</td>\n",
       "      <td>...</td>\n",
       "      <td>...</td>\n",
       "    </tr>\n",
       "    <tr>\n",
       "      <th>3474</th>\n",
       "      <td>86</td>\n",
       "      <td>2</td>\n",
       "      <td>True</td>\n",
       "      <td>True</td>\n",
       "      <td>True</td>\n",
       "      <td>Southern Janatabad</td>\n",
       "      <td>3500000000</td>\n",
       "      <td>116667</td>\n",
       "    </tr>\n",
       "    <tr>\n",
       "      <th>3475</th>\n",
       "      <td>83</td>\n",
       "      <td>2</td>\n",
       "      <td>True</td>\n",
       "      <td>True</td>\n",
       "      <td>True</td>\n",
       "      <td>Niavaran</td>\n",
       "      <td>6800000000</td>\n",
       "      <td>226667</td>\n",
       "    </tr>\n",
       "    <tr>\n",
       "      <th>3476</th>\n",
       "      <td>75</td>\n",
       "      <td>2</td>\n",
       "      <td>False</td>\n",
       "      <td>False</td>\n",
       "      <td>False</td>\n",
       "      <td>Parand</td>\n",
       "      <td>365000000</td>\n",
       "      <td>12167</td>\n",
       "    </tr>\n",
       "    <tr>\n",
       "      <th>3477</th>\n",
       "      <td>105</td>\n",
       "      <td>2</td>\n",
       "      <td>True</td>\n",
       "      <td>True</td>\n",
       "      <td>True</td>\n",
       "      <td>Dorous</td>\n",
       "      <td>5600000000</td>\n",
       "      <td>186667</td>\n",
       "    </tr>\n",
       "    <tr>\n",
       "      <th>3478</th>\n",
       "      <td>82</td>\n",
       "      <td>2</td>\n",
       "      <td>False</td>\n",
       "      <td>True</td>\n",
       "      <td>True</td>\n",
       "      <td>Parand</td>\n",
       "      <td>360000000</td>\n",
       "      <td>12000</td>\n",
       "    </tr>\n",
       "  </tbody>\n",
       "</table>\n",
       "<p>3479 rows × 8 columns</p>\n",
       "</div>"
      ],
      "text/plain": [
       "      Area  Room  Parking  Warehouse  Elevator             Address      Price  \\\n",
       "0       63     1     True       True      True             Shahran 1850000000   \n",
       "1       60     1     True       True      True             Shahran 1850000000   \n",
       "2       79     2     True       True      True              Pardis  550000000   \n",
       "3       95     2     True       True      True       Shahrake Qods  902500000   \n",
       "4      123     2     True       True      True      Shahrake Gharb 7000000000   \n",
       "...    ...   ...      ...        ...       ...                 ...        ...   \n",
       "3474    86     2     True       True      True  Southern Janatabad 3500000000   \n",
       "3475    83     2     True       True      True            Niavaran 6800000000   \n",
       "3476    75     2    False      False     False              Parand  365000000   \n",
       "3477   105     2     True       True      True              Dorous 5600000000   \n",
       "3478    82     2    False       True      True              Parand  360000000   \n",
       "\n",
       "      Price(USD)  \n",
       "0          61667  \n",
       "1          61667  \n",
       "2          18333  \n",
       "3          30083  \n",
       "4         233333  \n",
       "...          ...  \n",
       "3474      116667  \n",
       "3475      226667  \n",
       "3476       12167  \n",
       "3477      186667  \n",
       "3478       12000  \n",
       "\n",
       "[3479 rows x 8 columns]"
      ]
     },
     "execution_count": 285,
     "metadata": {},
     "output_type": "execute_result"
    }
   ],
   "source": [
    "df"
   ]
  },
  {
   "cell_type": "code",
   "execution_count": 286,
   "id": "b264b651",
   "metadata": {
    "execution": {
     "iopub.execute_input": "2022-08-10T05:50:57.337912Z",
     "iopub.status.busy": "2022-08-10T05:50:57.337130Z",
     "iopub.status.idle": "2022-08-10T05:50:57.343761Z",
     "shell.execute_reply": "2022-08-10T05:50:57.342743Z"
    },
    "papermill": {
     "duration": 0.028536,
     "end_time": "2022-08-10T05:50:57.345992",
     "exception": false,
     "start_time": "2022-08-10T05:50:57.317456",
     "status": "completed"
    },
    "tags": []
   },
   "outputs": [
    {
     "data": {
      "text/plain": [
       "(3479, 8)"
      ]
     },
     "execution_count": 286,
     "metadata": {},
     "output_type": "execute_result"
    }
   ],
   "source": [
    "df.shape"
   ]
  },
  {
   "cell_type": "code",
   "execution_count": 287,
   "id": "c5c54f74",
   "metadata": {
    "execution": {
     "iopub.execute_input": "2022-08-10T05:50:57.385618Z",
     "iopub.status.busy": "2022-08-10T05:50:57.385142Z",
     "iopub.status.idle": "2022-08-10T05:50:57.391571Z",
     "shell.execute_reply": "2022-08-10T05:50:57.390310Z"
    },
    "papermill": {
     "duration": 0.031099,
     "end_time": "2022-08-10T05:50:57.395749",
     "exception": false,
     "start_time": "2022-08-10T05:50:57.364650",
     "status": "completed"
    },
    "tags": []
   },
   "outputs": [
    {
     "name": "stdout",
     "output_type": "stream",
     "text": [
      "Area            int64\n",
      "Room            int64\n",
      "Parking          bool\n",
      "Warehouse        bool\n",
      "Elevator         bool\n",
      "Address        object\n",
      "Price         float64\n",
      "Price(USD)    float64\n",
      "dtype: object\n"
     ]
    }
   ],
   "source": [
    "# check for data type\n",
    "print(df.dtypes)"
   ]
  },
  {
   "cell_type": "code",
   "execution_count": 288,
   "id": "e6f869c9",
   "metadata": {
    "execution": {
     "iopub.execute_input": "2022-08-10T05:50:57.436369Z",
     "iopub.status.busy": "2022-08-10T05:50:57.435535Z",
     "iopub.status.idle": "2022-08-10T05:50:57.446614Z",
     "shell.execute_reply": "2022-08-10T05:50:57.445341Z"
    },
    "papermill": {
     "duration": 0.034449,
     "end_time": "2022-08-10T05:50:57.449124",
     "exception": false,
     "start_time": "2022-08-10T05:50:57.414675",
     "status": "completed"
    },
    "tags": []
   },
   "outputs": [
    {
     "data": {
      "text/plain": [
       "Area           0\n",
       "Room           0\n",
       "Parking        0\n",
       "Warehouse      0\n",
       "Elevator       0\n",
       "Address       23\n",
       "Price          0\n",
       "Price(USD)     0\n",
       "dtype: int64"
      ]
     },
     "execution_count": 288,
     "metadata": {},
     "output_type": "execute_result"
    }
   ],
   "source": [
    "df.isnull().sum()"
   ]
  },
  {
   "cell_type": "code",
   "execution_count": 289,
   "id": "daee6385",
   "metadata": {
    "execution": {
     "iopub.execute_input": "2022-08-10T05:50:57.490016Z",
     "iopub.status.busy": "2022-08-10T05:50:57.489289Z",
     "iopub.status.idle": "2022-08-10T05:50:57.497880Z",
     "shell.execute_reply": "2022-08-10T05:50:57.496825Z"
    },
    "papermill": {
     "duration": 0.032331,
     "end_time": "2022-08-10T05:50:57.500709",
     "exception": false,
     "start_time": "2022-08-10T05:50:57.468378",
     "status": "completed"
    },
    "tags": []
   },
   "outputs": [],
   "source": [
    "# I will drop missing values although it is not necessary because used models can manage missing values.\n",
    "df.dropna(inplace=True)"
   ]
  },
  {
   "cell_type": "code",
   "execution_count": 290,
   "id": "dbcfed44",
   "metadata": {
    "execution": {
     "iopub.execute_input": "2022-08-10T05:50:57.541272Z",
     "iopub.status.busy": "2022-08-10T05:50:57.540621Z",
     "iopub.status.idle": "2022-08-10T05:50:57.547194Z",
     "shell.execute_reply": "2022-08-10T05:50:57.545986Z"
    },
    "papermill": {
     "duration": 0.029328,
     "end_time": "2022-08-10T05:50:57.549479",
     "exception": false,
     "start_time": "2022-08-10T05:50:57.520151",
     "status": "completed"
    },
    "tags": []
   },
   "outputs": [
    {
     "data": {
      "text/plain": [
       "(3456, 8)"
      ]
     },
     "execution_count": 290,
     "metadata": {},
     "output_type": "execute_result"
    }
   ],
   "source": [
    "df.shape"
   ]
  },
  {
   "cell_type": "code",
   "execution_count": 291,
   "id": "bba02fb6",
   "metadata": {
    "execution": {
     "iopub.execute_input": "2022-08-10T05:50:57.589767Z",
     "iopub.status.busy": "2022-08-10T05:50:57.589057Z",
     "iopub.status.idle": "2022-08-10T05:50:57.597964Z",
     "shell.execute_reply": "2022-08-10T05:50:57.596888Z"
    },
    "papermill": {
     "duration": 0.031618,
     "end_time": "2022-08-10T05:50:57.600214",
     "exception": false,
     "start_time": "2022-08-10T05:50:57.568596",
     "status": "completed"
    },
    "tags": []
   },
   "outputs": [
    {
     "data": {
      "text/plain": [
       "Parking\n",
       "True    85\n",
       "False   15\n",
       "Name: proportion, dtype: float64"
      ]
     },
     "execution_count": 291,
     "metadata": {},
     "output_type": "execute_result"
    }
   ],
   "source": [
    "df['Parking'].value_counts(normalize=True)*100"
   ]
  },
  {
   "cell_type": "code",
   "execution_count": 292,
   "id": "acefd2c9",
   "metadata": {
    "execution": {
     "iopub.execute_input": "2022-08-10T05:50:57.640066Z",
     "iopub.status.busy": "2022-08-10T05:50:57.639457Z",
     "iopub.status.idle": "2022-08-10T05:50:57.667955Z",
     "shell.execute_reply": "2022-08-10T05:50:57.666982Z"
    },
    "papermill": {
     "duration": 0.051214,
     "end_time": "2022-08-10T05:50:57.670183",
     "exception": false,
     "start_time": "2022-08-10T05:50:57.618969",
     "status": "completed"
    },
    "tags": []
   },
   "outputs": [
    {
     "data": {
      "text/html": [
       "<div>\n",
       "<style scoped>\n",
       "    .dataframe tbody tr th:only-of-type {\n",
       "        vertical-align: middle;\n",
       "    }\n",
       "\n",
       "    .dataframe tbody tr th {\n",
       "        vertical-align: top;\n",
       "    }\n",
       "\n",
       "    .dataframe thead th {\n",
       "        text-align: right;\n",
       "    }\n",
       "</style>\n",
       "<table border=\"1\" class=\"dataframe\">\n",
       "  <thead>\n",
       "    <tr style=\"text-align: right;\">\n",
       "      <th>Room</th>\n",
       "      <th>0</th>\n",
       "      <th>1</th>\n",
       "      <th>2</th>\n",
       "      <th>3</th>\n",
       "      <th>4</th>\n",
       "      <th>5</th>\n",
       "    </tr>\n",
       "    <tr>\n",
       "      <th>Parking</th>\n",
       "      <th></th>\n",
       "      <th></th>\n",
       "      <th></th>\n",
       "      <th></th>\n",
       "      <th></th>\n",
       "      <th></th>\n",
       "    </tr>\n",
       "  </thead>\n",
       "  <tbody>\n",
       "    <tr>\n",
       "      <th>False</th>\n",
       "      <td>8</td>\n",
       "      <td>243</td>\n",
       "      <td>244</td>\n",
       "      <td>26</td>\n",
       "      <td>1</td>\n",
       "      <td>5</td>\n",
       "    </tr>\n",
       "    <tr>\n",
       "      <th>True</th>\n",
       "      <td>2</td>\n",
       "      <td>426</td>\n",
       "      <td>1699</td>\n",
       "      <td>705</td>\n",
       "      <td>69</td>\n",
       "      <td>28</td>\n",
       "    </tr>\n",
       "  </tbody>\n",
       "</table>\n",
       "</div>"
      ],
      "text/plain": [
       "Room     0    1     2    3   4   5\n",
       "Parking                           \n",
       "False    8  243   244   26   1   5\n",
       "True     2  426  1699  705  69  28"
      ]
     },
     "execution_count": 292,
     "metadata": {},
     "output_type": "execute_result"
    }
   ],
   "source": [
    "pd.crosstab( df.Parking, df.Room )"
   ]
  },
  {
   "cell_type": "code",
   "execution_count": 293,
   "id": "add7360d",
   "metadata": {
    "execution": {
     "iopub.execute_input": "2022-08-10T05:50:57.710882Z",
     "iopub.status.busy": "2022-08-10T05:50:57.710207Z",
     "iopub.status.idle": "2022-08-10T05:50:57.717776Z",
     "shell.execute_reply": "2022-08-10T05:50:57.716642Z"
    },
    "papermill": {
     "duration": 0.030515,
     "end_time": "2022-08-10T05:50:57.720019",
     "exception": false,
     "start_time": "2022-08-10T05:50:57.689504",
     "status": "completed"
    },
    "tags": []
   },
   "outputs": [
    {
     "data": {
      "text/plain": [
       "1522"
      ]
     },
     "execution_count": 293,
     "metadata": {},
     "output_type": "execute_result"
    }
   ],
   "source": [
    "below_85 = df[ df.Area <= 85 ]\n",
    "len(below_85)"
   ]
  },
  {
   "cell_type": "code",
   "execution_count": 294,
   "id": "580e6062",
   "metadata": {
    "execution": {
     "iopub.execute_input": "2022-08-10T05:50:57.761274Z",
     "iopub.status.busy": "2022-08-10T05:50:57.760499Z",
     "iopub.status.idle": "2022-08-10T05:50:57.769657Z",
     "shell.execute_reply": "2022-08-10T05:50:57.768543Z"
    },
    "papermill": {
     "duration": 0.032817,
     "end_time": "2022-08-10T05:50:57.771916",
     "exception": false,
     "start_time": "2022-08-10T05:50:57.739099",
     "status": "completed"
    },
    "tags": []
   },
   "outputs": [
    {
     "data": {
      "text/plain": [
       "Parking\n",
       "True     1104\n",
       "False     418\n",
       "Name: count, dtype: int64"
      ]
     },
     "execution_count": 294,
     "metadata": {},
     "output_type": "execute_result"
    }
   ],
   "source": [
    "df[ df.Area <= 85 ][\"Parking\"].value_counts( )"
   ]
  },
  {
   "cell_type": "code",
   "execution_count": 295,
   "id": "714d19e9",
   "metadata": {
    "execution": {
     "iopub.execute_input": "2022-08-10T05:50:57.814045Z",
     "iopub.status.busy": "2022-08-10T05:50:57.813356Z",
     "iopub.status.idle": "2022-08-10T05:50:57.821024Z",
     "shell.execute_reply": "2022-08-10T05:50:57.820181Z"
    },
    "papermill": {
     "duration": 0.031557,
     "end_time": "2022-08-10T05:50:57.823454",
     "exception": false,
     "start_time": "2022-08-10T05:50:57.791897",
     "status": "completed"
    },
    "scrolled": true,
    "tags": []
   },
   "outputs": [
    {
     "data": {
      "text/plain": [
       "array(['Shahran', 'Pardis', 'Shahrake Qods', 'Shahrake Gharb',\n",
       "       'North Program Organization', 'Andisheh', 'West Ferdows Boulevard',\n",
       "       'Narmak', 'Saadat Abad', 'Zafar', 'Islamshahr', 'Pirouzi',\n",
       "       'Shahrake Shahid Bagheri', 'Moniriyeh', 'Velenjak', 'Amirieh',\n",
       "       'Southern Janatabad', 'Salsabil', 'Zargandeh', 'Feiz Garden',\n",
       "       'Water Organization', 'ShahrAra', 'Gisha', 'Ray', 'Abbasabad',\n",
       "       'Ostad Moein', 'Farmanieh', 'Parand', 'Punak', 'Qasr-od-Dasht',\n",
       "       'Aqdasieh', 'Pakdasht', 'Railway', 'Central Janatabad',\n",
       "       'East Ferdows Boulevard', 'Pakdasht KhatunAbad', 'Sattarkhan',\n",
       "       'Baghestan', 'Shahryar', 'Northern Janatabad', 'Daryan No',\n",
       "       'Southern Program Organization', 'Rudhen', 'West Pars', 'Afsarieh',\n",
       "       'Marzdaran', 'Dorous', 'Sadeghieh', 'Chahardangeh', 'Baqershahr',\n",
       "       'Jeyhoon', 'Lavizan', 'Shams Abad', 'Fatemi',\n",
       "       'Keshavarz Boulevard', 'Kahrizak', 'Qarchak',\n",
       "       'Northren Jamalzadeh', 'Azarbaijan', 'Bahar',\n",
       "       'Persian Gulf Martyrs Lake', 'Beryanak', 'Heshmatieh',\n",
       "       'Elm-o-Sanat', 'Golestan', 'Shahr-e-Ziba', 'Pasdaran',\n",
       "       'Chardivari', 'Gheitarieh', 'Kamranieh', 'Gholhak', 'Heravi',\n",
       "       'Hashemi', 'Dehkade Olampic', 'Damavand', 'Republic', 'Zaferanieh',\n",
       "       'Qazvin Imamzadeh Hassan', 'Niavaran', 'Valiasr', 'Qalandari',\n",
       "       'Amir Bahador', 'Ekhtiarieh', 'Ekbatan', 'Absard', 'Haft Tir',\n",
       "       'Mahallati', 'Ozgol', 'Tajrish', 'Abazar', 'Koohsar', 'Hekmat',\n",
       "       'Parastar', 'Lavasan', 'Majidieh', 'Southern Chitgar', 'Karimkhan',\n",
       "       'Si Metri Ji', 'Karoon', 'Northern Chitgar', 'East Pars', 'Kook',\n",
       "       'Air force', 'Sohanak', 'Komeil', 'Azadshahr', 'Zibadasht',\n",
       "       'Amirabad', 'Dezashib', 'Elahieh', 'Mirdamad', 'Razi', 'Jordan',\n",
       "       'Mahmoudieh', 'Shahedshahr', 'Yaftabad', 'Mehran', 'Nasim Shahr',\n",
       "       'Tenant', 'Chardangeh', 'Fallah', 'Eskandari', 'Shahrakeh Naft',\n",
       "       'Ajudaniye', 'Tehransar', 'Nawab', 'Yousef Abad',\n",
       "       'Northern Suhrawardi', 'Villa', 'Hakimiyeh', 'Nezamabad',\n",
       "       'Garden of Saba', 'Tarasht', 'Azari', 'Shahrake Apadana', 'Araj',\n",
       "       'Vahidieh', 'Malard', 'Shahrake Azadi', 'Darband', 'Vanak',\n",
       "       'Tehran Now', 'Darabad', 'Eram', 'Atabak', 'Sabalan', 'SabaShahr',\n",
       "       'Shahrake Madaen', 'Waterfall', 'Ahang', 'Salehabad', 'Pishva',\n",
       "       'Enghelab', 'Islamshahr Elahieh', 'Ray - Montazeri',\n",
       "       'Firoozkooh Kuhsar', 'Ghoba', 'Mehrabad', 'Southern Suhrawardi',\n",
       "       'Abuzar', 'Dolatabad', 'Hor Square', 'Taslihat', 'Kazemabad',\n",
       "       'Robat Karim', 'Ray - Pilgosh', 'Ghiyamdasht', 'Telecommunication',\n",
       "       'Mirza Shirazi', 'Gandhi', 'Argentina', 'Seyed Khandan',\n",
       "       'Shahrake Quds', 'Safadasht', 'Khademabad Garden', 'Hassan Abad',\n",
       "       'Chidz', 'Khavaran', 'Boloorsazi', 'Mehrabad River River',\n",
       "       'Varamin - Beheshti', 'Shoosh', 'Thirteen November', 'Darakeh',\n",
       "       'Aliabad South', 'Alborz Complex', 'Firoozkooh', 'Vahidiyeh',\n",
       "       'Shadabad', 'Naziabad', 'Javadiyeh', 'Yakhchiabad'], dtype=object)"
      ]
     },
     "execution_count": 295,
     "metadata": {},
     "output_type": "execute_result"
    }
   ],
   "source": [
    "df.Address.unique()"
   ]
  },
  {
   "cell_type": "code",
   "execution_count": 296,
   "id": "be2b60a5",
   "metadata": {
    "execution": {
     "iopub.execute_input": "2022-08-10T05:50:57.866571Z",
     "iopub.status.busy": "2022-08-10T05:50:57.866108Z",
     "iopub.status.idle": "2022-08-10T05:50:57.874467Z",
     "shell.execute_reply": "2022-08-10T05:50:57.873207Z"
    },
    "papermill": {
     "duration": 0.033113,
     "end_time": "2022-08-10T05:50:57.876930",
     "exception": false,
     "start_time": "2022-08-10T05:50:57.843817",
     "status": "completed"
    },
    "tags": []
   },
   "outputs": [
    {
     "data": {
      "text/plain": [
       "192"
      ]
     },
     "execution_count": 296,
     "metadata": {},
     "output_type": "execute_result"
    }
   ],
   "source": [
    "len(df.Address.unique())"
   ]
  },
  {
   "cell_type": "code",
   "execution_count": 297,
   "id": "db2c9397",
   "metadata": {
    "execution": {
     "iopub.execute_input": "2022-08-10T05:50:57.918862Z",
     "iopub.status.busy": "2022-08-10T05:50:57.918443Z",
     "iopub.status.idle": "2022-08-10T05:50:57.926129Z",
     "shell.execute_reply": "2022-08-10T05:50:57.925252Z"
    },
    "papermill": {
     "duration": 0.031583,
     "end_time": "2022-08-10T05:50:57.928736",
     "exception": false,
     "start_time": "2022-08-10T05:50:57.897153",
     "status": "completed"
    },
    "tags": []
   },
   "outputs": [
    {
     "data": {
      "text/plain": [
       "5379956887"
      ]
     },
     "execution_count": 297,
     "metadata": {},
     "output_type": "execute_result"
    }
   ],
   "source": [
    "round(df.Price.mean())"
   ]
  },
  {
   "cell_type": "code",
   "execution_count": 298,
   "id": "7c0ac57a",
   "metadata": {
    "execution": {
     "iopub.execute_input": "2022-08-10T05:50:57.971254Z",
     "iopub.status.busy": "2022-08-10T05:50:57.970086Z",
     "iopub.status.idle": "2022-08-10T05:50:57.982527Z",
     "shell.execute_reply": "2022-08-10T05:50:57.981214Z"
    },
    "papermill": {
     "duration": 0.03658,
     "end_time": "2022-08-10T05:50:57.985009",
     "exception": false,
     "start_time": "2022-08-10T05:50:57.948429",
     "status": "completed"
    },
    "tags": []
   },
   "outputs": [
    {
     "data": {
      "text/plain": [
       "Room\n",
       "0    7860500000\n",
       "1    1707480867\n",
       "2    3330303037\n",
       "3   10938692886\n",
       "4   25600328571\n",
       "5   33734393939\n",
       "Name: Price, dtype: float64"
      ]
     },
     "execution_count": 298,
     "metadata": {},
     "output_type": "execute_result"
    }
   ],
   "source": [
    "df.groupby( 'Room' )['Price'].mean()"
   ]
  },
  {
   "cell_type": "code",
   "execution_count": 299,
   "id": "51360655",
   "metadata": {
    "execution": {
     "iopub.execute_input": "2022-08-10T05:50:58.027246Z",
     "iopub.status.busy": "2022-08-10T05:50:58.026790Z",
     "iopub.status.idle": "2022-08-10T05:50:58.032614Z",
     "shell.execute_reply": "2022-08-10T05:50:58.031447Z"
    },
    "papermill": {
     "duration": 0.029473,
     "end_time": "2022-08-10T05:50:58.034885",
     "exception": false,
     "start_time": "2022-08-10T05:50:58.005412",
     "status": "completed"
    },
    "tags": []
   },
   "outputs": [],
   "source": [
    "pd.set_option('display.float_format', lambda x: '%.f' % x)"
   ]
  },
  {
   "cell_type": "code",
   "execution_count": 300,
   "id": "eb043016",
   "metadata": {
    "execution": {
     "iopub.execute_input": "2022-08-10T05:50:58.076985Z",
     "iopub.status.busy": "2022-08-10T05:50:58.076229Z",
     "iopub.status.idle": "2022-08-10T05:50:58.090954Z",
     "shell.execute_reply": "2022-08-10T05:50:58.089795Z"
    },
    "papermill": {
     "duration": 0.038511,
     "end_time": "2022-08-10T05:50:58.093558",
     "exception": false,
     "start_time": "2022-08-10T05:50:58.055047",
     "status": "completed"
    },
    "tags": []
   },
   "outputs": [
    {
     "data": {
      "text/html": [
       "<div>\n",
       "<style scoped>\n",
       "    .dataframe tbody tr th:only-of-type {\n",
       "        vertical-align: middle;\n",
       "    }\n",
       "\n",
       "    .dataframe tbody tr th {\n",
       "        vertical-align: top;\n",
       "    }\n",
       "\n",
       "    .dataframe thead th {\n",
       "        text-align: right;\n",
       "    }\n",
       "</style>\n",
       "<table border=\"1\" class=\"dataframe\">\n",
       "  <thead>\n",
       "    <tr style=\"text-align: right;\">\n",
       "      <th></th>\n",
       "      <th>Room</th>\n",
       "      <th>Parking</th>\n",
       "      <th>Price</th>\n",
       "    </tr>\n",
       "  </thead>\n",
       "  <tbody>\n",
       "    <tr>\n",
       "      <th>0</th>\n",
       "      <td>0</td>\n",
       "      <td>False</td>\n",
       "      <td>9769750000</td>\n",
       "    </tr>\n",
       "    <tr>\n",
       "      <th>1</th>\n",
       "      <td>0</td>\n",
       "      <td>True</td>\n",
       "      <td>223500000</td>\n",
       "    </tr>\n",
       "    <tr>\n",
       "      <th>2</th>\n",
       "      <td>1</td>\n",
       "      <td>False</td>\n",
       "      <td>1139677778</td>\n",
       "    </tr>\n",
       "    <tr>\n",
       "      <th>3</th>\n",
       "      <td>1</td>\n",
       "      <td>True</td>\n",
       "      <td>2031368545</td>\n",
       "    </tr>\n",
       "    <tr>\n",
       "      <th>4</th>\n",
       "      <td>2</td>\n",
       "      <td>False</td>\n",
       "      <td>1501674180</td>\n",
       "    </tr>\n",
       "    <tr>\n",
       "      <th>5</th>\n",
       "      <td>2</td>\n",
       "      <td>True</td>\n",
       "      <td>3592919541</td>\n",
       "    </tr>\n",
       "    <tr>\n",
       "      <th>6</th>\n",
       "      <td>3</td>\n",
       "      <td>False</td>\n",
       "      <td>5107865385</td>\n",
       "    </tr>\n",
       "    <tr>\n",
       "      <th>7</th>\n",
       "      <td>3</td>\n",
       "      <td>True</td>\n",
       "      <td>11153730496</td>\n",
       "    </tr>\n",
       "    <tr>\n",
       "      <th>8</th>\n",
       "      <td>4</td>\n",
       "      <td>False</td>\n",
       "      <td>6200000000</td>\n",
       "    </tr>\n",
       "    <tr>\n",
       "      <th>9</th>\n",
       "      <td>4</td>\n",
       "      <td>True</td>\n",
       "      <td>25881492754</td>\n",
       "    </tr>\n",
       "    <tr>\n",
       "      <th>10</th>\n",
       "      <td>5</td>\n",
       "      <td>False</td>\n",
       "      <td>9999000000</td>\n",
       "    </tr>\n",
       "    <tr>\n",
       "      <th>11</th>\n",
       "      <td>5</td>\n",
       "      <td>True</td>\n",
       "      <td>37972857143</td>\n",
       "    </tr>\n",
       "  </tbody>\n",
       "</table>\n",
       "</div>"
      ],
      "text/plain": [
       "    Room  Parking       Price\n",
       "0      0    False  9769750000\n",
       "1      0     True   223500000\n",
       "2      1    False  1139677778\n",
       "3      1     True  2031368545\n",
       "4      2    False  1501674180\n",
       "5      2     True  3592919541\n",
       "6      3    False  5107865385\n",
       "7      3     True 11153730496\n",
       "8      4    False  6200000000\n",
       "9      4     True 25881492754\n",
       "10     5    False  9999000000\n",
       "11     5     True 37972857143"
      ]
     },
     "execution_count": 300,
     "metadata": {},
     "output_type": "execute_result"
    }
   ],
   "source": [
    "room_parking_room_mean_df = df.groupby( ['Room','Parking'] )['Price'].mean().reset_index()\n",
    "room_parking_room_mean_df"
   ]
  },
  {
   "cell_type": "code",
   "execution_count": 301,
   "id": "b4f7b60c",
   "metadata": {
    "execution": {
     "iopub.execute_input": "2022-08-10T05:50:58.136431Z",
     "iopub.status.busy": "2022-08-10T05:50:58.135692Z",
     "iopub.status.idle": "2022-08-10T05:50:58.140547Z",
     "shell.execute_reply": "2022-08-10T05:50:58.139571Z"
    },
    "papermill": {
     "duration": 0.028881,
     "end_time": "2022-08-10T05:50:58.142781",
     "exception": false,
     "start_time": "2022-08-10T05:50:58.113900",
     "status": "completed"
    },
    "tags": []
   },
   "outputs": [],
   "source": [
    "df2 = df.copy()"
   ]
  },
  {
   "cell_type": "code",
   "execution_count": 302,
   "id": "cd4063a2",
   "metadata": {
    "execution": {
     "iopub.execute_input": "2022-08-10T05:50:58.226250Z",
     "iopub.status.busy": "2022-08-10T05:50:58.225514Z",
     "iopub.status.idle": "2022-08-10T05:50:58.235101Z",
     "shell.execute_reply": "2022-08-10T05:50:58.233716Z"
    },
    "papermill": {
     "duration": 0.033887,
     "end_time": "2022-08-10T05:50:58.237797",
     "exception": false,
     "start_time": "2022-08-10T05:50:58.203910",
     "status": "completed"
    },
    "tags": []
   },
   "outputs": [],
   "source": [
    "df2.loc[:, \"Price\"] =df[\"Price\"].map('{:,.0f}'.format)"
   ]
  },
  {
   "cell_type": "code",
   "execution_count": 303,
   "id": "737d39fa",
   "metadata": {
    "execution": {
     "iopub.execute_input": "2022-08-10T05:50:58.280958Z",
     "iopub.status.busy": "2022-08-10T05:50:58.280231Z",
     "iopub.status.idle": "2022-08-10T05:50:58.297219Z",
     "shell.execute_reply": "2022-08-10T05:50:58.296173Z"
    },
    "papermill": {
     "duration": 0.04118,
     "end_time": "2022-08-10T05:50:58.299530",
     "exception": false,
     "start_time": "2022-08-10T05:50:58.258350",
     "status": "completed"
    },
    "tags": []
   },
   "outputs": [
    {
     "data": {
      "text/html": [
       "<div>\n",
       "<style scoped>\n",
       "    .dataframe tbody tr th:only-of-type {\n",
       "        vertical-align: middle;\n",
       "    }\n",
       "\n",
       "    .dataframe tbody tr th {\n",
       "        vertical-align: top;\n",
       "    }\n",
       "\n",
       "    .dataframe thead th {\n",
       "        text-align: right;\n",
       "    }\n",
       "</style>\n",
       "<table border=\"1\" class=\"dataframe\">\n",
       "  <thead>\n",
       "    <tr style=\"text-align: right;\">\n",
       "      <th></th>\n",
       "      <th>Area</th>\n",
       "      <th>Room</th>\n",
       "      <th>Parking</th>\n",
       "      <th>Warehouse</th>\n",
       "      <th>Elevator</th>\n",
       "      <th>Address</th>\n",
       "      <th>Price</th>\n",
       "      <th>Price(USD)</th>\n",
       "    </tr>\n",
       "  </thead>\n",
       "  <tbody>\n",
       "    <tr>\n",
       "      <th>0</th>\n",
       "      <td>63</td>\n",
       "      <td>1</td>\n",
       "      <td>True</td>\n",
       "      <td>True</td>\n",
       "      <td>True</td>\n",
       "      <td>Shahran</td>\n",
       "      <td>1,850,000,000</td>\n",
       "      <td>61667</td>\n",
       "    </tr>\n",
       "    <tr>\n",
       "      <th>1</th>\n",
       "      <td>60</td>\n",
       "      <td>1</td>\n",
       "      <td>True</td>\n",
       "      <td>True</td>\n",
       "      <td>True</td>\n",
       "      <td>Shahran</td>\n",
       "      <td>1,850,000,000</td>\n",
       "      <td>61667</td>\n",
       "    </tr>\n",
       "    <tr>\n",
       "      <th>2</th>\n",
       "      <td>79</td>\n",
       "      <td>2</td>\n",
       "      <td>True</td>\n",
       "      <td>True</td>\n",
       "      <td>True</td>\n",
       "      <td>Pardis</td>\n",
       "      <td>550,000,000</td>\n",
       "      <td>18333</td>\n",
       "    </tr>\n",
       "    <tr>\n",
       "      <th>3</th>\n",
       "      <td>95</td>\n",
       "      <td>2</td>\n",
       "      <td>True</td>\n",
       "      <td>True</td>\n",
       "      <td>True</td>\n",
       "      <td>Shahrake Qods</td>\n",
       "      <td>902,500,000</td>\n",
       "      <td>30083</td>\n",
       "    </tr>\n",
       "    <tr>\n",
       "      <th>4</th>\n",
       "      <td>123</td>\n",
       "      <td>2</td>\n",
       "      <td>True</td>\n",
       "      <td>True</td>\n",
       "      <td>True</td>\n",
       "      <td>Shahrake Gharb</td>\n",
       "      <td>7,000,000,000</td>\n",
       "      <td>233333</td>\n",
       "    </tr>\n",
       "    <tr>\n",
       "      <th>...</th>\n",
       "      <td>...</td>\n",
       "      <td>...</td>\n",
       "      <td>...</td>\n",
       "      <td>...</td>\n",
       "      <td>...</td>\n",
       "      <td>...</td>\n",
       "      <td>...</td>\n",
       "      <td>...</td>\n",
       "    </tr>\n",
       "    <tr>\n",
       "      <th>3474</th>\n",
       "      <td>86</td>\n",
       "      <td>2</td>\n",
       "      <td>True</td>\n",
       "      <td>True</td>\n",
       "      <td>True</td>\n",
       "      <td>Southern Janatabad</td>\n",
       "      <td>3,500,000,000</td>\n",
       "      <td>116667</td>\n",
       "    </tr>\n",
       "    <tr>\n",
       "      <th>3475</th>\n",
       "      <td>83</td>\n",
       "      <td>2</td>\n",
       "      <td>True</td>\n",
       "      <td>True</td>\n",
       "      <td>True</td>\n",
       "      <td>Niavaran</td>\n",
       "      <td>6,800,000,000</td>\n",
       "      <td>226667</td>\n",
       "    </tr>\n",
       "    <tr>\n",
       "      <th>3476</th>\n",
       "      <td>75</td>\n",
       "      <td>2</td>\n",
       "      <td>False</td>\n",
       "      <td>False</td>\n",
       "      <td>False</td>\n",
       "      <td>Parand</td>\n",
       "      <td>365,000,000</td>\n",
       "      <td>12167</td>\n",
       "    </tr>\n",
       "    <tr>\n",
       "      <th>3477</th>\n",
       "      <td>105</td>\n",
       "      <td>2</td>\n",
       "      <td>True</td>\n",
       "      <td>True</td>\n",
       "      <td>True</td>\n",
       "      <td>Dorous</td>\n",
       "      <td>5,600,000,000</td>\n",
       "      <td>186667</td>\n",
       "    </tr>\n",
       "    <tr>\n",
       "      <th>3478</th>\n",
       "      <td>82</td>\n",
       "      <td>2</td>\n",
       "      <td>False</td>\n",
       "      <td>True</td>\n",
       "      <td>True</td>\n",
       "      <td>Parand</td>\n",
       "      <td>360,000,000</td>\n",
       "      <td>12000</td>\n",
       "    </tr>\n",
       "  </tbody>\n",
       "</table>\n",
       "<p>3456 rows × 8 columns</p>\n",
       "</div>"
      ],
      "text/plain": [
       "      Area  Room  Parking  Warehouse  Elevator             Address  \\\n",
       "0       63     1     True       True      True             Shahran   \n",
       "1       60     1     True       True      True             Shahran   \n",
       "2       79     2     True       True      True              Pardis   \n",
       "3       95     2     True       True      True       Shahrake Qods   \n",
       "4      123     2     True       True      True      Shahrake Gharb   \n",
       "...    ...   ...      ...        ...       ...                 ...   \n",
       "3474    86     2     True       True      True  Southern Janatabad   \n",
       "3475    83     2     True       True      True            Niavaran   \n",
       "3476    75     2    False      False     False              Parand   \n",
       "3477   105     2     True       True      True              Dorous   \n",
       "3478    82     2    False       True      True              Parand   \n",
       "\n",
       "              Price  Price(USD)  \n",
       "0     1,850,000,000       61667  \n",
       "1     1,850,000,000       61667  \n",
       "2       550,000,000       18333  \n",
       "3       902,500,000       30083  \n",
       "4     7,000,000,000      233333  \n",
       "...             ...         ...  \n",
       "3474  3,500,000,000      116667  \n",
       "3475  6,800,000,000      226667  \n",
       "3476    365,000,000       12167  \n",
       "3477  5,600,000,000      186667  \n",
       "3478    360,000,000       12000  \n",
       "\n",
       "[3456 rows x 8 columns]"
      ]
     },
     "execution_count": 303,
     "metadata": {},
     "output_type": "execute_result"
    }
   ],
   "source": [
    "df2"
   ]
  },
  {
   "cell_type": "code",
   "execution_count": 304,
   "id": "e05c4509",
   "metadata": {
    "execution": {
     "iopub.execute_input": "2022-08-10T05:50:58.344056Z",
     "iopub.status.busy": "2022-08-10T05:50:58.343345Z",
     "iopub.status.idle": "2022-08-10T05:50:58.350859Z",
     "shell.execute_reply": "2022-08-10T05:50:58.349938Z"
    },
    "papermill": {
     "duration": 0.03241,
     "end_time": "2022-08-10T05:50:58.353090",
     "exception": false,
     "start_time": "2022-08-10T05:50:58.320680",
     "status": "completed"
    },
    "tags": []
   },
   "outputs": [
    {
     "data": {
      "text/plain": [
       "Area            int64\n",
       "Room            int64\n",
       "Parking          bool\n",
       "Warehouse        bool\n",
       "Elevator         bool\n",
       "Address        object\n",
       "Price         float64\n",
       "Price(USD)    float64\n",
       "dtype: object"
      ]
     },
     "execution_count": 304,
     "metadata": {},
     "output_type": "execute_result"
    }
   ],
   "source": [
    "df.dtypes"
   ]
  },
  {
   "cell_type": "markdown",
   "id": "d58f7ed4",
   "metadata": {
    "papermill": {
     "duration": 0.022427,
     "end_time": "2022-08-10T05:50:58.396773",
     "exception": false,
     "start_time": "2022-08-10T05:50:58.374346",
     "status": "completed"
    },
    "tags": []
   },
   "source": [
    "# Visualizaion"
   ]
  },
  {
   "cell_type": "code",
   "execution_count": 305,
   "id": "8a2ae2d0",
   "metadata": {
    "execution": {
     "iopub.execute_input": "2022-08-10T05:50:58.441349Z",
     "iopub.status.busy": "2022-08-10T05:50:58.440590Z",
     "iopub.status.idle": "2022-08-10T05:50:58.817598Z",
     "shell.execute_reply": "2022-08-10T05:50:58.816215Z"
    },
    "papermill": {
     "duration": 0.40187,
     "end_time": "2022-08-10T05:50:58.820064",
     "exception": false,
     "start_time": "2022-08-10T05:50:58.418194",
     "status": "completed"
    },
    "tags": []
   },
   "outputs": [
    {
     "data": {
      "text/plain": [
       "<seaborn.axisgrid.FacetGrid at 0x1bf59551e50>"
      ]
     },
     "execution_count": 305,
     "metadata": {},
     "output_type": "execute_result"
    },
    {
     "data": {
      "text/plain": [
       "<Figure size 800x500 with 0 Axes>"
      ]
     },
     "metadata": {},
     "output_type": "display_data"
    },
    {
     "data": {
      "image/png": "[encoded data removed]",
      "text/plain": [
       "<Figure size 500x500 with 1 Axes>"
      ]
     },
     "metadata": {},
     "output_type": "display_data"
    }
   ],
   "source": [
    "plt.figure(figsize=(8,5))\n",
    "sns.displot(df['Price'] , bins=30 , kde=True )"
   ]
  },
  {
   "cell_type": "code",
   "execution_count": 306,
   "id": "87141b11",
   "metadata": {
    "execution": {
     "iopub.execute_input": "2022-08-10T05:50:59.413288Z",
     "iopub.status.busy": "2022-08-10T05:50:59.412834Z",
     "iopub.status.idle": "2022-08-10T05:51:00.340078Z",
     "shell.execute_reply": "2022-08-10T05:51:00.338385Z"
    },
    "papermill": {
     "duration": 0.95333,
     "end_time": "2022-08-10T05:51:00.342665",
     "exception": false,
     "start_time": "2022-08-10T05:50:59.389335",
     "status": "completed"
    },
    "tags": []
   },
   "outputs": [
    {
     "data": {
      "image/png": "[encoded data removed]",
      "text/plain": [
       "<Figure size 1800x600 with 3 Axes>"
      ]
     },
     "metadata": {},
     "output_type": "display_data"
    }
   ],
   "source": [
    "fig, ax = plt.subplots(ncols=3, figsize=(18,6))\n",
    "\n",
    "colors = [['#ADEFD1FF', '#00203FFF'], ['#97BC62FF', '#2C5F2D'], ['#F5C7B8FF', '#FFA177FF']]\n",
    "explode = [0, 0.2]\n",
    "columns = ['Parking', 'Warehouse', 'Elevator']\n",
    "for i in range(3):\n",
    "        data = df[columns[i]].value_counts()\n",
    "        ax[i].pie(data, labels=data.values, explode=explode, colors=colors[i], shadow=True)\n",
    "        ax[i].legend(labels=data.index, fontsize='large')\n",
    "        ax[i].set_title('{} distribution'.format(columns[i]))"
   ]
  },
  {
   "cell_type": "code",
   "execution_count": 307,
   "id": "67c7e6b7",
   "metadata": {
    "execution": {
     "iopub.execute_input": "2022-08-10T05:51:00.391653Z",
     "iopub.status.busy": "2022-08-10T05:51:00.390962Z",
     "iopub.status.idle": "2022-08-10T05:51:00.399128Z",
     "shell.execute_reply": "2022-08-10T05:51:00.397945Z"
    },
    "papermill": {
     "duration": 0.036308,
     "end_time": "2022-08-10T05:51:00.401974",
     "exception": false,
     "start_time": "2022-08-10T05:51:00.365666",
     "status": "completed"
    },
    "tags": []
   },
   "outputs": [],
   "source": [
    "df3 = df['Address'].value_counts().copy()\n",
    "df3 = df3[:8]\n"
   ]
  },
  {
   "cell_type": "code",
   "execution_count": 308,
   "id": "e6d3072d",
   "metadata": {
    "execution": {
     "iopub.execute_input": "2022-08-10T05:51:00.450390Z",
     "iopub.status.busy": "2022-08-10T05:51:00.449409Z",
     "iopub.status.idle": "2022-08-10T05:51:00.736669Z",
     "shell.execute_reply": "2022-08-10T05:51:00.735642Z"
    },
    "papermill": {
     "duration": 0.314139,
     "end_time": "2022-08-10T05:51:00.739268",
     "exception": false,
     "start_time": "2022-08-10T05:51:00.425129",
     "status": "completed"
    },
    "tags": []
   },
   "outputs": [
    {
     "data": {
      "text/plain": [
       "Text(0.5, 1.0, 'Number of flats in location')"
      ]
     },
     "execution_count": 308,
     "metadata": {},
     "output_type": "execute_result"
    },
    {
     "data": {
      "image/png": "[encoded data removed]",
      "text/plain": [
       "<Figure size 600x1000 with 1 Axes>"
      ]
     },
     "metadata": {},
     "output_type": "display_data"
    }
   ],
   "source": [
    "fig, ax = plt.subplots(figsize=(6,10))\n",
    "sns.barplot(x=df3.values, y=df3.index,ax=ax)\n",
    "plt.xlabel('numerical amount of flats')\n",
    "plt.title('Number of flats in location')"
   ]
  },
  {
   "cell_type": "code",
   "execution_count": 309,
   "id": "bed1fac8",
   "metadata": {
    "execution": {
     "iopub.execute_input": "2022-08-10T05:51:00.789929Z",
     "iopub.status.busy": "2022-08-10T05:51:00.789230Z",
     "iopub.status.idle": "2022-08-10T05:51:00.795600Z",
     "shell.execute_reply": "2022-08-10T05:51:00.794702Z"
    },
    "papermill": {
     "duration": 0.034504,
     "end_time": "2022-08-10T05:51:00.798083",
     "exception": false,
     "start_time": "2022-08-10T05:51:00.763579",
     "status": "completed"
    },
    "scrolled": true,
    "tags": []
   },
   "outputs": [
    {
     "data": {
      "text/plain": [
       "Index(['Area', 'Room', 'Parking', 'Warehouse', 'Elevator', 'Address', 'Price',\n",
       "       'Price(USD)'],\n",
       "      dtype='object')"
      ]
     },
     "execution_count": 309,
     "metadata": {},
     "output_type": "execute_result"
    }
   ],
   "source": [
    "df.columns"
   ]
  },
  {
   "cell_type": "code",
   "execution_count": 310,
   "id": "b738518f",
   "metadata": {
    "execution": {
     "iopub.execute_input": "2022-08-10T05:51:00.847985Z",
     "iopub.status.busy": "2022-08-10T05:51:00.847259Z",
     "iopub.status.idle": "2022-08-10T05:51:00.859665Z",
     "shell.execute_reply": "2022-08-10T05:51:00.858699Z"
    },
    "papermill": {
     "duration": 0.040473,
     "end_time": "2022-08-10T05:51:00.862067",
     "exception": false,
     "start_time": "2022-08-10T05:51:00.821594",
     "status": "completed"
    },
    "tags": []
   },
   "outputs": [
    {
     "data": {
      "text/html": [
       "<div>\n",
       "<style scoped>\n",
       "    .dataframe tbody tr th:only-of-type {\n",
       "        vertical-align: middle;\n",
       "    }\n",
       "\n",
       "    .dataframe tbody tr th {\n",
       "        vertical-align: top;\n",
       "    }\n",
       "\n",
       "    .dataframe thead th {\n",
       "        text-align: right;\n",
       "    }\n",
       "</style>\n",
       "<table border=\"1\" class=\"dataframe\">\n",
       "  <thead>\n",
       "    <tr style=\"text-align: right;\">\n",
       "      <th></th>\n",
       "      <th>Address</th>\n",
       "    </tr>\n",
       "  </thead>\n",
       "  <tbody>\n",
       "    <tr>\n",
       "      <th>1707</th>\n",
       "      <td>Zaferanieh</td>\n",
       "    </tr>\n",
       "    <tr>\n",
       "      <th>1810</th>\n",
       "      <td>Abazar</td>\n",
       "    </tr>\n",
       "    <tr>\n",
       "      <th>430</th>\n",
       "      <td>Lavasan</td>\n",
       "    </tr>\n",
       "    <tr>\n",
       "      <th>819</th>\n",
       "      <td>Ekhtiarieh</td>\n",
       "    </tr>\n",
       "    <tr>\n",
       "      <th>1332</th>\n",
       "      <td>Niavaran</td>\n",
       "    </tr>\n",
       "    <tr>\n",
       "      <th>1694</th>\n",
       "      <td>Zafar</td>\n",
       "    </tr>\n",
       "    <tr>\n",
       "      <th>3051</th>\n",
       "      <td>Dorous</td>\n",
       "    </tr>\n",
       "    <tr>\n",
       "      <th>3107</th>\n",
       "      <td>Tajrish</td>\n",
       "    </tr>\n",
       "    <tr>\n",
       "      <th>831</th>\n",
       "      <td>Mahmoudieh</td>\n",
       "    </tr>\n",
       "    <tr>\n",
       "      <th>2394</th>\n",
       "      <td>Aqdasieh</td>\n",
       "    </tr>\n",
       "    <tr>\n",
       "      <th>2194</th>\n",
       "      <td>Niavaran</td>\n",
       "    </tr>\n",
       "    <tr>\n",
       "      <th>2706</th>\n",
       "      <td>Gandhi</td>\n",
       "    </tr>\n",
       "    <tr>\n",
       "      <th>1863</th>\n",
       "      <td>Elahieh</td>\n",
       "    </tr>\n",
       "    <tr>\n",
       "      <th>1407</th>\n",
       "      <td>North Program Organization</td>\n",
       "    </tr>\n",
       "    <tr>\n",
       "      <th>1635</th>\n",
       "      <td>Vanak</td>\n",
       "    </tr>\n",
       "    <tr>\n",
       "      <th>1270</th>\n",
       "      <td>Mirdamad</td>\n",
       "    </tr>\n",
       "    <tr>\n",
       "      <th>440</th>\n",
       "      <td>Niavaran</td>\n",
       "    </tr>\n",
       "    <tr>\n",
       "      <th>464</th>\n",
       "      <td>Farmanieh</td>\n",
       "    </tr>\n",
       "    <tr>\n",
       "      <th>431</th>\n",
       "      <td>Lavasan</td>\n",
       "    </tr>\n",
       "    <tr>\n",
       "      <th>583</th>\n",
       "      <td>Niavaran</td>\n",
       "    </tr>\n",
       "  </tbody>\n",
       "</table>\n",
       "</div>"
      ],
      "text/plain": [
       "                         Address\n",
       "1707                  Zaferanieh\n",
       "1810                      Abazar\n",
       "430                      Lavasan\n",
       "819                   Ekhtiarieh\n",
       "1332                    Niavaran\n",
       "1694                       Zafar\n",
       "3051                      Dorous\n",
       "3107                     Tajrish\n",
       "831                   Mahmoudieh\n",
       "2394                    Aqdasieh\n",
       "2194                    Niavaran\n",
       "2706                      Gandhi\n",
       "1863                     Elahieh\n",
       "1407  North Program Organization\n",
       "1635                       Vanak\n",
       "1270                    Mirdamad\n",
       "440                     Niavaran\n",
       "464                    Farmanieh\n",
       "431                      Lavasan\n",
       "583                     Niavaran"
      ]
     },
     "execution_count": 310,
     "metadata": {},
     "output_type": "execute_result"
    }
   ],
   "source": [
    "df.sort_values('Price',ascending=False)[['Address']].head(20)"
   ]
  },
  {
   "cell_type": "code",
   "execution_count": 311,
   "id": "eecb1f4e",
   "metadata": {
    "execution": {
     "iopub.execute_input": "2022-08-10T05:51:01.006154Z",
     "iopub.status.busy": "2022-08-10T05:51:01.005464Z",
     "iopub.status.idle": "2022-08-10T05:51:01.014617Z",
     "shell.execute_reply": "2022-08-10T05:51:01.013666Z"
    },
    "papermill": {
     "duration": 0.036714,
     "end_time": "2022-08-10T05:51:01.016976",
     "exception": false,
     "start_time": "2022-08-10T05:51:00.980262",
     "status": "completed"
    },
    "tags": []
   },
   "outputs": [
    {
     "data": {
      "text/plain": [
       "Area          0\n",
       "Room          0\n",
       "Parking       0\n",
       "Warehouse     0\n",
       "Elevator      0\n",
       "Address       0\n",
       "Price         0\n",
       "Price(USD)    0\n",
       "dtype: int64"
      ]
     },
     "execution_count": 311,
     "metadata": {},
     "output_type": "execute_result"
    }
   ],
   "source": [
    "df.isnull().sum()"
   ]
  },
  {
   "cell_type": "code",
   "execution_count": 312,
   "id": "6c033c4e",
   "metadata": {
    "execution": {
     "iopub.execute_input": "2022-08-10T05:51:01.067226Z",
     "iopub.status.busy": "2022-08-10T05:51:01.066506Z",
     "iopub.status.idle": "2022-08-10T05:51:01.083503Z",
     "shell.execute_reply": "2022-08-10T05:51:01.082427Z"
    },
    "papermill": {
     "duration": 0.04505,
     "end_time": "2022-08-10T05:51:01.085780",
     "exception": false,
     "start_time": "2022-08-10T05:51:01.040730",
     "status": "completed"
    },
    "tags": []
   },
   "outputs": [
    {
     "data": {
      "text/html": [
       "<div>\n",
       "<style scoped>\n",
       "    .dataframe tbody tr th:only-of-type {\n",
       "        vertical-align: middle;\n",
       "    }\n",
       "\n",
       "    .dataframe tbody tr th {\n",
       "        vertical-align: top;\n",
       "    }\n",
       "\n",
       "    .dataframe thead th {\n",
       "        text-align: right;\n",
       "    }\n",
       "</style>\n",
       "<table border=\"1\" class=\"dataframe\">\n",
       "  <thead>\n",
       "    <tr style=\"text-align: right;\">\n",
       "      <th></th>\n",
       "      <th>Area</th>\n",
       "      <th>Room</th>\n",
       "      <th>Parking</th>\n",
       "      <th>Warehouse</th>\n",
       "      <th>Elevator</th>\n",
       "      <th>Address</th>\n",
       "      <th>Price</th>\n",
       "      <th>Price(USD)</th>\n",
       "    </tr>\n",
       "  </thead>\n",
       "  <tbody>\n",
       "    <tr>\n",
       "      <th>0</th>\n",
       "      <td>63</td>\n",
       "      <td>1</td>\n",
       "      <td>True</td>\n",
       "      <td>True</td>\n",
       "      <td>True</td>\n",
       "      <td>Shahran</td>\n",
       "      <td>1850000000</td>\n",
       "      <td>61667</td>\n",
       "    </tr>\n",
       "    <tr>\n",
       "      <th>1</th>\n",
       "      <td>60</td>\n",
       "      <td>1</td>\n",
       "      <td>True</td>\n",
       "      <td>True</td>\n",
       "      <td>True</td>\n",
       "      <td>Shahran</td>\n",
       "      <td>1850000000</td>\n",
       "      <td>61667</td>\n",
       "    </tr>\n",
       "    <tr>\n",
       "      <th>2</th>\n",
       "      <td>79</td>\n",
       "      <td>2</td>\n",
       "      <td>True</td>\n",
       "      <td>True</td>\n",
       "      <td>True</td>\n",
       "      <td>Pardis</td>\n",
       "      <td>550000000</td>\n",
       "      <td>18333</td>\n",
       "    </tr>\n",
       "    <tr>\n",
       "      <th>3</th>\n",
       "      <td>95</td>\n",
       "      <td>2</td>\n",
       "      <td>True</td>\n",
       "      <td>True</td>\n",
       "      <td>True</td>\n",
       "      <td>Shahrake Qods</td>\n",
       "      <td>902500000</td>\n",
       "      <td>30083</td>\n",
       "    </tr>\n",
       "    <tr>\n",
       "      <th>4</th>\n",
       "      <td>123</td>\n",
       "      <td>2</td>\n",
       "      <td>True</td>\n",
       "      <td>True</td>\n",
       "      <td>True</td>\n",
       "      <td>Shahrake Gharb</td>\n",
       "      <td>7000000000</td>\n",
       "      <td>233333</td>\n",
       "    </tr>\n",
       "    <tr>\n",
       "      <th>...</th>\n",
       "      <td>...</td>\n",
       "      <td>...</td>\n",
       "      <td>...</td>\n",
       "      <td>...</td>\n",
       "      <td>...</td>\n",
       "      <td>...</td>\n",
       "      <td>...</td>\n",
       "      <td>...</td>\n",
       "    </tr>\n",
       "    <tr>\n",
       "      <th>3474</th>\n",
       "      <td>86</td>\n",
       "      <td>2</td>\n",
       "      <td>True</td>\n",
       "      <td>True</td>\n",
       "      <td>True</td>\n",
       "      <td>Southern Janatabad</td>\n",
       "      <td>3500000000</td>\n",
       "      <td>116667</td>\n",
       "    </tr>\n",
       "    <tr>\n",
       "      <th>3475</th>\n",
       "      <td>83</td>\n",
       "      <td>2</td>\n",
       "      <td>True</td>\n",
       "      <td>True</td>\n",
       "      <td>True</td>\n",
       "      <td>Niavaran</td>\n",
       "      <td>6800000000</td>\n",
       "      <td>226667</td>\n",
       "    </tr>\n",
       "    <tr>\n",
       "      <th>3476</th>\n",
       "      <td>75</td>\n",
       "      <td>2</td>\n",
       "      <td>False</td>\n",
       "      <td>False</td>\n",
       "      <td>False</td>\n",
       "      <td>Parand</td>\n",
       "      <td>365000000</td>\n",
       "      <td>12167</td>\n",
       "    </tr>\n",
       "    <tr>\n",
       "      <th>3477</th>\n",
       "      <td>105</td>\n",
       "      <td>2</td>\n",
       "      <td>True</td>\n",
       "      <td>True</td>\n",
       "      <td>True</td>\n",
       "      <td>Dorous</td>\n",
       "      <td>5600000000</td>\n",
       "      <td>186667</td>\n",
       "    </tr>\n",
       "    <tr>\n",
       "      <th>3478</th>\n",
       "      <td>82</td>\n",
       "      <td>2</td>\n",
       "      <td>False</td>\n",
       "      <td>True</td>\n",
       "      <td>True</td>\n",
       "      <td>Parand</td>\n",
       "      <td>360000000</td>\n",
       "      <td>12000</td>\n",
       "    </tr>\n",
       "  </tbody>\n",
       "</table>\n",
       "<p>3456 rows × 8 columns</p>\n",
       "</div>"
      ],
      "text/plain": [
       "      Area  Room  Parking  Warehouse  Elevator             Address      Price  \\\n",
       "0       63     1     True       True      True             Shahran 1850000000   \n",
       "1       60     1     True       True      True             Shahran 1850000000   \n",
       "2       79     2     True       True      True              Pardis  550000000   \n",
       "3       95     2     True       True      True       Shahrake Qods  902500000   \n",
       "4      123     2     True       True      True      Shahrake Gharb 7000000000   \n",
       "...    ...   ...      ...        ...       ...                 ...        ...   \n",
       "3474    86     2     True       True      True  Southern Janatabad 3500000000   \n",
       "3475    83     2     True       True      True            Niavaran 6800000000   \n",
       "3476    75     2    False      False     False              Parand  365000000   \n",
       "3477   105     2     True       True      True              Dorous 5600000000   \n",
       "3478    82     2    False       True      True              Parand  360000000   \n",
       "\n",
       "      Price(USD)  \n",
       "0          61667  \n",
       "1          61667  \n",
       "2          18333  \n",
       "3          30083  \n",
       "4         233333  \n",
       "...          ...  \n",
       "3474      116667  \n",
       "3475      226667  \n",
       "3476       12167  \n",
       "3477      186667  \n",
       "3478       12000  \n",
       "\n",
       "[3456 rows x 8 columns]"
      ]
     },
     "execution_count": 312,
     "metadata": {},
     "output_type": "execute_result"
    }
   ],
   "source": [
    "df"
   ]
  },
  {
   "cell_type": "markdown",
   "id": "29cbf364",
   "metadata": {
    "papermill": {
     "duration": 0.024074,
     "end_time": "2022-08-10T05:51:01.134178",
     "exception": false,
     "start_time": "2022-08-10T05:51:01.110104",
     "status": "completed"
    },
    "tags": []
   },
   "source": [
    "# Model Building"
   ]
  },
  {
   "cell_type": "code",
   "execution_count": 313,
   "id": "c619f723",
   "metadata": {
    "execution": {
     "iopub.execute_input": "2022-08-10T05:51:01.184956Z",
     "iopub.status.busy": "2022-08-10T05:51:01.184553Z",
     "iopub.status.idle": "2022-08-10T05:51:01.201392Z",
     "shell.execute_reply": "2022-08-10T05:51:01.200453Z"
    },
    "papermill": {
     "duration": 0.04508,
     "end_time": "2022-08-10T05:51:01.203831",
     "exception": false,
     "start_time": "2022-08-10T05:51:01.158751",
     "status": "completed"
    },
    "scrolled": true,
    "tags": []
   },
   "outputs": [
    {
     "data": {
      "text/html": [
       "<div>\n",
       "<style scoped>\n",
       "    .dataframe tbody tr th:only-of-type {\n",
       "        vertical-align: middle;\n",
       "    }\n",
       "\n",
       "    .dataframe tbody tr th {\n",
       "        vertical-align: top;\n",
       "    }\n",
       "\n",
       "    .dataframe thead th {\n",
       "        text-align: right;\n",
       "    }\n",
       "</style>\n",
       "<table border=\"1\" class=\"dataframe\">\n",
       "  <thead>\n",
       "    <tr style=\"text-align: right;\">\n",
       "      <th></th>\n",
       "      <th>Area</th>\n",
       "      <th>Room</th>\n",
       "      <th>Parking</th>\n",
       "      <th>Warehouse</th>\n",
       "      <th>Elevator</th>\n",
       "      <th>Address</th>\n",
       "      <th>Price</th>\n",
       "    </tr>\n",
       "  </thead>\n",
       "  <tbody>\n",
       "    <tr>\n",
       "      <th>0</th>\n",
       "      <td>63</td>\n",
       "      <td>1</td>\n",
       "      <td>1</td>\n",
       "      <td>1</td>\n",
       "      <td>1</td>\n",
       "      <td>Shahran</td>\n",
       "      <td>1850000000</td>\n",
       "    </tr>\n",
       "    <tr>\n",
       "      <th>1</th>\n",
       "      <td>60</td>\n",
       "      <td>1</td>\n",
       "      <td>1</td>\n",
       "      <td>1</td>\n",
       "      <td>1</td>\n",
       "      <td>Shahran</td>\n",
       "      <td>1850000000</td>\n",
       "    </tr>\n",
       "    <tr>\n",
       "      <th>2</th>\n",
       "      <td>79</td>\n",
       "      <td>2</td>\n",
       "      <td>1</td>\n",
       "      <td>1</td>\n",
       "      <td>1</td>\n",
       "      <td>Pardis</td>\n",
       "      <td>550000000</td>\n",
       "    </tr>\n",
       "    <tr>\n",
       "      <th>3</th>\n",
       "      <td>95</td>\n",
       "      <td>2</td>\n",
       "      <td>1</td>\n",
       "      <td>1</td>\n",
       "      <td>1</td>\n",
       "      <td>Shahrake Qods</td>\n",
       "      <td>902500000</td>\n",
       "    </tr>\n",
       "    <tr>\n",
       "      <th>4</th>\n",
       "      <td>123</td>\n",
       "      <td>2</td>\n",
       "      <td>1</td>\n",
       "      <td>1</td>\n",
       "      <td>1</td>\n",
       "      <td>Shahrake Gharb</td>\n",
       "      <td>7000000000</td>\n",
       "    </tr>\n",
       "  </tbody>\n",
       "</table>\n",
       "</div>"
      ],
      "text/plain": [
       "   Area  Room  Parking  Warehouse  Elevator         Address      Price\n",
       "0    63     1        1          1         1         Shahran 1850000000\n",
       "1    60     1        1          1         1         Shahran 1850000000\n",
       "2    79     2        1          1         1          Pardis  550000000\n",
       "3    95     2        1          1         1   Shahrake Qods  902500000\n",
       "4   123     2        1          1         1  Shahrake Gharb 7000000000"
      ]
     },
     "execution_count": 313,
     "metadata": {},
     "output_type": "execute_result"
    }
   ],
   "source": [
    "df = df.drop(columns = ['Price(USD)'])\n",
    "boolean_features = ['Parking','Warehouse','Elevator']\n",
    "df[boolean_features] = df[boolean_features].astype('int64')\n",
    "\n",
    "df.head()"
   ]
  },
  {
   "cell_type": "code",
   "execution_count": 314,
   "id": "b1a342a3",
   "metadata": {
    "execution": {
     "iopub.execute_input": "2022-08-10T05:51:01.255585Z",
     "iopub.status.busy": "2022-08-10T05:51:01.254572Z",
     "iopub.status.idle": "2022-08-10T05:51:01.264179Z",
     "shell.execute_reply": "2022-08-10T05:51:01.263115Z"
    },
    "papermill": {
     "duration": 0.038648,
     "end_time": "2022-08-10T05:51:01.266994",
     "exception": false,
     "start_time": "2022-08-10T05:51:01.228346",
     "status": "completed"
    },
    "tags": []
   },
   "outputs": [],
   "source": [
    "# print(f\"Skewness of features:\\n{df.skew()}\")\n"
   ]
  },
  {
   "cell_type": "code",
   "execution_count": 315,
   "id": "f9e24be0",
   "metadata": {
    "execution": {
     "iopub.execute_input": "2022-08-10T05:51:01.318052Z",
     "iopub.status.busy": "2022-08-10T05:51:01.317335Z",
     "iopub.status.idle": "2022-08-10T05:51:01.643093Z",
     "shell.execute_reply": "2022-08-10T05:51:01.642154Z"
    },
    "papermill": {
     "duration": 0.354232,
     "end_time": "2022-08-10T05:51:01.645338",
     "exception": false,
     "start_time": "2022-08-10T05:51:01.291106",
     "status": "completed"
    },
    "tags": []
   },
   "outputs": [
    {
     "data": {
      "text/plain": [
       "<Axes: xlabel='Price'>"
      ]
     },
     "execution_count": 315,
     "metadata": {},
     "output_type": "execute_result"
    },
    {
     "data": {
      "image/png": "[encoded data removed]",
      "text/plain": [
       "<Figure size 1600x800 with 2 Axes>"
      ]
     },
     "metadata": {},
     "output_type": "display_data"
    }
   ],
   "source": [
    "plt.figure(figsize = (16,8))\n",
    "\n",
    "plt.subplot(2,1,1)\n",
    "sns.boxplot(x = df['Area'])\n",
    "\n",
    "plt.subplot(2,1,2)\n",
    "sns.boxplot(x = df['Price'])"
   ]
  },
  {
   "cell_type": "code",
   "execution_count": 316,
   "id": "b91349d5",
   "metadata": {
    "execution": {
     "iopub.execute_input": "2022-08-10T05:51:01.709523Z",
     "iopub.status.busy": "2022-08-10T05:51:01.708376Z",
     "iopub.status.idle": "2022-08-10T05:51:01.719392Z",
     "shell.execute_reply": "2022-08-10T05:51:01.717363Z"
    },
    "papermill": {
     "duration": 0.052765,
     "end_time": "2022-08-10T05:51:01.723713",
     "exception": false,
     "start_time": "2022-08-10T05:51:01.670948",
     "status": "completed"
    },
    "tags": []
   },
   "outputs": [
    {
     "name": "stdout",
     "output_type": "stream",
     "text": [
      "Lower limit for area: -9.00\n",
      "Upper limit for area: 199.00\n",
      "Lower limit for price: -5,450,000,000.0\n",
      "Upper limit for price: 12,870,000,000.0\n"
     ]
    }
   ],
   "source": [
    "def lower_upper(x):\n",
    "    Q1 = np.percentile(x, 25)\n",
    "    Q3 = np.percentile(x, 75)\n",
    "    IQR = Q3 - Q1\n",
    "    lower = Q1 - 1.5 * IQR\n",
    "    upper = Q3 + 1.5 * IQR\n",
    "    \n",
    "    return lower, upper\n",
    "\n",
    "lower_area, upper_area = lower_upper(df['Area'])\n",
    "lower_price, upper_price = lower_upper(df['Price'])\n",
    "\n",
    "print(f\"Lower limit for area: {lower_area:0.2f}\")\n",
    "print(f\"Upper limit for area: {upper_area:0.2f}\")\n",
    "print(f\"Lower limit for price: {lower_price:,}\")\n",
    "print(f\"Upper limit for price: {upper_price:,}\")"
   ]
  },
  {
   "cell_type": "code",
   "execution_count": 317,
   "id": "f231bdaf",
   "metadata": {
    "execution": {
     "iopub.execute_input": "2022-08-10T05:51:01.775529Z",
     "iopub.status.busy": "2022-08-10T05:51:01.775044Z",
     "iopub.status.idle": "2022-08-10T05:51:01.785213Z",
     "shell.execute_reply": "2022-08-10T05:51:01.783813Z"
    },
    "papermill": {
     "duration": 0.039018,
     "end_time": "2022-08-10T05:51:01.787923",
     "exception": false,
     "start_time": "2022-08-10T05:51:01.748905",
     "status": "completed"
    },
    "tags": []
   },
   "outputs": [
    {
     "name": "stdout",
     "output_type": "stream",
     "text": [
      "Number of area outliers: 237\n",
      "Number of price outliers: 310\n",
      "Number of outliers: 366\n"
     ]
    }
   ],
   "source": [
    "area_outliers = np.where(df['Area'] > upper_area)\n",
    "price_outliers = np.where(df['Price'] > upper_price)\n",
    "# Return the unique, sorted array of values that are in either of the two input arrays.\n",
    "total_outliers = np.union1d(area_outliers, price_outliers)\n",
    "\n",
    "print(f\"Number of area outliers: {len(df.iloc[area_outliers])}\")\n",
    "print(f\"Number of price outliers: {len(df.iloc[price_outliers])}\")\n",
    "print(f\"Number of outliers: {len(df.iloc[total_outliers])}\")"
   ]
  },
  {
   "cell_type": "code",
   "execution_count": 318,
   "id": "00736429",
   "metadata": {
    "execution": {
     "iopub.execute_input": "2022-08-10T05:51:01.840260Z",
     "iopub.status.busy": "2022-08-10T05:51:01.839524Z",
     "iopub.status.idle": "2022-08-10T05:51:01.848375Z",
     "shell.execute_reply": "2022-08-10T05:51:01.847216Z"
    },
    "papermill": {
     "duration": 0.038184,
     "end_time": "2022-08-10T05:51:01.851081",
     "exception": false,
     "start_time": "2022-08-10T05:51:01.812897",
     "status": "completed"
    },
    "tags": []
   },
   "outputs": [
    {
     "data": {
      "text/plain": [
       "array([  25,   58,   83,  101,  145,  159,  160,  166,  173,  176,  187,\n",
       "        189,  193,  195,  196,  200,  210,  215,  218,  220,  226,  234,\n",
       "        235,  238,  260,  262,  264,  269,  270,  281,  283,  284,  297,\n",
       "        299,  315,  327,  329,  338,  339,  340,  342,  343,  344,  345,\n",
       "        346,  347,  348,  349,  351,  353,  355,  356,  362,  363,  364,\n",
       "        394,  410,  411,  412,  429,  430,  436,  439,  458,  463,  496,\n",
       "        512,  514,  515,  516,  525,  534,  547,  553,  559,  564,  565,\n",
       "        566,  567,  569,  572,  576,  577,  578,  579,  582,  599,  600,\n",
       "        610,  627,  635,  638,  640,  641,  648,  649,  652,  706,  712,\n",
       "        721,  729,  730,  731,  738,  739,  740,  753,  765,  792,  803,\n",
       "        804,  816,  819,  828,  834,  836,  849,  872,  876,  891,  955,\n",
       "        956,  962, 1005, 1006, 1012, 1021, 1022, 1028, 1031, 1033, 1103,\n",
       "       1110, 1114, 1128, 1136, 1137, 1148, 1174, 1175, 1228, 1230, 1231,\n",
       "       1232, 1258, 1260, 1265, 1266, 1270, 1282, 1287, 1305, 1306, 1307,\n",
       "       1308, 1309, 1318, 1323, 1327, 1328, 1337, 1340, 1344, 1345, 1347,\n",
       "       1350, 1352, 1354, 1361, 1384, 1396, 1397, 1401, 1402, 1403, 1410,\n",
       "       1420, 1421, 1422, 1423, 1424, 1428, 1430, 1432, 1433, 1438, 1439,\n",
       "       1458, 1478, 1480, 1483, 1521, 1526, 1529, 1540, 1541, 1546, 1559,\n",
       "       1560, 1562, 1581, 1582, 1585, 1598, 1607, 1619, 1629, 1636, 1638,\n",
       "       1643, 1644, 1646, 1652, 1659, 1676, 1687, 1688, 1694, 1701, 1705,\n",
       "       1715, 1717, 1720, 1734, 1761, 1762, 1772, 1785, 1800, 1803, 1804,\n",
       "       1814, 1820, 1821, 1847, 1851, 1855, 1856, 1861, 1864, 1876, 1878,\n",
       "       1905, 1909, 1911, 1912, 1913, 1924, 1935, 1963, 1966, 1967, 1977,\n",
       "       1978, 1979, 1980, 1982, 1986, 1987, 1988, 1989, 1990, 1995, 1996,\n",
       "       1997, 1999, 2000, 2004, 2007, 2009, 2011, 2013, 2022, 2023, 2025,\n",
       "       2084, 2102, 2133, 2160, 2161, 2168, 2169, 2184, 2226, 2255, 2263,\n",
       "       2264, 2267, 2271, 2303, 2309, 2320, 2323, 2339, 2346, 2349, 2350,\n",
       "       2353, 2356, 2358, 2359, 2360, 2363, 2382, 2383, 2389, 2455, 2463,\n",
       "       2465, 2468, 2489, 2506, 2519, 2548, 2564, 2567, 2571, 2585, 2615,\n",
       "       2627, 2634, 2676, 2680, 2693, 2709, 2765, 2788, 2796, 2836, 2877,\n",
       "       2931, 2946, 2955, 2977, 2986, 3002, 3036, 3041, 3049, 3061, 3073,\n",
       "       3092, 3096, 3100, 3117, 3125, 3167, 3168, 3177, 3197, 3221, 3227,\n",
       "       3237, 3238, 3247, 3250, 3253, 3271, 3306, 3314, 3345, 3352, 3367,\n",
       "       3373, 3415, 3419], dtype=int64)"
      ]
     },
     "execution_count": 318,
     "metadata": {},
     "output_type": "execute_result"
    }
   ],
   "source": [
    "total_outliers"
   ]
  },
  {
   "cell_type": "code",
   "execution_count": 319,
   "id": "b744ba5e",
   "metadata": {
    "execution": {
     "iopub.execute_input": "2022-08-10T05:51:02.147680Z",
     "iopub.status.busy": "2022-08-10T05:51:02.146294Z",
     "iopub.status.idle": "2022-08-10T05:51:02.177957Z",
     "shell.execute_reply": "2022-08-10T05:51:02.176847Z"
    },
    "papermill": {
     "duration": 0.061167,
     "end_time": "2022-08-10T05:51:02.180451",
     "exception": false,
     "start_time": "2022-08-10T05:51:02.119284",
     "status": "completed"
    },
    "tags": []
   },
   "outputs": [
    {
     "data": {
      "text/html": [
       "<div>\n",
       "<style scoped>\n",
       "    .dataframe tbody tr th:only-of-type {\n",
       "        vertical-align: middle;\n",
       "    }\n",
       "\n",
       "    .dataframe tbody tr th {\n",
       "        vertical-align: top;\n",
       "    }\n",
       "\n",
       "    .dataframe thead th {\n",
       "        text-align: right;\n",
       "    }\n",
       "</style>\n",
       "<table border=\"1\" class=\"dataframe\">\n",
       "  <thead>\n",
       "    <tr style=\"text-align: right;\">\n",
       "      <th></th>\n",
       "      <th>Area</th>\n",
       "      <th>Room</th>\n",
       "      <th>Parking</th>\n",
       "      <th>Warehouse</th>\n",
       "      <th>Elevator</th>\n",
       "      <th>Price</th>\n",
       "      <th>Abazar</th>\n",
       "      <th>Abbasabad</th>\n",
       "      <th>Absard</th>\n",
       "      <th>Abuzar</th>\n",
       "      <th>...</th>\n",
       "      <th>Waterfall</th>\n",
       "      <th>West Ferdows Boulevard</th>\n",
       "      <th>West Pars</th>\n",
       "      <th>Yaftabad</th>\n",
       "      <th>Yakhchiabad</th>\n",
       "      <th>Yousef Abad</th>\n",
       "      <th>Zafar</th>\n",
       "      <th>Zaferanieh</th>\n",
       "      <th>Zargandeh</th>\n",
       "      <th>Zibadasht</th>\n",
       "    </tr>\n",
       "  </thead>\n",
       "  <tbody>\n",
       "    <tr>\n",
       "      <th>0</th>\n",
       "      <td>63</td>\n",
       "      <td>1</td>\n",
       "      <td>1</td>\n",
       "      <td>1</td>\n",
       "      <td>1</td>\n",
       "      <td>1850000000</td>\n",
       "      <td>False</td>\n",
       "      <td>False</td>\n",
       "      <td>False</td>\n",
       "      <td>False</td>\n",
       "      <td>...</td>\n",
       "      <td>False</td>\n",
       "      <td>False</td>\n",
       "      <td>False</td>\n",
       "      <td>False</td>\n",
       "      <td>False</td>\n",
       "      <td>False</td>\n",
       "      <td>False</td>\n",
       "      <td>False</td>\n",
       "      <td>False</td>\n",
       "      <td>False</td>\n",
       "    </tr>\n",
       "    <tr>\n",
       "      <th>1</th>\n",
       "      <td>60</td>\n",
       "      <td>1</td>\n",
       "      <td>1</td>\n",
       "      <td>1</td>\n",
       "      <td>1</td>\n",
       "      <td>1850000000</td>\n",
       "      <td>False</td>\n",
       "      <td>False</td>\n",
       "      <td>False</td>\n",
       "      <td>False</td>\n",
       "      <td>...</td>\n",
       "      <td>False</td>\n",
       "      <td>False</td>\n",
       "      <td>False</td>\n",
       "      <td>False</td>\n",
       "      <td>False</td>\n",
       "      <td>False</td>\n",
       "      <td>False</td>\n",
       "      <td>False</td>\n",
       "      <td>False</td>\n",
       "      <td>False</td>\n",
       "    </tr>\n",
       "    <tr>\n",
       "      <th>2</th>\n",
       "      <td>79</td>\n",
       "      <td>2</td>\n",
       "      <td>1</td>\n",
       "      <td>1</td>\n",
       "      <td>1</td>\n",
       "      <td>550000000</td>\n",
       "      <td>False</td>\n",
       "      <td>False</td>\n",
       "      <td>False</td>\n",
       "      <td>False</td>\n",
       "      <td>...</td>\n",
       "      <td>False</td>\n",
       "      <td>False</td>\n",
       "      <td>False</td>\n",
       "      <td>False</td>\n",
       "      <td>False</td>\n",
       "      <td>False</td>\n",
       "      <td>False</td>\n",
       "      <td>False</td>\n",
       "      <td>False</td>\n",
       "      <td>False</td>\n",
       "    </tr>\n",
       "  </tbody>\n",
       "</table>\n",
       "<p>3 rows × 198 columns</p>\n",
       "</div>"
      ],
      "text/plain": [
       "   Area  Room  Parking  Warehouse  Elevator      Price  Abazar  Abbasabad  \\\n",
       "0    63     1        1          1         1 1850000000   False      False   \n",
       "1    60     1        1          1         1 1850000000   False      False   \n",
       "2    79     2        1          1         1  550000000   False      False   \n",
       "\n",
       "   Absard  Abuzar  ...  Waterfall  West Ferdows Boulevard  West Pars  \\\n",
       "0   False   False  ...      False                   False      False   \n",
       "1   False   False  ...      False                   False      False   \n",
       "2   False   False  ...      False                   False      False   \n",
       "\n",
       "   Yaftabad  Yakhchiabad  Yousef Abad  Zafar  Zaferanieh  Zargandeh  Zibadasht  \n",
       "0     False        False        False  False       False      False      False  \n",
       "1     False        False        False  False       False      False      False  \n",
       "2     False        False        False  False       False      False      False  \n",
       "\n",
       "[3 rows x 198 columns]"
      ]
     },
     "execution_count": 319,
     "metadata": {},
     "output_type": "execute_result"
    }
   ],
   "source": [
    "address_dummy = pd.get_dummies(df['Address'])\n",
    "df_final = df.merge(address_dummy, left_index = True, right_index = True)\n",
    "df_final.drop(columns = 'Address', inplace = True)\n",
    "df_final.head(3)"
   ]
  },
  {
   "cell_type": "code",
   "execution_count": 320,
   "id": "1e28105e",
   "metadata": {
    "execution": {
     "iopub.execute_input": "2022-08-10T05:51:02.233126Z",
     "iopub.status.busy": "2022-08-10T05:51:02.232695Z",
     "iopub.status.idle": "2022-08-10T05:51:02.259707Z",
     "shell.execute_reply": "2022-08-10T05:51:02.258494Z"
    },
    "papermill": {
     "duration": 0.056245,
     "end_time": "2022-08-10T05:51:02.262058",
     "exception": false,
     "start_time": "2022-08-10T05:51:02.205813",
     "status": "completed"
    },
    "tags": []
   },
   "outputs": [
    {
     "data": {
      "text/html": [
       "<div>\n",
       "<style scoped>\n",
       "    .dataframe tbody tr th:only-of-type {\n",
       "        vertical-align: middle;\n",
       "    }\n",
       "\n",
       "    .dataframe tbody tr th {\n",
       "        vertical-align: top;\n",
       "    }\n",
       "\n",
       "    .dataframe thead th {\n",
       "        text-align: right;\n",
       "    }\n",
       "</style>\n",
       "<table border=\"1\" class=\"dataframe\">\n",
       "  <thead>\n",
       "    <tr style=\"text-align: right;\">\n",
       "      <th></th>\n",
       "      <th>Area</th>\n",
       "      <th>Room</th>\n",
       "      <th>Parking</th>\n",
       "      <th>Warehouse</th>\n",
       "      <th>Elevator</th>\n",
       "      <th>Price</th>\n",
       "      <th>Abazar</th>\n",
       "      <th>Abbasabad</th>\n",
       "      <th>Absard</th>\n",
       "      <th>Abuzar</th>\n",
       "      <th>...</th>\n",
       "      <th>Waterfall</th>\n",
       "      <th>West Ferdows Boulevard</th>\n",
       "      <th>West Pars</th>\n",
       "      <th>Yaftabad</th>\n",
       "      <th>Yakhchiabad</th>\n",
       "      <th>Yousef Abad</th>\n",
       "      <th>Zafar</th>\n",
       "      <th>Zaferanieh</th>\n",
       "      <th>Zargandeh</th>\n",
       "      <th>Zibadasht</th>\n",
       "    </tr>\n",
       "  </thead>\n",
       "  <tbody>\n",
       "    <tr>\n",
       "      <th>0</th>\n",
       "      <td>63</td>\n",
       "      <td>1</td>\n",
       "      <td>1</td>\n",
       "      <td>1</td>\n",
       "      <td>1</td>\n",
       "      <td>1850000000</td>\n",
       "      <td>False</td>\n",
       "      <td>False</td>\n",
       "      <td>False</td>\n",
       "      <td>False</td>\n",
       "      <td>...</td>\n",
       "      <td>False</td>\n",
       "      <td>False</td>\n",
       "      <td>False</td>\n",
       "      <td>False</td>\n",
       "      <td>False</td>\n",
       "      <td>False</td>\n",
       "      <td>False</td>\n",
       "      <td>False</td>\n",
       "      <td>False</td>\n",
       "      <td>False</td>\n",
       "    </tr>\n",
       "    <tr>\n",
       "      <th>1</th>\n",
       "      <td>60</td>\n",
       "      <td>1</td>\n",
       "      <td>1</td>\n",
       "      <td>1</td>\n",
       "      <td>1</td>\n",
       "      <td>1850000000</td>\n",
       "      <td>False</td>\n",
       "      <td>False</td>\n",
       "      <td>False</td>\n",
       "      <td>False</td>\n",
       "      <td>...</td>\n",
       "      <td>False</td>\n",
       "      <td>False</td>\n",
       "      <td>False</td>\n",
       "      <td>False</td>\n",
       "      <td>False</td>\n",
       "      <td>False</td>\n",
       "      <td>False</td>\n",
       "      <td>False</td>\n",
       "      <td>False</td>\n",
       "      <td>False</td>\n",
       "    </tr>\n",
       "    <tr>\n",
       "      <th>2</th>\n",
       "      <td>79</td>\n",
       "      <td>2</td>\n",
       "      <td>1</td>\n",
       "      <td>1</td>\n",
       "      <td>1</td>\n",
       "      <td>550000000</td>\n",
       "      <td>False</td>\n",
       "      <td>False</td>\n",
       "      <td>False</td>\n",
       "      <td>False</td>\n",
       "      <td>...</td>\n",
       "      <td>False</td>\n",
       "      <td>False</td>\n",
       "      <td>False</td>\n",
       "      <td>False</td>\n",
       "      <td>False</td>\n",
       "      <td>False</td>\n",
       "      <td>False</td>\n",
       "      <td>False</td>\n",
       "      <td>False</td>\n",
       "      <td>False</td>\n",
       "    </tr>\n",
       "    <tr>\n",
       "      <th>3</th>\n",
       "      <td>95</td>\n",
       "      <td>2</td>\n",
       "      <td>1</td>\n",
       "      <td>1</td>\n",
       "      <td>1</td>\n",
       "      <td>902500000</td>\n",
       "      <td>False</td>\n",
       "      <td>False</td>\n",
       "      <td>False</td>\n",
       "      <td>False</td>\n",
       "      <td>...</td>\n",
       "      <td>False</td>\n",
       "      <td>False</td>\n",
       "      <td>False</td>\n",
       "      <td>False</td>\n",
       "      <td>False</td>\n",
       "      <td>False</td>\n",
       "      <td>False</td>\n",
       "      <td>False</td>\n",
       "      <td>False</td>\n",
       "      <td>False</td>\n",
       "    </tr>\n",
       "    <tr>\n",
       "      <th>4</th>\n",
       "      <td>123</td>\n",
       "      <td>2</td>\n",
       "      <td>1</td>\n",
       "      <td>1</td>\n",
       "      <td>1</td>\n",
       "      <td>7000000000</td>\n",
       "      <td>False</td>\n",
       "      <td>False</td>\n",
       "      <td>False</td>\n",
       "      <td>False</td>\n",
       "      <td>...</td>\n",
       "      <td>False</td>\n",
       "      <td>False</td>\n",
       "      <td>False</td>\n",
       "      <td>False</td>\n",
       "      <td>False</td>\n",
       "      <td>False</td>\n",
       "      <td>False</td>\n",
       "      <td>False</td>\n",
       "      <td>False</td>\n",
       "      <td>False</td>\n",
       "    </tr>\n",
       "    <tr>\n",
       "      <th>...</th>\n",
       "      <td>...</td>\n",
       "      <td>...</td>\n",
       "      <td>...</td>\n",
       "      <td>...</td>\n",
       "      <td>...</td>\n",
       "      <td>...</td>\n",
       "      <td>...</td>\n",
       "      <td>...</td>\n",
       "      <td>...</td>\n",
       "      <td>...</td>\n",
       "      <td>...</td>\n",
       "      <td>...</td>\n",
       "      <td>...</td>\n",
       "      <td>...</td>\n",
       "      <td>...</td>\n",
       "      <td>...</td>\n",
       "      <td>...</td>\n",
       "      <td>...</td>\n",
       "      <td>...</td>\n",
       "      <td>...</td>\n",
       "      <td>...</td>\n",
       "    </tr>\n",
       "    <tr>\n",
       "      <th>3474</th>\n",
       "      <td>86</td>\n",
       "      <td>2</td>\n",
       "      <td>1</td>\n",
       "      <td>1</td>\n",
       "      <td>1</td>\n",
       "      <td>3500000000</td>\n",
       "      <td>False</td>\n",
       "      <td>False</td>\n",
       "      <td>False</td>\n",
       "      <td>False</td>\n",
       "      <td>...</td>\n",
       "      <td>False</td>\n",
       "      <td>False</td>\n",
       "      <td>False</td>\n",
       "      <td>False</td>\n",
       "      <td>False</td>\n",
       "      <td>False</td>\n",
       "      <td>False</td>\n",
       "      <td>False</td>\n",
       "      <td>False</td>\n",
       "      <td>False</td>\n",
       "    </tr>\n",
       "    <tr>\n",
       "      <th>3475</th>\n",
       "      <td>83</td>\n",
       "      <td>2</td>\n",
       "      <td>1</td>\n",
       "      <td>1</td>\n",
       "      <td>1</td>\n",
       "      <td>6800000000</td>\n",
       "      <td>False</td>\n",
       "      <td>False</td>\n",
       "      <td>False</td>\n",
       "      <td>False</td>\n",
       "      <td>...</td>\n",
       "      <td>False</td>\n",
       "      <td>False</td>\n",
       "      <td>False</td>\n",
       "      <td>False</td>\n",
       "      <td>False</td>\n",
       "      <td>False</td>\n",
       "      <td>False</td>\n",
       "      <td>False</td>\n",
       "      <td>False</td>\n",
       "      <td>False</td>\n",
       "    </tr>\n",
       "    <tr>\n",
       "      <th>3476</th>\n",
       "      <td>75</td>\n",
       "      <td>2</td>\n",
       "      <td>0</td>\n",
       "      <td>0</td>\n",
       "      <td>0</td>\n",
       "      <td>365000000</td>\n",
       "      <td>False</td>\n",
       "      <td>False</td>\n",
       "      <td>False</td>\n",
       "      <td>False</td>\n",
       "      <td>...</td>\n",
       "      <td>False</td>\n",
       "      <td>False</td>\n",
       "      <td>False</td>\n",
       "      <td>False</td>\n",
       "      <td>False</td>\n",
       "      <td>False</td>\n",
       "      <td>False</td>\n",
       "      <td>False</td>\n",
       "      <td>False</td>\n",
       "      <td>False</td>\n",
       "    </tr>\n",
       "    <tr>\n",
       "      <th>3477</th>\n",
       "      <td>105</td>\n",
       "      <td>2</td>\n",
       "      <td>1</td>\n",
       "      <td>1</td>\n",
       "      <td>1</td>\n",
       "      <td>5600000000</td>\n",
       "      <td>False</td>\n",
       "      <td>False</td>\n",
       "      <td>False</td>\n",
       "      <td>False</td>\n",
       "      <td>...</td>\n",
       "      <td>False</td>\n",
       "      <td>False</td>\n",
       "      <td>False</td>\n",
       "      <td>False</td>\n",
       "      <td>False</td>\n",
       "      <td>False</td>\n",
       "      <td>False</td>\n",
       "      <td>False</td>\n",
       "      <td>False</td>\n",
       "      <td>False</td>\n",
       "    </tr>\n",
       "    <tr>\n",
       "      <th>3478</th>\n",
       "      <td>82</td>\n",
       "      <td>2</td>\n",
       "      <td>0</td>\n",
       "      <td>1</td>\n",
       "      <td>1</td>\n",
       "      <td>360000000</td>\n",
       "      <td>False</td>\n",
       "      <td>False</td>\n",
       "      <td>False</td>\n",
       "      <td>False</td>\n",
       "      <td>...</td>\n",
       "      <td>False</td>\n",
       "      <td>False</td>\n",
       "      <td>False</td>\n",
       "      <td>False</td>\n",
       "      <td>False</td>\n",
       "      <td>False</td>\n",
       "      <td>False</td>\n",
       "      <td>False</td>\n",
       "      <td>False</td>\n",
       "      <td>False</td>\n",
       "    </tr>\n",
       "  </tbody>\n",
       "</table>\n",
       "<p>3456 rows × 198 columns</p>\n",
       "</div>"
      ],
      "text/plain": [
       "      Area  Room  Parking  Warehouse  Elevator      Price  Abazar  Abbasabad  \\\n",
       "0       63     1        1          1         1 1850000000   False      False   \n",
       "1       60     1        1          1         1 1850000000   False      False   \n",
       "2       79     2        1          1         1  550000000   False      False   \n",
       "3       95     2        1          1         1  902500000   False      False   \n",
       "4      123     2        1          1         1 7000000000   False      False   \n",
       "...    ...   ...      ...        ...       ...        ...     ...        ...   \n",
       "3474    86     2        1          1         1 3500000000   False      False   \n",
       "3475    83     2        1          1         1 6800000000   False      False   \n",
       "3476    75     2        0          0         0  365000000   False      False   \n",
       "3477   105     2        1          1         1 5600000000   False      False   \n",
       "3478    82     2        0          1         1  360000000   False      False   \n",
       "\n",
       "      Absard  Abuzar  ...  Waterfall  West Ferdows Boulevard  West Pars  \\\n",
       "0      False   False  ...      False                   False      False   \n",
       "1      False   False  ...      False                   False      False   \n",
       "2      False   False  ...      False                   False      False   \n",
       "3      False   False  ...      False                   False      False   \n",
       "4      False   False  ...      False                   False      False   \n",
       "...      ...     ...  ...        ...                     ...        ...   \n",
       "3474   False   False  ...      False                   False      False   \n",
       "3475   False   False  ...      False                   False      False   \n",
       "3476   False   False  ...      False                   False      False   \n",
       "3477   False   False  ...      False                   False      False   \n",
       "3478   False   False  ...      False                   False      False   \n",
       "\n",
       "      Yaftabad  Yakhchiabad  Yousef Abad  Zafar  Zaferanieh  Zargandeh  \\\n",
       "0        False        False        False  False       False      False   \n",
       "1        False        False        False  False       False      False   \n",
       "2        False        False        False  False       False      False   \n",
       "3        False        False        False  False       False      False   \n",
       "4        False        False        False  False       False      False   \n",
       "...        ...          ...          ...    ...         ...        ...   \n",
       "3474     False        False        False  False       False      False   \n",
       "3475     False        False        False  False       False      False   \n",
       "3476     False        False        False  False       False      False   \n",
       "3477     False        False        False  False       False      False   \n",
       "3478     False        False        False  False       False      False   \n",
       "\n",
       "      Zibadasht  \n",
       "0         False  \n",
       "1         False  \n",
       "2         False  \n",
       "3         False  \n",
       "4         False  \n",
       "...         ...  \n",
       "3474      False  \n",
       "3475      False  \n",
       "3476      False  \n",
       "3477      False  \n",
       "3478      False  \n",
       "\n",
       "[3456 rows x 198 columns]"
      ]
     },
     "execution_count": 320,
     "metadata": {},
     "output_type": "execute_result"
    }
   ],
   "source": [
    "df_final"
   ]
  },
  {
   "cell_type": "code",
   "execution_count": 321,
   "id": "dce226e4",
   "metadata": {
    "execution": {
     "iopub.execute_input": "2022-08-10T05:51:02.316342Z",
     "iopub.status.busy": "2022-08-10T05:51:02.315825Z",
     "iopub.status.idle": "2022-08-10T05:51:02.332969Z",
     "shell.execute_reply": "2022-08-10T05:51:02.331215Z"
    },
    "papermill": {
     "duration": 0.047678,
     "end_time": "2022-08-10T05:51:02.335751",
     "exception": false,
     "start_time": "2022-08-10T05:51:02.288073",
     "status": "completed"
    },
    "tags": []
   },
   "outputs": [
    {
     "name": "stdout",
     "output_type": "stream",
     "text": [
      "shape of x train: (2764, 197)\n",
      "shape of y train: (2764,)\n",
      "shape of x test: (692, 197)\n",
      "shape of y train: (692,)\n"
     ]
    }
   ],
   "source": [
    "X = df_final.drop(columns = 'Price')\n",
    "y = df_final['Price']\n",
    "X_train, X_test, y_train, y_test = train_test_split(X, y, test_size = 0.2, random_state = 0)\n",
    "print(f\"shape of x train: {X_train.shape}\")\n",
    "print(f\"shape of y train: {y_train.shape}\")\n",
    "print(f\"shape of x test: {X_test.shape}\")\n",
    "print(f\"shape of y train: {y_test.shape}\")"
   ]
  },
  {
   "cell_type": "code",
   "execution_count": 322,
   "id": "7c14fd1c",
   "metadata": {
    "execution": {
     "iopub.execute_input": "2022-08-10T05:51:02.391103Z",
     "iopub.status.busy": "2022-08-10T05:51:02.389927Z",
     "iopub.status.idle": "2022-08-10T05:51:02.400492Z",
     "shell.execute_reply": "2022-08-10T05:51:02.399217Z"
    },
    "papermill": {
     "duration": 0.04114,
     "end_time": "2022-08-10T05:51:02.403411",
     "exception": false,
     "start_time": "2022-08-10T05:51:02.362271",
     "status": "completed"
    },
    "tags": []
   },
   "outputs": [],
   "source": [
    "def parameter_finder (model, parameters):\n",
    "    \n",
    "    start = time.time()\n",
    "    \n",
    "    grid = GridSearchCV(model, \n",
    "                        param_grid = parameters, \n",
    "                        refit = True, \n",
    "                        cv = KFold(shuffle = True, random_state = 1), \n",
    "                        n_jobs = -1)\n",
    "    grid_fit = grid.fit(X_train, y_train)\n",
    "    y_train_pred = grid_fit.predict(X_train)\n",
    "    y_pred = grid_fit.predict(X_test)\n",
    "    \n",
    "    train_score =grid_fit.score(X_train, y_train)\n",
    "    test_score = grid_fit.score(X_test, y_test)\n",
    "    RMSE = np.sqrt(mean_squared_error(y_test, y_pred))\n",
    "    \n",
    "    model_name = str(model).split('(')[0]\n",
    "    \n",
    "    end = time.time()\n",
    "    \n",
    "    print(f\"The best parameters for {model_name} model is: {grid_fit.best_params_}\")\n",
    "    print(\"--\" * 10)\n",
    "    print(f\"(R2 score) in the training set is {train_score:0.2%} for {model_name} model.\")\n",
    "    print(f\"(R2 score) in the testing set is {test_score:0.2%} for {model_name} model.\")\n",
    "    print(f\"RMSE is {RMSE:,} for {model_name} model.\")\n",
    "    print(\"--\" * 10)\n",
    "    print(f\"Runtime of the program is: {end - start:0.2f}\")\n",
    "    \n",
    "       \n",
    "    return train_score, test_score, RMSE"
   ]
  },
  {
   "cell_type": "markdown",
   "id": "4b0e29a5",
   "metadata": {},
   "source": [
    "# Prediction"
   ]
  },
  {
   "cell_type": "code",
   "execution_count": 323,
   "id": "4f6e2273",
   "metadata": {
    "execution": {
     "iopub.execute_input": "2022-08-10T05:51:02.458378Z",
     "iopub.status.busy": "2022-08-10T05:51:02.457667Z",
     "iopub.status.idle": "2022-08-10T05:51:04.676096Z",
     "shell.execute_reply": "2022-08-10T05:51:04.671881Z"
    },
    "papermill": {
     "duration": 2.252312,
     "end_time": "2022-08-10T05:51:04.682074",
     "exception": false,
     "start_time": "2022-08-10T05:51:02.429762",
     "status": "completed"
    },
    "tags": []
   },
   "outputs": [],
   "source": [
    "lr = LinearRegression().fit(X_train,y_train)"
   ]
  },
  {
   "cell_type": "code",
   "execution_count": 324,
   "id": "6300c8d8",
   "metadata": {},
   "outputs": [],
   "source": [
    "X_cols = ['Area', 'Room', 'Parking', 'Warehouse', 'Elevator', 'Abazar',\n",
    "        'Abbasabad', 'Absard', 'Abuzar', 'Afsarieh', 'Ahang', 'Air force',\n",
    "        'Ajudaniye', 'Alborz Complex', 'Aliabad South', 'Amir Bahador',\n",
    "        'Amirabad', 'Amirieh', 'Andisheh', 'Aqdasieh', 'Araj', 'Argentina',\n",
    "        'Atabak', 'Azadshahr', 'Azarbaijan', 'Azari', 'Baghestan', 'Bahar',\n",
    "        'Baqershahr', 'Beryanak', 'Boloorsazi', 'Central Janatabad',\n",
    "        'Chahardangeh', 'Chardangeh', 'Chardivari', 'Chidz', 'Damavand',\n",
    "        'Darabad', 'Darakeh', 'Darband', 'Daryan No', 'Dehkade Olampic',\n",
    "        'Dezashib', 'Dolatabad', 'Dorous', 'East Ferdows Boulevard',\n",
    "        'East Pars', 'Ekbatan', 'Ekhtiarieh', 'Elahieh', 'Elm-o-Sanat',\n",
    "        'Enghelab', 'Eram', 'Eskandari', 'Fallah', 'Farmanieh', 'Fatemi',\n",
    "        'Feiz Garden', 'Firoozkooh', 'Firoozkooh Kuhsar', 'Gandhi',\n",
    "        'Garden of Saba', 'Gheitarieh', 'Ghiyamdasht', 'Ghoba', 'Gholhak',\n",
    "        'Gisha', 'Golestan', 'Haft Tir', 'Hakimiyeh', 'Hashemi', 'Hassan Abad',\n",
    "        'Hekmat', 'Heravi', 'Heshmatieh', 'Hor Square', 'Islamshahr',\n",
    "        'Islamshahr Elahieh', 'Javadiyeh', 'Jeyhoon', 'Jordan', 'Kahrizak',\n",
    "        'Kamranieh', 'Karimkhan', 'Karoon', 'Kazemabad', 'Keshavarz Boulevard',\n",
    "        'Khademabad Garden', 'Khavaran', 'Komeil', 'Koohsar', 'Kook', 'Lavasan',\n",
    "        'Lavizan', 'Mahallati', 'Mahmoudieh', 'Majidieh', 'Malard', 'Marzdaran',\n",
    "        'Mehrabad', 'Mehrabad River River', 'Mehran', 'Mirdamad',\n",
    "        'Mirza Shirazi', 'Moniriyeh', 'Narmak', 'Nasim Shahr', 'Nawab',\n",
    "        'Naziabad', 'Nezamabad', 'Niavaran', 'North Program Organization',\n",
    "        'Northern Chitgar', 'Northern Janatabad', 'Northern Suhrawardi',\n",
    "        'Northren Jamalzadeh', 'Ostad Moein', 'Ozgol', 'Pakdasht',\n",
    "        'Pakdasht KhatunAbad', 'Parand', 'Parastar', 'Pardis', 'Pasdaran',\n",
    "        'Persian Gulf Martyrs Lake', 'Pirouzi', 'Pishva', 'Punak', 'Qalandari',\n",
    "        'Qarchak', 'Qasr-od-Dasht', 'Qazvin Imamzadeh Hassan', 'Railway', 'Ray',\n",
    "        'Ray - Montazeri', 'Ray - Pilgosh', 'Razi', 'Republic', 'Robat Karim',\n",
    "        'Rudhen', 'Saadat Abad', 'SabaShahr', 'Sabalan', 'Sadeghieh',\n",
    "        'Safadasht', 'Salehabad', 'Salsabil', 'Sattarkhan', 'Seyed Khandan',\n",
    "        'Shadabad', 'Shahedshahr', 'Shahr-e-Ziba', 'ShahrAra',\n",
    "        'Shahrake Apadana', 'Shahrake Azadi', 'Shahrake Gharb',\n",
    "        'Shahrake Madaen', 'Shahrake Qods', 'Shahrake Quds',\n",
    "        'Shahrake Shahid Bagheri', 'Shahrakeh Naft', 'Shahran', 'Shahryar',\n",
    "        'Shams Abad', 'Shoosh', 'Si Metri Ji', 'Sohanak', 'Southern Chitgar',\n",
    "        'Southern Janatabad', 'Southern Program Organization',\n",
    "        'Southern Suhrawardi', 'Tajrish', 'Tarasht', 'Taslihat', 'Tehran Now',\n",
    "        'Tehransar', 'Telecommunication', 'Tenant', 'Thirteen November',\n",
    "        'Vahidieh', 'Vahidiyeh', 'Valiasr', 'Vanak', 'Varamin - Beheshti',\n",
    "        'Velenjak', 'Villa', 'Water Organization', 'Waterfall',\n",
    "        'West Ferdows Boulevard', 'West Pars', 'Yaftabad', 'Yakhchiabad',\n",
    "        'Yousef Abad', 'Zafar', 'Zaferanieh', 'Zargandeh', 'Zibadasht']"
   ]
  },
  {
   "cell_type": "code",
   "execution_count": 325,
   "id": "403cd7a3",
   "metadata": {},
   "outputs": [],
   "source": [
    "sample_data = [100, 2, 1, 1, 1] + [False] * (len(X_cols) - 5)\n",
    "sample_data[X_cols.index('Tehransar')] = True"
   ]
  },
  {
   "cell_type": "code",
   "execution_count": 326,
   "id": "0571823a",
   "metadata": {},
   "outputs": [
    {
     "name": "stdout",
     "output_type": "stream",
     "text": [
      "[2.65987431e+09]\n"
     ]
    }
   ],
   "source": [
    "sample_data = np.array(sample_data).reshape(1, -1)\n",
    "prediction = lr.predict(sample_data)\n",
    "print(prediction)\n"
   ]
  },
  {
   "cell_type": "code",
   "execution_count": 327,
   "id": "55d3bfc2",
   "metadata": {},
   "outputs": [
    {
     "data": {
      "text/plain": [
       "array([[100,   2,   1,   1,   1,   0,   0,   0,   0,   0,   0,   0,   0,\n",
       "          0,   0,   0,   0,   0,   0,   0,   0,   0,   0,   0,   0,   0,\n",
       "          0,   0,   0,   0,   0,   0,   0,   0,   0,   0,   0,   0,   0,\n",
       "          0,   0,   0,   0,   0,   0,   0,   0,   0,   0,   0,   0,   0,\n",
       "          0,   0,   0,   0,   0,   0,   0,   0,   0,   0,   0,   0,   0,\n",
       "          0,   0,   0,   0,   0,   0,   0,   0,   0,   0,   0,   0,   0,\n",
       "          0,   0,   0,   0,   0,   0,   0,   0,   0,   0,   0,   0,   0,\n",
       "          0,   0,   0,   0,   0,   0,   0,   0,   0,   0,   0,   0,   0,\n",
       "          0,   0,   0,   0,   0,   0,   0,   0,   0,   0,   0,   0,   0,\n",
       "          0,   0,   0,   0,   0,   0,   0,   0,   0,   0,   0,   0,   0,\n",
       "          0,   0,   0,   0,   0,   0,   0,   0,   0,   0,   0,   0,   0,\n",
       "          0,   0,   0,   0,   0,   0,   0,   0,   0,   0,   0,   0,   0,\n",
       "          0,   0,   0,   0,   0,   0,   0,   0,   0,   0,   0,   0,   0,\n",
       "          0,   0,   0,   0,   0,   0,   1,   0,   0,   0,   0,   0,   0,\n",
       "          0,   0,   0,   0,   0,   0,   0,   0,   0,   0,   0,   0,   0,\n",
       "          0,   0]])"
      ]
     },
     "execution_count": 327,
     "metadata": {},
     "output_type": "execute_result"
    }
   ],
   "source": [
    "sample_data"
   ]
  },
  {
   "cell_type": "code",
   "execution_count": 328,
   "id": "478dc698",
   "metadata": {},
   "outputs": [
    {
     "name": "stdout",
     "output_type": "stream",
     "text": [
      "[8756559316, 9256689677, 7718731334, 6131140064, 3755857797, 3183007146, 1516673846, 12645995967, 11234825339, 6437857700, 3833089978, 936699672, -1750449425, -5856026524, 5210178226, 9971573853, 17733810715, 9395415962, 7022828748, 5439586884, 5439586829, 1591184097, 1591184182, -3288461367, -5589703207, -8514967399, -9221027277, -14443061156, -17801003847, -17801003894, -13726267836, -16294904159, -14770167782, -16395431926, -16820696313, -18840094448, -21272647044, -15998728512, -17359899228, -13243789513, -13934529093, -15018318092, -13816388503, -9762679312, 1526301739, -811564545, -1327735212, -7595498399, -8129497230, -9023100996, 2480440597, -467417324, -1807739854, -6984706966, -11881674518, 41698969307, 39170909052, 43130443239, 39245179286, 40349510862, 42100852188, 42503959501, 39372771135, 36088720032, 34578441574, 32724841841, 32300373561, 35660102248, 37131263251, 33634704921, 30826800595, 27797737302, 25022472852, 17202030863, 14709393623, 16385556352, 11859514179, 24667057310, 23341793600, 21162968154, 19605025388, 15857657285, 13087393348, 12234231814, 10429088741, 9135715302, 10350106525, 43637384277, 45320237718, 45534439964, 68491174368, 66025902630, 60596257295, 62687972049, 55704345609, 55704345644, 55725456409, 60006463697, 59581199353, 57102934915, 56532514528, 49683775761, 47802866586, 46031629084, 44488070657, 54937123558, 56574412089, 53906092222, 52734045087, 52328281447, 51201463779, 49232378405, 51188936962, 47149643233, 45910793981, 41425738831, 39278456564, 35386226905, 38019661356, 35448266498, 33763208885, 29896574854, 29194208855, 30798540146, 28485285118, 26617212758, 23572274786, 22305964900, 19954887777, 19954886909, 19688030072, 16476555746, 14753641235, 13002471043, 9362677288, 12961163496, 9514196146, 6738928578, 5163250475, 1576386693, -2231555276, -4476329055, -7202626346, -7146279679, -7190747260, -8974338536, -10553497969, -12149994086, -14566054960, -19213021519, -14675299903, -18400564177, -21671868396, -25576127722, -27626397887, -27897070372, -28992371272, -31714719338, -32348642952, -36951951005, -38480340852, -38480351929, -42279549276, -43525928278, -43857688862, -43857695571, -31456859231, -33228383020, -35545002469, -38324294931, -40189690016, -43967632809, -45018898983, -45018891728, -45300747559, -49270689918, -50941169026, -9860525034, -22779881109, -8891910038, -9287175229, -10456186597, -11993208186, -12818201455, -14327820520, -17603084141, -22282729538, -22073256143, -14824753927, 2585207846, 4700538844, 4525274662]\n"
     ]
    }
   ],
   "source": [
    "import numpy as np\n",
    "\n",
    "\n",
    "sample_data = [100, 2, 1, 1, 1] + [False] * (len(X_cols) - 5)\n",
    "predictions = []\n",
    "\n",
    "for i in X_cols[X_cols.index('Abazar'):]:\n",
    "    sample_data[X_cols.index(i)] = True\n",
    "    sample_data_reshaped = np.array(sample_data).reshape(1, -1)\n",
    "    prediction = int(lr.predict(sample_data_reshaped)[0])\n",
    "    predictions.append(prediction)\n",
    "\n",
    "print(predictions)\n"
   ]
  },
  {
   "cell_type": "code",
   "execution_count": 329,
   "id": "ef76cba5",
   "metadata": {},
   "outputs": [],
   "source": [
    "# print(min(predictions))\n",
    "# print(max(predictions))"
   ]
  },
  {
   "cell_type": "code",
   "execution_count": 330,
   "id": "dc8868ee",
   "metadata": {},
   "outputs": [
    {
     "data": {
      "image/png": "[encoded data removed]",
      "text/plain": [
       "<Figure size 640x480 with 1 Axes>"
      ]
     },
     "metadata": {},
     "output_type": "display_data"
    }
   ],
   "source": [
    "import matplotlib.pyplot as plt\n",
    "\n",
    "# Assuming you have the 'predictions' list\n",
    "plt.rcParams.update({'font.size': 2})\n",
    "\n",
    "x_values = range(len(predictions))\n",
    "\n",
    "plt.plot(x_values, predictions, marker='o')\n",
    "plt.xlabel('Area Index',labelpad=10)\n",
    "plt.ylabel('House Price')\n",
    "plt.title('Predicted House Prices')\n",
    "plt.xticks(x_values, X_cols[X_cols.index('Abazar'):], rotation=90)\n",
    "plt.tight_layout()\n",
    "plt.show()\n"
   ]
  },
  {
   "cell_type": "code",
   "execution_count": 331,
   "id": "0b7259ef",
   "metadata": {},
   "outputs": [
    {
     "name": "stdout",
     "output_type": "stream",
     "text": [
      "The best parameters for LinearRegression model is: {}\n",
      "--------------------\n",
      "(R2 score) in the training set is 60.40% for LinearRegression model.\n",
      "(R2 score) in the testing set is 53.35% for LinearRegression model.\n",
      "RMSE is 6,357,973,664.651671 for LinearRegression model.\n",
      "--------------------\n",
      "Runtime of the program is: 0.30\n"
     ]
    }
   ],
   "source": [
    "lr_train_score, lr_test_score, lr_RMSE = parameter_finder(lr, {})"
   ]
  }
 ],
 "metadata": {
  "kernelspec": {
   "display_name": "Python 3",
   "language": "python",
   "name": "python3"
  },
  "language_info": {
   "codemirror_mode": {
    "name": "ipython",
    "version": 3
   },
   "file_extension": ".py",
   "mimetype": "text/x-python",
   "name": "python",
   "nbconvert_exporter": "python",
   "pygments_lexer": "ipython3",
   "version": "3.11.4"
  },
  "papermill": {
   "default_parameters": {},
   "duration": 186.634179,
   "end_time": "2022-08-10T05:53:51.711178",
   "environment_variables": {},
   "exception": null,
   "input_path": "__notebook__.ipynb",
   "output_path": "__notebook__.ipynb",
   "parameters": {},
   "start_time": "2022-08-10T05:50:45.076999",
   "version": "2.3.4"
  }
 },
 "nbformat": 4,
 "nbformat_minor": 5
}
