{
 "cells": [
  {
   "cell_type": "code",
   "execution_count": 24,
   "id": "d5a04737",
   "metadata": {
    "_cell_guid": "b1076dfc-b9ad-4769-8c92-a6c4dae69d19",
    "_uuid": "8f2839f25d086af736a60e9eeb907d3b93b6e0e5",
    "execution": {
     "iopub.execute_input": "2022-10-28T13:30:49.347633Z",
     "iopub.status.busy": "2022-10-28T13:30:49.346585Z",
     "iopub.status.idle": "2022-10-28T13:30:50.500878Z",
     "shell.execute_reply": "2022-10-28T13:30:50.499424Z"
    },
    "papermill": {
     "duration": 1.166773,
     "end_time": "2022-10-28T13:30:50.504034",
     "exception": false,
     "start_time": "2022-10-28T13:30:49.337261",
     "status": "completed"
    },
    "tags": []
   },
   "outputs": [],
   "source": [
    "import numpy as np\n",
    "import pandas as pd\n",
    "import seaborn as sns\n",
    "import matplotlib.pyplot as plt"
   ]
  },
  {
   "cell_type": "code",
   "execution_count": 25,
   "id": "531ffaad",
   "metadata": {
    "execution": {
     "iopub.execute_input": "2022-10-28T13:30:50.519081Z",
     "iopub.status.busy": "2022-10-28T13:30:50.518621Z",
     "iopub.status.idle": "2022-10-28T13:30:50.543422Z",
     "shell.execute_reply": "2022-10-28T13:30:50.542248Z"
    },
    "papermill": {
     "duration": 0.036153,
     "end_time": "2022-10-28T13:30:50.546840",
     "exception": false,
     "start_time": "2022-10-28T13:30:50.510687",
     "status": "completed"
    },
    "tags": []
   },
   "outputs": [],
   "source": [
    "data=pd.read_csv('heart.csv')"
   ]
  },
  {
   "cell_type": "code",
   "execution_count": 26,
   "id": "b9c0a942",
   "metadata": {
    "execution": {
     "iopub.execute_input": "2022-10-28T13:30:50.561574Z",
     "iopub.status.busy": "2022-10-28T13:30:50.561095Z",
     "iopub.status.idle": "2022-10-28T13:30:50.590134Z",
     "shell.execute_reply": "2022-10-28T13:30:50.588876Z"
    },
    "papermill": {
     "duration": 0.039721,
     "end_time": "2022-10-28T13:30:50.593030",
     "exception": false,
     "start_time": "2022-10-28T13:30:50.553309",
     "status": "completed"
    },
    "tags": []
   },
   "outputs": [
    {
     "name": "stdout",
     "output_type": "stream",
     "text": [
      "<class 'pandas.core.frame.DataFrame'>\n",
      "RangeIndex: 303 entries, 0 to 302\n",
      "Data columns (total 14 columns):\n",
      " #   Column    Non-Null Count  Dtype  \n",
      "---  ------    --------------  -----  \n",
      " 0   age       303 non-null    int64  \n",
      " 1   sex       303 non-null    int64  \n",
      " 2   cp        303 non-null    int64  \n",
      " 3   trtbps    303 non-null    int64  \n",
      " 4   chol      303 non-null    int64  \n",
      " 5   fbs       303 non-null    int64  \n",
      " 6   restecg   303 non-null    int64  \n",
      " 7   thalachh  303 non-null    int64  \n",
      " 8   exng      303 non-null    int64  \n",
      " 9   oldpeak   303 non-null    float64\n",
      " 10  slp       303 non-null    int64  \n",
      " 11  caa       303 non-null    int64  \n",
      " 12  thall     303 non-null    int64  \n",
      " 13  output    303 non-null    int64  \n",
      "dtypes: float64(1), int64(13)\n",
      "memory usage: 33.3 KB\n"
     ]
    }
   ],
   "source": [
    "data.info()   #checking the info"
   ]
  },
  {
   "cell_type": "code",
   "execution_count": 27,
   "id": "2c18bc86",
   "metadata": {
    "execution": {
     "iopub.execute_input": "2022-10-28T13:30:50.607707Z",
     "iopub.status.busy": "2022-10-28T13:30:50.607269Z",
     "iopub.status.idle": "2022-10-28T13:30:50.614932Z",
     "shell.execute_reply": "2022-10-28T13:30:50.614089Z"
    },
    "papermill": {
     "duration": 0.017953,
     "end_time": "2022-10-28T13:30:50.617417",
     "exception": false,
     "start_time": "2022-10-28T13:30:50.599464",
     "status": "completed"
    },
    "tags": []
   },
   "outputs": [],
   "source": [
    "data_corr=data.corr()"
   ]
  },
  {
   "cell_type": "code",
   "execution_count": 28,
   "id": "64f07e28",
   "metadata": {
    "execution": {
     "iopub.execute_input": "2022-10-28T13:30:50.631932Z",
     "iopub.status.busy": "2022-10-28T13:30:50.630730Z",
     "iopub.status.idle": "2022-10-28T13:30:50.662207Z",
     "shell.execute_reply": "2022-10-28T13:30:50.660643Z"
    },
    "papermill": {
     "duration": 0.0416,
     "end_time": "2022-10-28T13:30:50.665101",
     "exception": false,
     "start_time": "2022-10-28T13:30:50.623501",
     "status": "completed"
    },
    "tags": []
   },
   "outputs": [
    {
     "data": {
      "text/html": [
       "<div>\n",
       "<style scoped>\n",
       "    .dataframe tbody tr th:only-of-type {\n",
       "        vertical-align: middle;\n",
       "    }\n",
       "\n",
       "    .dataframe tbody tr th {\n",
       "        vertical-align: top;\n",
       "    }\n",
       "\n",
       "    .dataframe thead th {\n",
       "        text-align: right;\n",
       "    }\n",
       "</style>\n",
       "<table border=\"1\" class=\"dataframe\">\n",
       "  <thead>\n",
       "    <tr style=\"text-align: right;\">\n",
       "      <th></th>\n",
       "      <th>age</th>\n",
       "      <th>sex</th>\n",
       "      <th>cp</th>\n",
       "      <th>trtbps</th>\n",
       "      <th>chol</th>\n",
       "      <th>fbs</th>\n",
       "      <th>restecg</th>\n",
       "      <th>thalachh</th>\n",
       "      <th>exng</th>\n",
       "      <th>oldpeak</th>\n",
       "      <th>slp</th>\n",
       "      <th>caa</th>\n",
       "      <th>thall</th>\n",
       "      <th>output</th>\n",
       "    </tr>\n",
       "  </thead>\n",
       "  <tbody>\n",
       "    <tr>\n",
       "      <th>age</th>\n",
       "      <td>1.000000</td>\n",
       "      <td>-0.098447</td>\n",
       "      <td>-0.068653</td>\n",
       "      <td>0.279351</td>\n",
       "      <td>0.213678</td>\n",
       "      <td>0.121308</td>\n",
       "      <td>-0.116211</td>\n",
       "      <td>-0.398522</td>\n",
       "      <td>0.096801</td>\n",
       "      <td>0.210013</td>\n",
       "      <td>-0.168814</td>\n",
       "      <td>0.276326</td>\n",
       "      <td>0.068001</td>\n",
       "      <td>-0.225439</td>\n",
       "    </tr>\n",
       "    <tr>\n",
       "      <th>sex</th>\n",
       "      <td>-0.098447</td>\n",
       "      <td>1.000000</td>\n",
       "      <td>-0.049353</td>\n",
       "      <td>-0.056769</td>\n",
       "      <td>-0.197912</td>\n",
       "      <td>0.045032</td>\n",
       "      <td>-0.058196</td>\n",
       "      <td>-0.044020</td>\n",
       "      <td>0.141664</td>\n",
       "      <td>0.096093</td>\n",
       "      <td>-0.030711</td>\n",
       "      <td>0.118261</td>\n",
       "      <td>0.210041</td>\n",
       "      <td>-0.280937</td>\n",
       "    </tr>\n",
       "    <tr>\n",
       "      <th>cp</th>\n",
       "      <td>-0.068653</td>\n",
       "      <td>-0.049353</td>\n",
       "      <td>1.000000</td>\n",
       "      <td>0.047608</td>\n",
       "      <td>-0.076904</td>\n",
       "      <td>0.094444</td>\n",
       "      <td>0.044421</td>\n",
       "      <td>0.295762</td>\n",
       "      <td>-0.394280</td>\n",
       "      <td>-0.149230</td>\n",
       "      <td>0.119717</td>\n",
       "      <td>-0.181053</td>\n",
       "      <td>-0.161736</td>\n",
       "      <td>0.433798</td>\n",
       "    </tr>\n",
       "    <tr>\n",
       "      <th>trtbps</th>\n",
       "      <td>0.279351</td>\n",
       "      <td>-0.056769</td>\n",
       "      <td>0.047608</td>\n",
       "      <td>1.000000</td>\n",
       "      <td>0.123174</td>\n",
       "      <td>0.177531</td>\n",
       "      <td>-0.114103</td>\n",
       "      <td>-0.046698</td>\n",
       "      <td>0.067616</td>\n",
       "      <td>0.193216</td>\n",
       "      <td>-0.121475</td>\n",
       "      <td>0.101389</td>\n",
       "      <td>0.062210</td>\n",
       "      <td>-0.144931</td>\n",
       "    </tr>\n",
       "    <tr>\n",
       "      <th>chol</th>\n",
       "      <td>0.213678</td>\n",
       "      <td>-0.197912</td>\n",
       "      <td>-0.076904</td>\n",
       "      <td>0.123174</td>\n",
       "      <td>1.000000</td>\n",
       "      <td>0.013294</td>\n",
       "      <td>-0.151040</td>\n",
       "      <td>-0.009940</td>\n",
       "      <td>0.067023</td>\n",
       "      <td>0.053952</td>\n",
       "      <td>-0.004038</td>\n",
       "      <td>0.070511</td>\n",
       "      <td>0.098803</td>\n",
       "      <td>-0.085239</td>\n",
       "    </tr>\n",
       "    <tr>\n",
       "      <th>fbs</th>\n",
       "      <td>0.121308</td>\n",
       "      <td>0.045032</td>\n",
       "      <td>0.094444</td>\n",
       "      <td>0.177531</td>\n",
       "      <td>0.013294</td>\n",
       "      <td>1.000000</td>\n",
       "      <td>-0.084189</td>\n",
       "      <td>-0.008567</td>\n",
       "      <td>0.025665</td>\n",
       "      <td>0.005747</td>\n",
       "      <td>-0.059894</td>\n",
       "      <td>0.137979</td>\n",
       "      <td>-0.032019</td>\n",
       "      <td>-0.028046</td>\n",
       "    </tr>\n",
       "    <tr>\n",
       "      <th>restecg</th>\n",
       "      <td>-0.116211</td>\n",
       "      <td>-0.058196</td>\n",
       "      <td>0.044421</td>\n",
       "      <td>-0.114103</td>\n",
       "      <td>-0.151040</td>\n",
       "      <td>-0.084189</td>\n",
       "      <td>1.000000</td>\n",
       "      <td>0.044123</td>\n",
       "      <td>-0.070733</td>\n",
       "      <td>-0.058770</td>\n",
       "      <td>0.093045</td>\n",
       "      <td>-0.072042</td>\n",
       "      <td>-0.011981</td>\n",
       "      <td>0.137230</td>\n",
       "    </tr>\n",
       "    <tr>\n",
       "      <th>thalachh</th>\n",
       "      <td>-0.398522</td>\n",
       "      <td>-0.044020</td>\n",
       "      <td>0.295762</td>\n",
       "      <td>-0.046698</td>\n",
       "      <td>-0.009940</td>\n",
       "      <td>-0.008567</td>\n",
       "      <td>0.044123</td>\n",
       "      <td>1.000000</td>\n",
       "      <td>-0.378812</td>\n",
       "      <td>-0.344187</td>\n",
       "      <td>0.386784</td>\n",
       "      <td>-0.213177</td>\n",
       "      <td>-0.096439</td>\n",
       "      <td>0.421741</td>\n",
       "    </tr>\n",
       "    <tr>\n",
       "      <th>exng</th>\n",
       "      <td>0.096801</td>\n",
       "      <td>0.141664</td>\n",
       "      <td>-0.394280</td>\n",
       "      <td>0.067616</td>\n",
       "      <td>0.067023</td>\n",
       "      <td>0.025665</td>\n",
       "      <td>-0.070733</td>\n",
       "      <td>-0.378812</td>\n",
       "      <td>1.000000</td>\n",
       "      <td>0.288223</td>\n",
       "      <td>-0.257748</td>\n",
       "      <td>0.115739</td>\n",
       "      <td>0.206754</td>\n",
       "      <td>-0.436757</td>\n",
       "    </tr>\n",
       "    <tr>\n",
       "      <th>oldpeak</th>\n",
       "      <td>0.210013</td>\n",
       "      <td>0.096093</td>\n",
       "      <td>-0.149230</td>\n",
       "      <td>0.193216</td>\n",
       "      <td>0.053952</td>\n",
       "      <td>0.005747</td>\n",
       "      <td>-0.058770</td>\n",
       "      <td>-0.344187</td>\n",
       "      <td>0.288223</td>\n",
       "      <td>1.000000</td>\n",
       "      <td>-0.577537</td>\n",
       "      <td>0.222682</td>\n",
       "      <td>0.210244</td>\n",
       "      <td>-0.430696</td>\n",
       "    </tr>\n",
       "    <tr>\n",
       "      <th>slp</th>\n",
       "      <td>-0.168814</td>\n",
       "      <td>-0.030711</td>\n",
       "      <td>0.119717</td>\n",
       "      <td>-0.121475</td>\n",
       "      <td>-0.004038</td>\n",
       "      <td>-0.059894</td>\n",
       "      <td>0.093045</td>\n",
       "      <td>0.386784</td>\n",
       "      <td>-0.257748</td>\n",
       "      <td>-0.577537</td>\n",
       "      <td>1.000000</td>\n",
       "      <td>-0.080155</td>\n",
       "      <td>-0.104764</td>\n",
       "      <td>0.345877</td>\n",
       "    </tr>\n",
       "    <tr>\n",
       "      <th>caa</th>\n",
       "      <td>0.276326</td>\n",
       "      <td>0.118261</td>\n",
       "      <td>-0.181053</td>\n",
       "      <td>0.101389</td>\n",
       "      <td>0.070511</td>\n",
       "      <td>0.137979</td>\n",
       "      <td>-0.072042</td>\n",
       "      <td>-0.213177</td>\n",
       "      <td>0.115739</td>\n",
       "      <td>0.222682</td>\n",
       "      <td>-0.080155</td>\n",
       "      <td>1.000000</td>\n",
       "      <td>0.151832</td>\n",
       "      <td>-0.391724</td>\n",
       "    </tr>\n",
       "    <tr>\n",
       "      <th>thall</th>\n",
       "      <td>0.068001</td>\n",
       "      <td>0.210041</td>\n",
       "      <td>-0.161736</td>\n",
       "      <td>0.062210</td>\n",
       "      <td>0.098803</td>\n",
       "      <td>-0.032019</td>\n",
       "      <td>-0.011981</td>\n",
       "      <td>-0.096439</td>\n",
       "      <td>0.206754</td>\n",
       "      <td>0.210244</td>\n",
       "      <td>-0.104764</td>\n",
       "      <td>0.151832</td>\n",
       "      <td>1.000000</td>\n",
       "      <td>-0.344029</td>\n",
       "    </tr>\n",
       "    <tr>\n",
       "      <th>output</th>\n",
       "      <td>-0.225439</td>\n",
       "      <td>-0.280937</td>\n",
       "      <td>0.433798</td>\n",
       "      <td>-0.144931</td>\n",
       "      <td>-0.085239</td>\n",
       "      <td>-0.028046</td>\n",
       "      <td>0.137230</td>\n",
       "      <td>0.421741</td>\n",
       "      <td>-0.436757</td>\n",
       "      <td>-0.430696</td>\n",
       "      <td>0.345877</td>\n",
       "      <td>-0.391724</td>\n",
       "      <td>-0.344029</td>\n",
       "      <td>1.000000</td>\n",
       "    </tr>\n",
       "  </tbody>\n",
       "</table>\n",
       "</div>"
      ],
      "text/plain": [
       "               age       sex        cp    trtbps      chol       fbs  \\\n",
       "age       1.000000 -0.098447 -0.068653  0.279351  0.213678  0.121308   \n",
       "sex      -0.098447  1.000000 -0.049353 -0.056769 -0.197912  0.045032   \n",
       "cp       -0.068653 -0.049353  1.000000  0.047608 -0.076904  0.094444   \n",
       "trtbps    0.279351 -0.056769  0.047608  1.000000  0.123174  0.177531   \n",
       "chol      0.213678 -0.197912 -0.076904  0.123174  1.000000  0.013294   \n",
       "fbs       0.121308  0.045032  0.094444  0.177531  0.013294  1.000000   \n",
       "restecg  -0.116211 -0.058196  0.044421 -0.114103 -0.151040 -0.084189   \n",
       "thalachh -0.398522 -0.044020  0.295762 -0.046698 -0.009940 -0.008567   \n",
       "exng      0.096801  0.141664 -0.394280  0.067616  0.067023  0.025665   \n",
       "oldpeak   0.210013  0.096093 -0.149230  0.193216  0.053952  0.005747   \n",
       "slp      -0.168814 -0.030711  0.119717 -0.121475 -0.004038 -0.059894   \n",
       "caa       0.276326  0.118261 -0.181053  0.101389  0.070511  0.137979   \n",
       "thall     0.068001  0.210041 -0.161736  0.062210  0.098803 -0.032019   \n",
       "output   -0.225439 -0.280937  0.433798 -0.144931 -0.085239 -0.028046   \n",
       "\n",
       "           restecg  thalachh      exng   oldpeak       slp       caa  \\\n",
       "age      -0.116211 -0.398522  0.096801  0.210013 -0.168814  0.276326   \n",
       "sex      -0.058196 -0.044020  0.141664  0.096093 -0.030711  0.118261   \n",
       "cp        0.044421  0.295762 -0.394280 -0.149230  0.119717 -0.181053   \n",
       "trtbps   -0.114103 -0.046698  0.067616  0.193216 -0.121475  0.101389   \n",
       "chol     -0.151040 -0.009940  0.067023  0.053952 -0.004038  0.070511   \n",
       "fbs      -0.084189 -0.008567  0.025665  0.005747 -0.059894  0.137979   \n",
       "restecg   1.000000  0.044123 -0.070733 -0.058770  0.093045 -0.072042   \n",
       "thalachh  0.044123  1.000000 -0.378812 -0.344187  0.386784 -0.213177   \n",
       "exng     -0.070733 -0.378812  1.000000  0.288223 -0.257748  0.115739   \n",
       "oldpeak  -0.058770 -0.344187  0.288223  1.000000 -0.577537  0.222682   \n",
       "slp       0.093045  0.386784 -0.257748 -0.577537  1.000000 -0.080155   \n",
       "caa      -0.072042 -0.213177  0.115739  0.222682 -0.080155  1.000000   \n",
       "thall    -0.011981 -0.096439  0.206754  0.210244 -0.104764  0.151832   \n",
       "output    0.137230  0.421741 -0.436757 -0.430696  0.345877 -0.391724   \n",
       "\n",
       "             thall    output  \n",
       "age       0.068001 -0.225439  \n",
       "sex       0.210041 -0.280937  \n",
       "cp       -0.161736  0.433798  \n",
       "trtbps    0.062210 -0.144931  \n",
       "chol      0.098803 -0.085239  \n",
       "fbs      -0.032019 -0.028046  \n",
       "restecg  -0.011981  0.137230  \n",
       "thalachh -0.096439  0.421741  \n",
       "exng      0.206754 -0.436757  \n",
       "oldpeak   0.210244 -0.430696  \n",
       "slp      -0.104764  0.345877  \n",
       "caa       0.151832 -0.391724  \n",
       "thall     1.000000 -0.344029  \n",
       "output   -0.344029  1.000000  "
      ]
     },
     "execution_count": 28,
     "metadata": {},
     "output_type": "execute_result"
    }
   ],
   "source": [
    "data_corr   #correalation of variables"
   ]
  },
  {
   "cell_type": "code",
   "execution_count": 29,
   "id": "3285ef88",
   "metadata": {
    "execution": {
     "iopub.execute_input": "2022-10-28T13:30:50.680055Z",
     "iopub.status.busy": "2022-10-28T13:30:50.679679Z",
     "iopub.status.idle": "2022-10-28T13:30:52.119557Z",
     "shell.execute_reply": "2022-10-28T13:30:52.118201Z"
    },
    "papermill": {
     "duration": 1.450666,
     "end_time": "2022-10-28T13:30:52.122430",
     "exception": false,
     "start_time": "2022-10-28T13:30:50.671764",
     "status": "completed"
    },
    "tags": []
   },
   "outputs": [
    {
     "data": {
      "text/plain": [
       "<Axes: >"
      ]
     },
     "execution_count": 29,
     "metadata": {},
     "output_type": "execute_result"
    },
    {
     "data": {
      "image/png": "[encoded data removed]",
      "text/plain": [
       "<Figure size 2000x2000 with 2 Axes>"
      ]
     },
     "metadata": {},
     "output_type": "display_data"
    }
   ],
   "source": [
    "plt.figure(figsize=(20,20))\n",
    "sns.heatmap(data=data_corr,annot=True)\n",
    "#Heatmap for data"
   ]
  },
  {
   "cell_type": "code",
   "execution_count": 30,
   "id": "2784df0d",
   "metadata": {
    "execution": {
     "iopub.execute_input": "2022-10-28T13:30:52.141981Z",
     "iopub.status.busy": "2022-10-28T13:30:52.140658Z",
     "iopub.status.idle": "2022-10-28T13:30:52.149512Z",
     "shell.execute_reply": "2022-10-28T13:30:52.148651Z"
    },
    "papermill": {
     "duration": 0.020699,
     "end_time": "2022-10-28T13:30:52.151543",
     "exception": false,
     "start_time": "2022-10-28T13:30:52.130844",
     "status": "completed"
    },
    "tags": []
   },
   "outputs": [
    {
     "data": {
      "text/plain": [
       "array([0.22543872, 0.28093658, 0.43379826, 0.14493113, 0.08523911,\n",
       "       0.02804576, 0.1372295 , 0.42174093, 0.43675708, 0.430696  ,\n",
       "       0.34587708, 0.39172399, 0.34402927, 1.        ])"
      ]
     },
     "execution_count": 30,
     "metadata": {},
     "output_type": "execute_result"
    }
   ],
   "source": [
    "feature_value=np.array(data_corr['output'])\n",
    "for i in range(len(feature_value)):\n",
    "    if feature_value[i]<0:\n",
    "        feature_value[i]=-feature_value[i]\n",
    "feature_value"
   ]
  },
  {
   "cell_type": "code",
   "execution_count": 31,
   "id": "6a4d2e46",
   "metadata": {
    "execution": {
     "iopub.execute_input": "2022-10-28T13:30:52.172660Z",
     "iopub.status.busy": "2022-10-28T13:30:52.171406Z",
     "iopub.status.idle": "2022-10-28T13:30:52.177645Z",
     "shell.execute_reply": "2022-10-28T13:30:52.176848Z"
    },
    "papermill": {
     "duration": 0.020239,
     "end_time": "2022-10-28T13:30:52.180099",
     "exception": false,
     "start_time": "2022-10-28T13:30:52.159860",
     "status": "completed"
    },
    "tags": []
   },
   "outputs": [],
   "source": [
    "features_corr=pd.DataFrame(feature_value,index=data_corr['output'].index,columns=['correalation'])"
   ]
  },
  {
   "cell_type": "code",
   "execution_count": 32,
   "id": "92017484",
   "metadata": {
    "execution": {
     "iopub.execute_input": "2022-10-28T13:30:52.200014Z",
     "iopub.status.busy": "2022-10-28T13:30:52.199610Z",
     "iopub.status.idle": "2022-10-28T13:30:52.207630Z",
     "shell.execute_reply": "2022-10-28T13:30:52.206222Z"
    },
    "papermill": {
     "duration": 0.021009,
     "end_time": "2022-10-28T13:30:52.210197",
     "exception": false,
     "start_time": "2022-10-28T13:30:52.189188",
     "status": "completed"
    },
    "tags": []
   },
   "outputs": [],
   "source": [
    "feature_sorted=features_corr.sort_values(by=['correalation'],ascending=False)"
   ]
  },
  {
   "cell_type": "code",
   "execution_count": 33,
   "id": "93102b6c",
   "metadata": {
    "execution": {
     "iopub.execute_input": "2022-10-28T13:30:52.229746Z",
     "iopub.status.busy": "2022-10-28T13:30:52.229321Z",
     "iopub.status.idle": "2022-10-28T13:30:52.241512Z",
     "shell.execute_reply": "2022-10-28T13:30:52.240172Z"
    },
    "papermill": {
     "duration": 0.024795,
     "end_time": "2022-10-28T13:30:52.244069",
     "exception": false,
     "start_time": "2022-10-28T13:30:52.219274",
     "status": "completed"
    },
    "tags": []
   },
   "outputs": [
    {
     "data": {
      "text/html": [
       "<div>\n",
       "<style scoped>\n",
       "    .dataframe tbody tr th:only-of-type {\n",
       "        vertical-align: middle;\n",
       "    }\n",
       "\n",
       "    .dataframe tbody tr th {\n",
       "        vertical-align: top;\n",
       "    }\n",
       "\n",
       "    .dataframe thead th {\n",
       "        text-align: right;\n",
       "    }\n",
       "</style>\n",
       "<table border=\"1\" class=\"dataframe\">\n",
       "  <thead>\n",
       "    <tr style=\"text-align: right;\">\n",
       "      <th></th>\n",
       "      <th>correalation</th>\n",
       "    </tr>\n",
       "  </thead>\n",
       "  <tbody>\n",
       "    <tr>\n",
       "      <th>output</th>\n",
       "      <td>1.000000</td>\n",
       "    </tr>\n",
       "    <tr>\n",
       "      <th>exng</th>\n",
       "      <td>0.436757</td>\n",
       "    </tr>\n",
       "    <tr>\n",
       "      <th>cp</th>\n",
       "      <td>0.433798</td>\n",
       "    </tr>\n",
       "    <tr>\n",
       "      <th>oldpeak</th>\n",
       "      <td>0.430696</td>\n",
       "    </tr>\n",
       "    <tr>\n",
       "      <th>thalachh</th>\n",
       "      <td>0.421741</td>\n",
       "    </tr>\n",
       "    <tr>\n",
       "      <th>caa</th>\n",
       "      <td>0.391724</td>\n",
       "    </tr>\n",
       "    <tr>\n",
       "      <th>slp</th>\n",
       "      <td>0.345877</td>\n",
       "    </tr>\n",
       "    <tr>\n",
       "      <th>thall</th>\n",
       "      <td>0.344029</td>\n",
       "    </tr>\n",
       "    <tr>\n",
       "      <th>sex</th>\n",
       "      <td>0.280937</td>\n",
       "    </tr>\n",
       "    <tr>\n",
       "      <th>age</th>\n",
       "      <td>0.225439</td>\n",
       "    </tr>\n",
       "    <tr>\n",
       "      <th>trtbps</th>\n",
       "      <td>0.144931</td>\n",
       "    </tr>\n",
       "    <tr>\n",
       "      <th>restecg</th>\n",
       "      <td>0.137230</td>\n",
       "    </tr>\n",
       "    <tr>\n",
       "      <th>chol</th>\n",
       "      <td>0.085239</td>\n",
       "    </tr>\n",
       "    <tr>\n",
       "      <th>fbs</th>\n",
       "      <td>0.028046</td>\n",
       "    </tr>\n",
       "  </tbody>\n",
       "</table>\n",
       "</div>"
      ],
      "text/plain": [
       "          correalation\n",
       "output        1.000000\n",
       "exng          0.436757\n",
       "cp            0.433798\n",
       "oldpeak       0.430696\n",
       "thalachh      0.421741\n",
       "caa           0.391724\n",
       "slp           0.345877\n",
       "thall         0.344029\n",
       "sex           0.280937\n",
       "age           0.225439\n",
       "trtbps        0.144931\n",
       "restecg       0.137230\n",
       "chol          0.085239\n",
       "fbs           0.028046"
      ]
     },
     "execution_count": 33,
     "metadata": {},
     "output_type": "execute_result"
    }
   ],
   "source": [
    "feature_sorted"
   ]
  },
  {
   "cell_type": "code",
   "execution_count": 34,
   "id": "c374ef18",
   "metadata": {
    "execution": {
     "iopub.execute_input": "2022-10-28T13:30:52.264277Z",
     "iopub.status.busy": "2022-10-28T13:30:52.263834Z",
     "iopub.status.idle": "2022-10-28T13:30:52.269214Z",
     "shell.execute_reply": "2022-10-28T13:30:52.268020Z"
    },
    "papermill": {
     "duration": 0.01842,
     "end_time": "2022-10-28T13:30:52.271673",
     "exception": false,
     "start_time": "2022-10-28T13:30:52.253253",
     "status": "completed"
    },
    "tags": []
   },
   "outputs": [],
   "source": [
    "feature_selected=feature_sorted.index"
   ]
  },
  {
   "cell_type": "code",
   "execution_count": 35,
   "id": "62ad4e3f",
   "metadata": {
    "execution": {
     "iopub.execute_input": "2022-10-28T13:30:52.291650Z",
     "iopub.status.busy": "2022-10-28T13:30:52.291252Z",
     "iopub.status.idle": "2022-10-28T13:30:52.298896Z",
     "shell.execute_reply": "2022-10-28T13:30:52.297681Z"
    },
    "papermill": {
     "duration": 0.019977,
     "end_time": "2022-10-28T13:30:52.301109",
     "exception": false,
     "start_time": "2022-10-28T13:30:52.281132",
     "status": "completed"
    },
    "tags": []
   },
   "outputs": [
    {
     "data": {
      "text/plain": [
       "Index(['output', 'exng', 'cp', 'oldpeak', 'thalachh', 'caa', 'slp', 'thall',\n",
       "       'sex', 'age', 'trtbps', 'restecg', 'chol', 'fbs'],\n",
       "      dtype='object')"
      ]
     },
     "execution_count": 35,
     "metadata": {},
     "output_type": "execute_result"
    }
   ],
   "source": [
    "feature_selected     #selected features which are very much correalated"
   ]
  },
  {
   "cell_type": "code",
   "execution_count": 36,
   "id": "55ecf736",
   "metadata": {
    "execution": {
     "iopub.execute_input": "2022-10-28T13:30:52.320086Z",
     "iopub.status.busy": "2022-10-28T13:30:52.319700Z",
     "iopub.status.idle": "2022-10-28T13:30:52.325642Z",
     "shell.execute_reply": "2022-10-28T13:30:52.324434Z"
    },
    "papermill": {
     "duration": 0.017895,
     "end_time": "2022-10-28T13:30:52.327698",
     "exception": false,
     "start_time": "2022-10-28T13:30:52.309803",
     "status": "completed"
    },
    "tags": []
   },
   "outputs": [],
   "source": [
    "clean_data=data[feature_selected]"
   ]
  },
  {
   "cell_type": "code",
   "execution_count": 37,
   "id": "0f8f0698",
   "metadata": {
    "execution": {
     "iopub.execute_input": "2022-10-28T13:30:52.346781Z",
     "iopub.status.busy": "2022-10-28T13:30:52.346421Z",
     "iopub.status.idle": "2022-10-28T13:30:52.696807Z",
     "shell.execute_reply": "2022-10-28T13:30:52.695680Z"
    },
    "papermill": {
     "duration": 0.363169,
     "end_time": "2022-10-28T13:30:52.699577",
     "exception": false,
     "start_time": "2022-10-28T13:30:52.336408",
     "status": "completed"
    },
    "tags": []
   },
   "outputs": [],
   "source": [
    "from sklearn.tree import DecisionTreeClassifier                  #using sklearn decisiontreeclassifier\n",
    "from sklearn.model_selection import train_test_split"
   ]
  },
  {
   "cell_type": "code",
   "execution_count": 38,
   "id": "8d39b35e",
   "metadata": {
    "execution": {
     "iopub.execute_input": "2022-10-28T13:30:52.719646Z",
     "iopub.status.busy": "2022-10-28T13:30:52.718958Z",
     "iopub.status.idle": "2022-10-28T13:30:52.725540Z",
     "shell.execute_reply": "2022-10-28T13:30:52.724369Z"
    },
    "papermill": {
     "duration": 0.019029,
     "end_time": "2022-10-28T13:30:52.727885",
     "exception": false,
     "start_time": "2022-10-28T13:30:52.708856",
     "status": "completed"
    },
    "tags": []
   },
   "outputs": [],
   "source": [
    "#making input and output dataset\n",
    "X=clean_data.iloc[:,1:]\n",
    "Y=clean_data['output']"
   ]
  },
  {
   "cell_type": "code",
   "execution_count": 39,
   "id": "97558662",
   "metadata": {
    "execution": {
     "iopub.execute_input": "2022-10-28T13:30:52.747816Z",
     "iopub.status.busy": "2022-10-28T13:30:52.747417Z",
     "iopub.status.idle": "2022-10-28T13:30:52.755361Z",
     "shell.execute_reply": "2022-10-28T13:30:52.754190Z"
    },
    "papermill": {
     "duration": 0.02105,
     "end_time": "2022-10-28T13:30:52.757773",
     "exception": false,
     "start_time": "2022-10-28T13:30:52.736723",
     "status": "completed"
    },
    "tags": []
   },
   "outputs": [],
   "source": [
    "x_train,x_test,y_train,y_test=train_test_split(X,Y,test_size=0.25,random_state=0)"
   ]
  },
  {
   "cell_type": "code",
   "execution_count": 40,
   "id": "623c339e",
   "metadata": {
    "execution": {
     "iopub.execute_input": "2022-10-28T13:30:52.777631Z",
     "iopub.status.busy": "2022-10-28T13:30:52.777222Z",
     "iopub.status.idle": "2022-10-28T13:30:52.783432Z",
     "shell.execute_reply": "2022-10-28T13:30:52.782114Z"
    },
    "papermill": {
     "duration": 0.018584,
     "end_time": "2022-10-28T13:30:52.785601",
     "exception": false,
     "start_time": "2022-10-28T13:30:52.767017",
     "status": "completed"
    },
    "tags": []
   },
   "outputs": [
    {
     "name": "stdout",
     "output_type": "stream",
     "text": [
      "(227, 13) (227,) (76, 13) (76,)\n"
     ]
    }
   ],
   "source": [
    "print(x_train.shape,y_train.shape,x_test.shape,y_test.shape)     #data is splited in traing and testing dataset"
   ]
  },
  {
   "cell_type": "code",
   "execution_count": 41,
   "metadata": {},
   "outputs": [
    {
     "data": {
      "text/html": [
       "<div>\n",
       "<style scoped>\n",
       "    .dataframe tbody tr th:only-of-type {\n",
       "        vertical-align: middle;\n",
       "    }\n",
       "\n",
       "    .dataframe tbody tr th {\n",
       "        vertical-align: top;\n",
       "    }\n",
       "\n",
       "    .dataframe thead th {\n",
       "        text-align: right;\n",
       "    }\n",
       "</style>\n",
       "<table border=\"1\" class=\"dataframe\">\n",
       "  <thead>\n",
       "    <tr style=\"text-align: right;\">\n",
       "      <th></th>\n",
       "      <th>exng</th>\n",
       "      <th>cp</th>\n",
       "      <th>oldpeak</th>\n",
       "      <th>thalachh</th>\n",
       "      <th>caa</th>\n",
       "      <th>slp</th>\n",
       "      <th>thall</th>\n",
       "      <th>sex</th>\n",
       "      <th>age</th>\n",
       "      <th>trtbps</th>\n",
       "      <th>restecg</th>\n",
       "      <th>chol</th>\n",
       "      <th>fbs</th>\n",
       "    </tr>\n",
       "  </thead>\n",
       "  <tbody>\n",
       "    <tr>\n",
       "      <th>225</th>\n",
       "      <td>1</td>\n",
       "      <td>0</td>\n",
       "      <td>2.6</td>\n",
       "      <td>125</td>\n",
       "      <td>0</td>\n",
       "      <td>0</td>\n",
       "      <td>3</td>\n",
       "      <td>1</td>\n",
       "      <td>70</td>\n",
       "      <td>145</td>\n",
       "      <td>1</td>\n",
       "      <td>174</td>\n",
       "      <td>0</td>\n",
       "    </tr>\n",
       "    <tr>\n",
       "      <th>152</th>\n",
       "      <td>0</td>\n",
       "      <td>3</td>\n",
       "      <td>0.6</td>\n",
       "      <td>155</td>\n",
       "      <td>0</td>\n",
       "      <td>1</td>\n",
       "      <td>3</td>\n",
       "      <td>1</td>\n",
       "      <td>64</td>\n",
       "      <td>170</td>\n",
       "      <td>0</td>\n",
       "      <td>227</td>\n",
       "      <td>0</td>\n",
       "    </tr>\n",
       "    <tr>\n",
       "      <th>228</th>\n",
       "      <td>0</td>\n",
       "      <td>3</td>\n",
       "      <td>0.2</td>\n",
       "      <td>159</td>\n",
       "      <td>0</td>\n",
       "      <td>1</td>\n",
       "      <td>3</td>\n",
       "      <td>1</td>\n",
       "      <td>59</td>\n",
       "      <td>170</td>\n",
       "      <td>0</td>\n",
       "      <td>288</td>\n",
       "      <td>0</td>\n",
       "    </tr>\n",
       "    <tr>\n",
       "      <th>201</th>\n",
       "      <td>1</td>\n",
       "      <td>0</td>\n",
       "      <td>2.8</td>\n",
       "      <td>141</td>\n",
       "      <td>1</td>\n",
       "      <td>1</td>\n",
       "      <td>3</td>\n",
       "      <td>1</td>\n",
       "      <td>60</td>\n",
       "      <td>125</td>\n",
       "      <td>0</td>\n",
       "      <td>258</td>\n",
       "      <td>0</td>\n",
       "    </tr>\n",
       "    <tr>\n",
       "      <th>52</th>\n",
       "      <td>0</td>\n",
       "      <td>2</td>\n",
       "      <td>1.8</td>\n",
       "      <td>146</td>\n",
       "      <td>3</td>\n",
       "      <td>1</td>\n",
       "      <td>3</td>\n",
       "      <td>1</td>\n",
       "      <td>62</td>\n",
       "      <td>130</td>\n",
       "      <td>1</td>\n",
       "      <td>231</td>\n",
       "      <td>0</td>\n",
       "    </tr>\n",
       "    <tr>\n",
       "      <th>...</th>\n",
       "      <td>...</td>\n",
       "      <td>...</td>\n",
       "      <td>...</td>\n",
       "      <td>...</td>\n",
       "      <td>...</td>\n",
       "      <td>...</td>\n",
       "      <td>...</td>\n",
       "      <td>...</td>\n",
       "      <td>...</td>\n",
       "      <td>...</td>\n",
       "      <td>...</td>\n",
       "      <td>...</td>\n",
       "      <td>...</td>\n",
       "    </tr>\n",
       "    <tr>\n",
       "      <th>46</th>\n",
       "      <td>0</td>\n",
       "      <td>2</td>\n",
       "      <td>0.0</td>\n",
       "      <td>180</td>\n",
       "      <td>0</td>\n",
       "      <td>2</td>\n",
       "      <td>2</td>\n",
       "      <td>1</td>\n",
       "      <td>44</td>\n",
       "      <td>140</td>\n",
       "      <td>0</td>\n",
       "      <td>235</td>\n",
       "      <td>0</td>\n",
       "    </tr>\n",
       "    <tr>\n",
       "      <th>160</th>\n",
       "      <td>0</td>\n",
       "      <td>1</td>\n",
       "      <td>0.0</td>\n",
       "      <td>169</td>\n",
       "      <td>0</td>\n",
       "      <td>0</td>\n",
       "      <td>2</td>\n",
       "      <td>1</td>\n",
       "      <td>56</td>\n",
       "      <td>120</td>\n",
       "      <td>1</td>\n",
       "      <td>240</td>\n",
       "      <td>0</td>\n",
       "    </tr>\n",
       "    <tr>\n",
       "      <th>232</th>\n",
       "      <td>1</td>\n",
       "      <td>0</td>\n",
       "      <td>0.8</td>\n",
       "      <td>145</td>\n",
       "      <td>1</td>\n",
       "      <td>1</td>\n",
       "      <td>3</td>\n",
       "      <td>1</td>\n",
       "      <td>55</td>\n",
       "      <td>160</td>\n",
       "      <td>0</td>\n",
       "      <td>289</td>\n",
       "      <td>0</td>\n",
       "    </tr>\n",
       "    <tr>\n",
       "      <th>181</th>\n",
       "      <td>0</td>\n",
       "      <td>0</td>\n",
       "      <td>1.0</td>\n",
       "      <td>114</td>\n",
       "      <td>3</td>\n",
       "      <td>1</td>\n",
       "      <td>3</td>\n",
       "      <td>0</td>\n",
       "      <td>65</td>\n",
       "      <td>150</td>\n",
       "      <td>0</td>\n",
       "      <td>225</td>\n",
       "      <td>0</td>\n",
       "    </tr>\n",
       "    <tr>\n",
       "      <th>27</th>\n",
       "      <td>0</td>\n",
       "      <td>2</td>\n",
       "      <td>0.6</td>\n",
       "      <td>123</td>\n",
       "      <td>0</td>\n",
       "      <td>2</td>\n",
       "      <td>2</td>\n",
       "      <td>1</td>\n",
       "      <td>51</td>\n",
       "      <td>110</td>\n",
       "      <td>1</td>\n",
       "      <td>175</td>\n",
       "      <td>0</td>\n",
       "    </tr>\n",
       "  </tbody>\n",
       "</table>\n",
       "<p>76 rows × 13 columns</p>\n",
       "</div>"
      ],
      "text/plain": [
       "     exng  cp  oldpeak  thalachh  caa  slp  thall  sex  age  trtbps  restecg  \\\n",
       "225     1   0      2.6       125    0    0      3    1   70     145        1   \n",
       "152     0   3      0.6       155    0    1      3    1   64     170        0   \n",
       "228     0   3      0.2       159    0    1      3    1   59     170        0   \n",
       "201     1   0      2.8       141    1    1      3    1   60     125        0   \n",
       "52      0   2      1.8       146    3    1      3    1   62     130        1   \n",
       "..    ...  ..      ...       ...  ...  ...    ...  ...  ...     ...      ...   \n",
       "46      0   2      0.0       180    0    2      2    1   44     140        0   \n",
       "160     0   1      0.0       169    0    0      2    1   56     120        1   \n",
       "232     1   0      0.8       145    1    1      3    1   55     160        0   \n",
       "181     0   0      1.0       114    3    1      3    0   65     150        0   \n",
       "27      0   2      0.6       123    0    2      2    1   51     110        1   \n",
       "\n",
       "     chol  fbs  \n",
       "225   174    0  \n",
       "152   227    0  \n",
       "228   288    0  \n",
       "201   258    0  \n",
       "52    231    0  \n",
       "..    ...  ...  \n",
       "46    235    0  \n",
       "160   240    0  \n",
       "232   289    0  \n",
       "181   225    0  \n",
       "27    175    0  \n",
       "\n",
       "[76 rows x 13 columns]"
      ]
     },
     "execution_count": 41,
     "metadata": {},
     "output_type": "execute_result"
    }
   ],
   "source": [
    "x_test"
   ]
  },
  {
   "cell_type": "code",
   "execution_count": 42,
   "id": "0ef2ce43",
   "metadata": {
    "execution": {
     "iopub.execute_input": "2022-10-28T13:30:52.805533Z",
     "iopub.status.busy": "2022-10-28T13:30:52.805090Z",
     "iopub.status.idle": "2022-10-28T13:30:52.818201Z",
     "shell.execute_reply": "2022-10-28T13:30:52.817189Z"
    },
    "papermill": {
     "duration": 0.025716,
     "end_time": "2022-10-28T13:30:52.820615",
     "exception": false,
     "start_time": "2022-10-28T13:30:52.794899",
     "status": "completed"
    },
    "tags": []
   },
   "outputs": [],
   "source": [
    "# feature scaling\n",
    "from sklearn.preprocessing import StandardScaler\n",
    "sc=StandardScaler()\n",
    "x_train=sc.fit_transform(x_train)\n",
    "x_test=sc.transform(x_test)"
   ]
  },
  {
   "cell_type": "code",
   "execution_count": 43,
   "id": "675cf6f9",
   "metadata": {
    "execution": {
     "iopub.execute_input": "2022-10-28T13:30:52.840003Z",
     "iopub.status.busy": "2022-10-28T13:30:52.839596Z",
     "iopub.status.idle": "2022-10-28T13:30:52.850908Z",
     "shell.execute_reply": "2022-10-28T13:30:52.849877Z"
    },
    "papermill": {
     "duration": 0.02372,
     "end_time": "2022-10-28T13:30:52.853206",
     "exception": false,
     "start_time": "2022-10-28T13:30:52.829486",
     "status": "completed"
    },
    "tags": []
   },
   "outputs": [
    {
     "data": {
      "text/html": [
       "<style>#sk-container-id-2 {color: black;}#sk-container-id-2 pre{padding: 0;}#sk-container-id-2 div.sk-toggleable {background-color: white;}#sk-container-id-2 label.sk-toggleable__label {cursor: pointer;display: block;width: 100%;margin-bottom: 0;padding: 0.3em;box-sizing: border-box;text-align: center;}#sk-container-id-2 label.sk-toggleable__label-arrow:before {content: \"▸\";float: left;margin-right: 0.25em;color: #696969;}#sk-container-id-2 label.sk-toggleable__label-arrow:hover:before {color: black;}#sk-container-id-2 div.sk-estimator:hover label.sk-toggleable__label-arrow:before {color: black;}#sk-container-id-2 div.sk-toggleable__content {max-height: 0;max-width: 0;overflow: hidden;text-align: left;background-color: #f0f8ff;}#sk-container-id-2 div.sk-toggleable__content pre {margin: 0.2em;color: black;border-radius: 0.25em;background-color: #f0f8ff;}#sk-container-id-2 input.sk-toggleable__control:checked~div.sk-toggleable__content {max-height: 200px;max-width: 100%;overflow: auto;}#sk-container-id-2 input.sk-toggleable__control:checked~label.sk-toggleable__label-arrow:before {content: \"▾\";}#sk-container-id-2 div.sk-estimator input.sk-toggleable__control:checked~label.sk-toggleable__label {background-color: #d4ebff;}#sk-container-id-2 div.sk-label input.sk-toggleable__control:checked~label.sk-toggleable__label {background-color: #d4ebff;}#sk-container-id-2 input.sk-hidden--visually {border: 0;clip: rect(1px 1px 1px 1px);clip: rect(1px, 1px, 1px, 1px);height: 1px;margin: -1px;overflow: hidden;padding: 0;position: absolute;width: 1px;}#sk-container-id-2 div.sk-estimator {font-family: monospace;background-color: #f0f8ff;border: 1px dotted black;border-radius: 0.25em;box-sizing: border-box;margin-bottom: 0.5em;}#sk-container-id-2 div.sk-estimator:hover {background-color: #d4ebff;}#sk-container-id-2 div.sk-parallel-item::after {content: \"\";width: 100%;border-bottom: 1px solid gray;flex-grow: 1;}#sk-container-id-2 div.sk-label:hover label.sk-toggleable__label {background-color: #d4ebff;}#sk-container-id-2 div.sk-serial::before {content: \"\";position: absolute;border-left: 1px solid gray;box-sizing: border-box;top: 0;bottom: 0;left: 50%;z-index: 0;}#sk-container-id-2 div.sk-serial {display: flex;flex-direction: column;align-items: center;background-color: white;padding-right: 0.2em;padding-left: 0.2em;position: relative;}#sk-container-id-2 div.sk-item {position: relative;z-index: 1;}#sk-container-id-2 div.sk-parallel {display: flex;align-items: stretch;justify-content: center;background-color: white;position: relative;}#sk-container-id-2 div.sk-item::before, #sk-container-id-2 div.sk-parallel-item::before {content: \"\";position: absolute;border-left: 1px solid gray;box-sizing: border-box;top: 0;bottom: 0;left: 50%;z-index: -1;}#sk-container-id-2 div.sk-parallel-item {display: flex;flex-direction: column;z-index: 1;position: relative;background-color: white;}#sk-container-id-2 div.sk-parallel-item:first-child::after {align-self: flex-end;width: 50%;}#sk-container-id-2 div.sk-parallel-item:last-child::after {align-self: flex-start;width: 50%;}#sk-container-id-2 div.sk-parallel-item:only-child::after {width: 0;}#sk-container-id-2 div.sk-dashed-wrapped {border: 1px dashed gray;margin: 0 0.4em 0.5em 0.4em;box-sizing: border-box;padding-bottom: 0.4em;background-color: white;}#sk-container-id-2 div.sk-label label {font-family: monospace;font-weight: bold;display: inline-block;line-height: 1.2em;}#sk-container-id-2 div.sk-label-container {text-align: center;}#sk-container-id-2 div.sk-container {/* jupyter's `normalize.less` sets `[hidden] { display: none; }` but bootstrap.min.css set `[hidden] { display: none !important; }` so we also need the `!important` here to be able to override the default hidden behavior on the sphinx rendered scikit-learn.org. See: https://github.com/scikit-learn/scikit-learn/issues/21755 */display: inline-block !important;position: relative;}#sk-container-id-2 div.sk-text-repr-fallback {display: none;}</style><div id=\"sk-container-id-2\" class=\"sk-top-container\"><div class=\"sk-text-repr-fallback\"><pre>DecisionTreeClassifier(criterion=&#x27;entropy&#x27;, max_depth=6)</pre><b>In a Jupyter environment, please rerun this cell to show the HTML representation or trust the notebook. <br />On GitHub, the HTML representation is unable to render, please try loading this page with nbviewer.org.</b></div><div class=\"sk-container\" hidden><div class=\"sk-item\"><div class=\"sk-estimator sk-toggleable\"><input class=\"sk-toggleable__control sk-hidden--visually\" id=\"sk-estimator-id-2\" type=\"checkbox\" checked><label for=\"sk-estimator-id-2\" class=\"sk-toggleable__label sk-toggleable__label-arrow\">DecisionTreeClassifier</label><div class=\"sk-toggleable__content\"><pre>DecisionTreeClassifier(criterion=&#x27;entropy&#x27;, max_depth=6)</pre></div></div></div></div></div>"
      ],
      "text/plain": [
       "DecisionTreeClassifier(criterion='entropy', max_depth=6)"
      ]
     },
     "execution_count": 43,
     "metadata": {},
     "output_type": "execute_result"
    }
   ],
   "source": [
    "#training our model\n",
    "dt=DecisionTreeClassifier(criterion='entropy',max_depth=6)\n",
    "dt.fit(x_train,y_train)"
   ]
  },
  {
   "cell_type": "code",
   "execution_count": 44,
   "id": "f42b42d5",
   "metadata": {
    "execution": {
     "iopub.execute_input": "2022-10-28T13:30:52.872795Z",
     "iopub.status.busy": "2022-10-28T13:30:52.872400Z",
     "iopub.status.idle": "2022-10-28T13:30:52.878102Z",
     "shell.execute_reply": "2022-10-28T13:30:52.877007Z"
    },
    "papermill": {
     "duration": 0.018377,
     "end_time": "2022-10-28T13:30:52.880547",
     "exception": false,
     "start_time": "2022-10-28T13:30:52.862170",
     "status": "completed"
    },
    "tags": []
   },
   "outputs": [],
   "source": [
    "#predicting the value on testing data\n",
    "y_pred=dt.predict(x_test)"
   ]
  },
  {
   "cell_type": "code",
   "execution_count": 45,
   "id": "2adede7e",
   "metadata": {
    "execution": {
     "iopub.execute_input": "2022-10-28T13:30:52.900082Z",
     "iopub.status.busy": "2022-10-28T13:30:52.899671Z",
     "iopub.status.idle": "2022-10-28T13:30:52.910793Z",
     "shell.execute_reply": "2022-10-28T13:30:52.909616Z"
    },
    "papermill": {
     "duration": 0.023379,
     "end_time": "2022-10-28T13:30:52.913042",
     "exception": false,
     "start_time": "2022-10-28T13:30:52.889663",
     "status": "completed"
    },
    "tags": []
   },
   "outputs": [
    {
     "name": "stdout",
     "output_type": "stream",
     "text": [
      "[[25  8]\n",
      " [ 4 39]]\n",
      "\n",
      "The accuracy of decisiontreelassifier on Heart disease prediction dataset is 84.21%\n"
     ]
    }
   ],
   "source": [
    "#ploting the data\n",
    "from sklearn.metrics import confusion_matrix\n",
    "conf_mat=confusion_matrix(y_test,y_pred)\n",
    "print(conf_mat)\n",
    "accuracy=dt.score(x_test,y_test)\n",
    "print(\"\\nThe accuracy of decisiontreelassifier on Heart disease prediction dataset is \"+str(round(accuracy*100,2))+\"%\")"
   ]
  },
  {
   "cell_type": "code",
   "execution_count": 56,
   "id": "2a2eb0d5",
   "metadata": {},
   "outputs": [
    {
     "data": {
      "text/plain": [
       "13"
      ]
     },
     "execution_count": 56,
     "metadata": {},
     "output_type": "execute_result"
    }
   ],
   "source": [
    "len(x_test[1])"
   ]
  },
  {
   "cell_type": "code",
   "execution_count": 62,
   "id": "28912139",
   "metadata": {},
   "outputs": [
    {
     "name": "stdout",
     "output_type": "stream",
     "text": [
      "The Patient Is Likely To Have Heart Disease\n"
     ]
    }
   ],
   "source": [
    "input_data = {\n",
    "    'age': 60,\n",
    "    'sex': 1,\n",
    "    'cp': 3,\n",
    "    'trtbps':143,\n",
    "    'chol': 233,\n",
    "    'fbs': 1,\n",
    "    'restecg': 0,\n",
    "    'thalachh': 150,\n",
    "    'exng': 0,\n",
    "    'oldpeak': 2.4,\n",
    "    'slp': 0,\n",
    "    'caa': 0,\n",
    "    'thall': 1\n",
    "}\n",
    "input_data = pd.DataFrame([input_data])\n",
    "input_data = sc.fit_transform(input_data)\n",
    "prediction = dt.predict(input_data)\n",
    "\n",
    "if prediction[0] == 1:\n",
    "    print(\"The Patient Is Likely To Have Heart Disease\")\n",
    "else:\n",
    "    print(\"The Patient Is Okay\")"
   ]
  }
 ],
 "metadata": {
  "kernelspec": {
   "display_name": "Python 3",
   "language": "python",
   "name": "python3"
  },
  "language_info": {
   "codemirror_mode": {
    "name": "ipython",
    "version": 3
   },
   "file_extension": ".py",
   "mimetype": "text/x-python",
   "name": "python",
   "nbconvert_exporter": "python",
   "pygments_lexer": "ipython3",
   "version": "3.11.4"
  },
  "papermill": {
   "default_parameters": {},
   "duration": 13.26413,
   "end_time": "2022-10-28T13:30:53.680528",
   "environment_variables": {},
   "exception": null,
   "input_path": "__notebook__.ipynb",
   "output_path": "__notebook__.ipynb",
   "parameters": {},
   "start_time": "2022-10-28T13:30:40.416398",
   "version": "2.3.4"
  }
 },
 "nbformat": 4,
 "nbformat_minor": 5
}
